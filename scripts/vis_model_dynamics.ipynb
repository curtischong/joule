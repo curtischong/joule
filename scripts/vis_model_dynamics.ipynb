{
 "cells": [
  {
   "cell_type": "code",
   "execution_count": 24,
   "id": "03b7f2f6-6c1a-485d-a4b9-8a7a81eaaa42",
   "metadata": {
    "tags": []
   },
   "outputs": [],
   "source": [
    "import json\n",
    "import lmdb\n",
    "from pathlib import Path\n",
    "import pickle"
   ]
  },
  {
   "cell_type": "code",
   "execution_count": 15,
   "id": "df760672-3c05-4210-b670-13c2adc88afd",
   "metadata": {
    "tags": []
   },
   "outputs": [],
   "source": [
    "predictions = \"../out/worse_mae/worse_preds_epoch_1.json\"\n",
    "\n",
    "with open(predictions) as f:\n",
    "    res = json.load(f)\n",
    "energy_losses = sorted(res[\"worse_energy\"], key=lambda x: x[\"energy_loss\"], reverse=True)\n",
    "forces_losses = sorted(res[\"worse_forces\"], key=lambda x: x[\"forces_loss\"], reverse=True)"
   ]
  },
  {
   "cell_type": "code",
   "execution_count": 34,
   "id": "5f01aeb8-6a9e-445b-a553-fedfe125a39f",
   "metadata": {
    "tags": []
   },
   "outputs": [
    {
     "data": {
      "text/plain": [
       "49"
      ]
     },
     "execution_count": 34,
     "metadata": {},
     "output_type": "execute_result"
    }
   ],
   "source": [
    "# used to verify that we're getting the right element in the DB (cause they should have the same number of atoms as the num of pred_forces)\n",
    "len(forces_losses[0][\"pred_forces\"])"
   ]
  },
  {
   "cell_type": "code",
   "execution_count": 46,
   "id": "a9576d10-9e42-4d75-b13b-f6ad04757f22",
   "metadata": {
    "tags": []
   },
   "outputs": [
    {
     "data": {
      "text/plain": [
       "{'energy_loss': 215.30906677246094,\n",
       " 'pred_energy': -298.4591064453125,\n",
       " 'dataset_path': 'datasets/lmdb/real_mace3/val/0.lmdb',\n",
       " 'data_idx': 29139}"
      ]
     },
     "execution_count": 46,
     "metadata": {},
     "output_type": "execute_result"
    }
   ],
   "source": [
    "# used to verify that we're getting the right element in the DB (cause they should have the same number of atoms as the num of pred_forces)\n",
    "energy_losses[0]"
   ]
  },
  {
   "cell_type": "code",
   "execution_count": 62,
   "id": "3293a610-4cd6-433c-b5b1-62f6f03904cc",
   "metadata": {
    "tags": []
   },
   "outputs": [
    {
     "name": "stdout",
     "output_type": "stream",
     "text": [
      "energy loss: 130.66990661621094, num_atoms: 48\n"
     ]
    },
    {
     "data": {
      "text/html": [
       "\n",
       "        <iframe\n",
       "            width=\"100%\"\n",
       "            height=\"650\"\n",
       "            src=\"http://127.0.0.1:8884/\"\n",
       "            frameborder=\"0\"\n",
       "            allowfullscreen\n",
       "            \n",
       "        ></iframe>\n",
       "        "
      ],
      "text/plain": [
       "<IPython.lib.display.IFrame at 0x2df3c1e50>"
      ]
     },
     "metadata": {},
     "output_type": "display_data"
    }
   ],
   "source": [
    "import crystal_toolkit\n",
    "from pymatgen.core import Structure\n",
    "import numpy as np\n",
    "\n",
    "def connect_db(lmdb_path: Path | None = None) -> lmdb.Environment:\n",
    "    return lmdb.open(\n",
    "        str(lmdb_path),\n",
    "        subdir=False,\n",
    "        readonly=True,\n",
    "        lock=False,\n",
    "        readahead=True,\n",
    "        meminit=False,\n",
    "        max_readers=1,\n",
    "    )\n",
    "\n",
    "\n",
    "def tile_structure(lattice, species, coordinates, scale):\n",
    "    tiled_lattice = lattice * scale * 0.75\n",
    "    tiled_coordinates_list = []\n",
    "    tiled_species = []\n",
    "    for i in range(scale):\n",
    "        for j in range(scale):\n",
    "            for k in range(scale):\n",
    "                new_coords = (coordinates + np.array([i, j, k])) / scale\n",
    "                tiled_coordinates_list.append(new_coords)\n",
    "                tiled_species.extend(species)\n",
    "    tiled_coordinates = np.concatenate(tiled_coordinates_list, axis=0)\n",
    "    return tiled_lattice, tiled_species, tiled_coordinates\n",
    "\n",
    "def visualize_sample(loss_dict, tile_amount=1):\n",
    "    dataset_path = \"../\" + loss_dict[\"dataset_path\"]\n",
    "    data_idx = loss_dict[\"data_idx\"]\n",
    "    db = connect_db(dataset_path)\n",
    "    \n",
    "    datapoint_pickled = (\n",
    "        db\n",
    "        .begin()\n",
    "        .get(f\"{data_idx}\".encode(\"ascii\"))\n",
    "    )\n",
    "    res = pickle.loads(datapoint_pickled)\n",
    "    lattice = res.cell\n",
    "    species = res.atomic_numbers\n",
    "    coordinates = res.pos\n",
    "    tiled_lattice, tiled_species, tiled_coordinates = tile_structure(lattice, species, coordinates, tile_amount)\n",
    "    print(f\"energy loss: {loss_dict['energy_loss']}, num_atoms: {res.natoms}\")\n",
    "    display(Structure(tiled_lattice, tiled_species, tiled_coordinates))\n",
    "    \n",
    "visualize_sample(energy_losses[9], 1)"
   ]
  },
  {
   "cell_type": "code",
   "execution_count": 70,
   "id": "ec1d3580-1586-4b79-9236-ef3e0f2e8cab",
   "metadata": {
    "tags": []
   },
   "outputs": [
    {
     "name": "stdout",
     "output_type": "stream",
     "text": [
      "44\n",
      "48\n",
      "46\n",
      "46\n",
      "48\n",
      "46\n",
      "50\n",
      "49\n",
      "48\n",
      "48\n",
      "48\n",
      "48\n",
      "48\n",
      "48\n",
      "48\n",
      "40\n",
      "50\n",
      "50\n",
      "50\n",
      "48\n",
      "36\n",
      "48\n",
      "48\n",
      "49\n",
      "48\n",
      "50\n",
      "48\n",
      "46\n",
      "50\n",
      "50\n",
      "50\n",
      "46\n",
      "50\n",
      "48\n",
      "48\n",
      "50\n",
      "48\n",
      "49\n",
      "48\n",
      "48\n",
      "48\n",
      "48\n",
      "48\n",
      "46\n",
      "48\n",
      "48\n",
      "48\n",
      "46\n",
      "46\n",
      "44\n"
     ]
    }
   ],
   "source": [
    "# I want to see the number of atoms in each cell since I noticed that the model sucks at predicting the energy when there's a large number of atoms\n",
    "def visualize_sample(loss_dicts, tile_amount=1):\n",
    "    for loss_dict in loss_dicts:\n",
    "        dataset_path = \"../\" + loss_dict[\"dataset_path\"]\n",
    "        data_idx = loss_dict[\"data_idx\"]\n",
    "        db = connect_db(dataset_path)\n",
    "    \n",
    "        datapoint_pickled = (\n",
    "            db\n",
    "            .begin()\n",
    "            .get(f\"{data_idx}\".encode(\"ascii\"))\n",
    "        )\n",
    "        res = pickle.loads(datapoint_pickled)\n",
    "        print(res.natoms)\n",
    "visualize_sample(energy_losses)"
   ]
  }
 ],
 "metadata": {
  "kernelspec": {
   "display_name": "Python 3 (ipykernel)",
   "language": "python",
   "name": "python3"
  },
  "language_info": {
   "codemirror_mode": {
    "name": "ipython",
    "version": 3
   },
   "file_extension": ".py",
   "mimetype": "text/x-python",
   "name": "python",
   "nbconvert_exporter": "python",
   "pygments_lexer": "ipython3",
   "version": "3.11.8"
  }
 },
 "nbformat": 4,
 "nbformat_minor": 5
}
