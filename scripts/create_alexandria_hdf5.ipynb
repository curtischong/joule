{
 "cells": [
  {
   "cell_type": "code",
   "execution_count": 1,
   "id": "937af6fc-23dd-4be3-af99-c07da29fa4c6",
   "metadata": {
    "tags": []
   },
   "outputs": [],
   "source": [
    "import polars as pl\n",
    "import json, bz2\n",
    "from pymatgen.entries.computed_entries import ComputedStructureEntry\n",
    "import time"
   ]
  },
  {
   "cell_type": "code",
   "execution_count": 2,
   "id": "034cedea-8408-45a8-8961-e43c5322b566",
   "metadata": {
    "tags": []
   },
   "outputs": [
    {
     "name": "stderr",
     "output_type": "stream",
     "text": [
      "/Users/curtischong/Documents/dev/joule/venv/lib/python3.11/site-packages/pymatgen/core/periodic_table.py:142: UserWarning: No Pauling electronegativity for Ar. Setting to NaN. This has no physical meaning, and is mainly done to avoid errors caused by the code expecting a float.\n",
      "  warnings.warn(\n",
      "/Users/curtischong/Documents/dev/joule/venv/lib/python3.11/site-packages/pymatgen/core/periodic_table.py:142: UserWarning: No Pauling electronegativity for Ne. Setting to NaN. This has no physical meaning, and is mainly done to avoid errors caused by the code expecting a float.\n",
      "  warnings.warn(\n"
     ]
    },
    {
     "name": "stdout",
     "output_type": "stream",
     "text": [
      "Found 415419 entries\n",
      "\n",
      "Entry:\n",
      " None ComputedStructureEntry - Ac4          (Ac)\n",
      "Energy (Uncorrected)     = -18.0148  eV (-4.5037  eV/atom)\n",
      "Correction               = 0.0000    eV (0.0000   eV/atom)\n",
      "Energy (Final)           = -18.0148  eV (-4.5037  eV/atom)\n",
      "Energy Adjustments:\n",
      "  Manual energy adjustment: 0.0000    eV (0.0000   eV/atom)\n",
      "Parameters:\n",
      "Data:\n",
      "  mat_id                 = agm003188153\n",
      "  prototype_id           = A_22_spg194\n",
      "  location               = database/batch-000/Ac/Ac/xxx_02s-00_agm003188153_spg194\n",
      "  formula                = Ac\n",
      "  elements               = ['Ac']\n",
      "  spg                    = 194\n",
      "  nsites                 = 4\n",
      "  stress                 = [[0.8811667, 0.0, 0.0], [0.0, 0.8811667, 0.0], [0.0, 0.0, -0.06628691]]\n",
      "  energy_total           = -18.01479609\n",
      "  total_mag              = 0.0001825\n",
      "  band_gap_ind           = 0.0\n",
      "  band_gap_dir           = 0.0056\n",
      "  dos_ef                 = 6.1911793\n",
      "  energy_corrected       = -18.014795\n",
      "  e_above_hull           = 0.0\n",
      "  e_form                 = 0.0\n",
      "  e_phase_separation     = 0.0\n",
      "  decomposition          =  Ac \n",
      "\n",
      "Structure:\n",
      " Full Formula (Ac4)\n",
      "Reduced Formula: Ac\n",
      "abc   :   3.922529   3.922529  12.694992\n",
      "angles:  90.000000  90.000000 120.000000\n",
      "pbc   :       True       True       True\n",
      "Sites (4)\n",
      "  #  SP           a         b     c    charge  forces               magmom\n",
      "---  ----  --------  --------  ----  --------  -----------------  --------\n",
      "  0  Ac    0         0         0        8.374  [-0.0, 0.0, -0.0]         0\n",
      "  1  Ac    0.333333  0.666667  0.25     8.373  [0.0, -0.0, 0.0]          0\n",
      "  2  Ac    0         0         0.5      8.374  [-0.0, 0.0, -0.0]         0\n",
      "  3  Ac    0.666667  0.333333  0.75     8.373  [-0.0, 0.0, -0.0]         0\n"
     ]
    }
   ],
   "source": [
    "start = time.time()\n",
    "all_entries = []\n",
    "for i in range(5):\n",
    "    file_path = f\"../datasets/alexandria/alexandria_ps_00{i}.json.bz2\"\n",
    "\n",
    "    with bz2.open(file_path) as fh:\n",
    "        data = json.loads(fh.read().decode('utf-8'))\n",
    "        all_entries.extend(data[\"entries\"])\n",
    "\n",
    "entries = [ComputedStructureEntry.from_dict(e) for e in all_entries]\n",
    "\n",
    "print(\"Found \" + str(len(entries)) + \" entries\")\n",
    "print(\"\\nEntry:\\n\", entries[0])\n",
    "print(\"\\nStructure:\\n\", entries[0].structure)\n",
    "end = time.time()\n",
    "print(f\"elapsed: {(end - start).total_seconds()}\") "
   ]
  },
  {
   "cell_type": "code",
   "execution_count": 3,
   "id": "217fe2e0-de15-47a9-b13d-9a725c5a2c0f",
   "metadata": {
    "tags": []
   },
   "outputs": [],
   "source": [
    "all_data = [e.data for e in all_entries]"
   ]
  },
  {
   "cell_type": "code",
   "execution_count": 7,
   "id": "f96cac0f-0e08-423e-918e-cd1e6c760581",
   "metadata": {
    "tags": []
   },
   "outputs": [
    {
     "data": {
      "text/html": [
       "<div>\n",
       "<style scoped>\n",
       "    .dataframe tbody tr th:only-of-type {\n",
       "        vertical-align: middle;\n",
       "    }\n",
       "\n",
       "    .dataframe tbody tr th {\n",
       "        vertical-align: top;\n",
       "    }\n",
       "\n",
       "    .dataframe thead th {\n",
       "        text-align: right;\n",
       "    }\n",
       "</style>\n",
       "<table border=\"1\" class=\"dataframe\">\n",
       "  <thead>\n",
       "    <tr style=\"text-align: right;\">\n",
       "      <th></th>\n",
       "      <th>mat_id</th>\n",
       "      <th>prototype_id</th>\n",
       "      <th>location</th>\n",
       "      <th>formula</th>\n",
       "      <th>elements</th>\n",
       "      <th>spg</th>\n",
       "      <th>nsites</th>\n",
       "      <th>stress</th>\n",
       "      <th>energy_total</th>\n",
       "      <th>total_mag</th>\n",
       "      <th>band_gap_ind</th>\n",
       "      <th>band_gap_dir</th>\n",
       "      <th>dos_ef</th>\n",
       "      <th>energy_corrected</th>\n",
       "      <th>e_above_hull</th>\n",
       "      <th>e_form</th>\n",
       "      <th>e_phase_separation</th>\n",
       "      <th>decomposition</th>\n",
       "    </tr>\n",
       "  </thead>\n",
       "  <tbody>\n",
       "    <tr>\n",
       "      <th>0</th>\n",
       "      <td>agm003188153</td>\n",
       "      <td>A_22_spg194</td>\n",
       "      <td>database/batch-000/Ac/Ac/xxx_02s-00_agm0031881...</td>\n",
       "      <td>Ac</td>\n",
       "      <td>[Ac]</td>\n",
       "      <td>194</td>\n",
       "      <td>4</td>\n",
       "      <td>[[0.8811667, 0.0, 0.0], [0.0, 0.8811667, 0.0],...</td>\n",
       "      <td>-18.014796</td>\n",
       "      <td>0.000182</td>\n",
       "      <td>0.0</td>\n",
       "      <td>0.0056</td>\n",
       "      <td>6.191179</td>\n",
       "      <td>-18.014795</td>\n",
       "      <td>0.000000</td>\n",
       "      <td>0.000000</td>\n",
       "      <td>0.000000</td>\n",
       "      <td>Ac</td>\n",
       "    </tr>\n",
       "    <tr>\n",
       "      <th>1</th>\n",
       "      <td>agm003157159</td>\n",
       "      <td>A_18_spg225</td>\n",
       "      <td>database/batch-000/Ac/Ac/xxx_02s-00_agm0031571...</td>\n",
       "      <td>Ac</td>\n",
       "      <td>[Ac]</td>\n",
       "      <td>225</td>\n",
       "      <td>1</td>\n",
       "      <td>[[1.2855375, 0.0, 0.0], [0.0, 1.2855375, 0.0],...</td>\n",
       "      <td>-4.491309</td>\n",
       "      <td>-0.000146</td>\n",
       "      <td>0.0</td>\n",
       "      <td>0.0000</td>\n",
       "      <td>1.978073</td>\n",
       "      <td>-4.491309</td>\n",
       "      <td>0.012390</td>\n",
       "      <td>0.012390</td>\n",
       "      <td>0.012390</td>\n",
       "      <td>Ac</td>\n",
       "    </tr>\n",
       "    <tr>\n",
       "      <th>2</th>\n",
       "      <td>agm003157511</td>\n",
       "      <td>A_11_spg194</td>\n",
       "      <td>database/batch-000/Ac/Ac/xxx_02s-00_agm0031575...</td>\n",
       "      <td>Ac</td>\n",
       "      <td>[Ac]</td>\n",
       "      <td>194</td>\n",
       "      <td>2</td>\n",
       "      <td>[[1.0878205, 0.0, 0.0], [0.0, 1.0878205, 0.0],...</td>\n",
       "      <td>-8.958979</td>\n",
       "      <td>-0.000517</td>\n",
       "      <td>0.0</td>\n",
       "      <td>0.0001</td>\n",
       "      <td>3.598175</td>\n",
       "      <td>-8.958980</td>\n",
       "      <td>0.024209</td>\n",
       "      <td>0.024209</td>\n",
       "      <td>0.024209</td>\n",
       "      <td>Ac</td>\n",
       "    </tr>\n",
       "    <tr>\n",
       "      <th>3</th>\n",
       "      <td>agm002194689</td>\n",
       "      <td>ABC2_3_spg225</td>\n",
       "      <td>database/batch-000/Ag/AgAuAc2/xxx_02s-00_agm00...</td>\n",
       "      <td>Ac2AgAu</td>\n",
       "      <td>[Ac, Au, Ag]</td>\n",
       "      <td>225</td>\n",
       "      <td>4</td>\n",
       "      <td>[[1.6482437, 0.0, 0.0], [0.0, 1.6482437, 0.0],...</td>\n",
       "      <td>-18.184449</td>\n",
       "      <td>-0.000089</td>\n",
       "      <td>0.0</td>\n",
       "      <td>0.0000</td>\n",
       "      <td>2.548746</td>\n",
       "      <td>-18.184448</td>\n",
       "      <td>0.001369</td>\n",
       "      <td>-0.485460</td>\n",
       "      <td>0.001369</td>\n",
       "      <td>AcAg  AcAu</td>\n",
       "    </tr>\n",
       "    <tr>\n",
       "      <th>4</th>\n",
       "      <td>agm002214707</td>\n",
       "      <td>ABC2_3_spg225</td>\n",
       "      <td>database/batch-000/Ge/GeAgAc2/xxx_02s-00_agm00...</td>\n",
       "      <td>Ac2AgGe</td>\n",
       "      <td>[Ac, Ge, Ag]</td>\n",
       "      <td>225</td>\n",
       "      <td>4</td>\n",
       "      <td>[[1.6303308, 0.0, 0.0], [0.0, 1.6303308, 0.0],...</td>\n",
       "      <td>-19.047154</td>\n",
       "      <td>0.000005</td>\n",
       "      <td>0.0</td>\n",
       "      <td>0.0000</td>\n",
       "      <td>3.554076</td>\n",
       "      <td>-19.047153</td>\n",
       "      <td>0.000000</td>\n",
       "      <td>-0.447397</td>\n",
       "      <td>-0.057872</td>\n",
       "      <td>Ac2AgGe</td>\n",
       "    </tr>\n",
       "  </tbody>\n",
       "</table>\n",
       "</div>"
      ],
      "text/plain": [
       "         mat_id   prototype_id  \\\n",
       "0  agm003188153    A_22_spg194   \n",
       "1  agm003157159    A_18_spg225   \n",
       "2  agm003157511    A_11_spg194   \n",
       "3  agm002194689  ABC2_3_spg225   \n",
       "4  agm002214707  ABC2_3_spg225   \n",
       "\n",
       "                                            location  formula      elements  \\\n",
       "0  database/batch-000/Ac/Ac/xxx_02s-00_agm0031881...       Ac          [Ac]   \n",
       "1  database/batch-000/Ac/Ac/xxx_02s-00_agm0031571...       Ac          [Ac]   \n",
       "2  database/batch-000/Ac/Ac/xxx_02s-00_agm0031575...       Ac          [Ac]   \n",
       "3  database/batch-000/Ag/AgAuAc2/xxx_02s-00_agm00...  Ac2AgAu  [Ac, Au, Ag]   \n",
       "4  database/batch-000/Ge/GeAgAc2/xxx_02s-00_agm00...  Ac2AgGe  [Ac, Ge, Ag]   \n",
       "\n",
       "   spg  nsites                                             stress  \\\n",
       "0  194       4  [[0.8811667, 0.0, 0.0], [0.0, 0.8811667, 0.0],...   \n",
       "1  225       1  [[1.2855375, 0.0, 0.0], [0.0, 1.2855375, 0.0],...   \n",
       "2  194       2  [[1.0878205, 0.0, 0.0], [0.0, 1.0878205, 0.0],...   \n",
       "3  225       4  [[1.6482437, 0.0, 0.0], [0.0, 1.6482437, 0.0],...   \n",
       "4  225       4  [[1.6303308, 0.0, 0.0], [0.0, 1.6303308, 0.0],...   \n",
       "\n",
       "   energy_total  total_mag  band_gap_ind  band_gap_dir    dos_ef  \\\n",
       "0    -18.014796   0.000182           0.0        0.0056  6.191179   \n",
       "1     -4.491309  -0.000146           0.0        0.0000  1.978073   \n",
       "2     -8.958979  -0.000517           0.0        0.0001  3.598175   \n",
       "3    -18.184449  -0.000089           0.0        0.0000  2.548746   \n",
       "4    -19.047154   0.000005           0.0        0.0000  3.554076   \n",
       "\n",
       "   energy_corrected  e_above_hull    e_form  e_phase_separation decomposition  \n",
       "0        -18.014795      0.000000  0.000000            0.000000           Ac   \n",
       "1         -4.491309      0.012390  0.012390            0.012390           Ac   \n",
       "2         -8.958980      0.024209  0.024209            0.024209           Ac   \n",
       "3        -18.184448      0.001369 -0.485460            0.001369   AcAg  AcAu   \n",
       "4        -19.047153      0.000000 -0.447397           -0.057872      Ac2AgGe   "
      ]
     },
     "execution_count": 7,
     "metadata": {},
     "output_type": "execute_result"
    }
   ],
   "source": [
    "import pandas as pd\n",
    "df = pd.DataFrame.from_records(all_data)\n",
    "df.head()"
   ]
  },
  {
   "cell_type": "code",
   "execution_count": 8,
   "id": "821f13d0-0f45-46d8-9d12-7c4c1eed733a",
   "metadata": {
    "tags": []
   },
   "outputs": [
    {
     "data": {
      "text/plain": [
       "Index(['mat_id', 'prototype_id', 'location', 'formula', 'elements', 'spg',\n",
       "       'nsites', 'stress', 'energy_total', 'total_mag', 'band_gap_ind',\n",
       "       'band_gap_dir', 'dos_ef', 'energy_corrected', 'e_above_hull', 'e_form',\n",
       "       'e_phase_separation', 'decomposition'],\n",
       "      dtype='object')"
      ]
     },
     "execution_count": 8,
     "metadata": {},
     "output_type": "execute_result"
    }
   ],
   "source": [
    "df.columns"
   ]
  },
  {
   "cell_type": "code",
   "execution_count": 10,
   "id": "5492c5cc-aa08-4c2a-8026-decc5d819d77",
   "metadata": {
    "tags": []
   },
   "outputs": [
    {
     "name": "stderr",
     "output_type": "stream",
     "text": [
      "/var/folders/9p/7dbn98pd4vvb3bnq420r8hzw0000gn/T/ipykernel_51314/197112619.py:1: PerformanceWarning: \n",
      "your performance may suffer as PyTables will pickle object types that it cannot\n",
      "map directly to c-types [inferred_type->mixed,key->block2_values] [items->Index(['mat_id', 'prototype_id', 'location', 'formula', 'elements', 'stress',\n",
      "       'decomposition'],\n",
      "      dtype='object')]\n",
      "\n",
      "  df.to_hdf('../datasets/alexandria_all.h5', key='df', mode='w')\n"
     ]
    }
   ],
   "source": [
    "df.to_hdf('../datasets/alexandria_all.h5', key='df', mode='w') "
   ]
  }
 ],
 "metadata": {
  "kernelspec": {
   "display_name": "Python 3 (ipykernel)",
   "language": "python",
   "name": "python3"
  },
  "language_info": {
   "codemirror_mode": {
    "name": "ipython",
    "version": 3
   },
   "file_extension": ".py",
   "mimetype": "text/x-python",
   "name": "python",
   "nbconvert_exporter": "python",
   "pygments_lexer": "ipython3",
   "version": "3.11.0"
  }
 },
 "nbformat": 4,
 "nbformat_minor": 5
}
