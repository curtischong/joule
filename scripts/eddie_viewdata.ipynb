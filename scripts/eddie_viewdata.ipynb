{
 "cells": [
  {
   "cell_type": "code",
   "execution_count": null,
   "id": "a72af611-c94d-407d-a7f2-41d8c6c879ed",
   "metadata": {},
   "outputs": [],
   "source": []
  },
  {
   "cell_type": "code",
   "execution_count": 5,
   "id": "5e7c9d87-5115-49be-8c53-946d3f4dd7da",
   "metadata": {},
   "outputs": [
    {
     "name": "stdout",
     "output_type": "stream",
     "text": [
      "Cloning into 'BOTNet-datasets'...\n",
      "remote: Enumerating objects: 57, done.\u001b[K\n",
      "remote: Counting objects: 100% (57/57), done.\u001b[K\n",
      "remote: Compressing objects: 100% (50/50), done.\u001b[K\n",
      "remote: Total 57 (delta 13), reused 37 (delta 7), pack-reused 0\u001b[K\n",
      "Receiving objects: 100% (57/57), 28.73 MiB | 40.75 MiB/s, done.\n",
      "Resolving deltas: 100% (13/13), done.\n"
     ]
    }
   ],
   "source": [
    "!git clone https://github.com/davkovacs/BOTNet-datasets.git\n",
    "#this is only 500 long"
   ]
  },
  {
   "cell_type": "code",
   "execution_count": 6,
   "id": "8c4ad845-3b59-4794-8584-506f62defdd5",
   "metadata": {
    "tags": []
   },
   "outputs": [
    {
     "name": "stdout",
     "output_type": "stream",
     "text": [
      "Number of rows (configurations): 500\n",
      "Atoms(symbols='C3HCON2H2CH2C2H2C3HCHCH3', pbc=False, cell=[50.0, 50.0, 50.0], calculator=SinglePointCalculator(...))\n"
     ]
    }
   ],
   "source": [
    "import ase.io\n",
    "\n",
    "dataset_path = 'BOTNet-datasets/dataset_3BPA/train_300K.xyz'\n",
    "atoms_list = ase.io.read(dataset_path, index=':')\n",
    "num_rows = len(atoms_list)\n",
    "print(f'Number of rows (configurations): {num_rows}')\n",
    "\n",
    "#Details of first config\n",
    "print(atoms_list[0])"
   ]
  },
  {
   "cell_type": "code",
   "execution_count": null,
   "id": "4969af38-9ffa-462b-aefe-68fc422fd240",
   "metadata": {},
   "outputs": [],
   "source": []
  },
  {
   "cell_type": "code",
   "execution_count": 2,
   "id": "9862ece2-a17a-4a27-ab80-23c8072965d2",
   "metadata": {
    "collapsed": true,
    "jupyter": {
     "outputs_hidden": true
    },
    "tags": []
   },
   "outputs": [
    {
     "ename": "FileNotFoundError",
     "evalue": "[Errno 2] No such file or directory: '/datset/training_data.zip'",
     "output_type": "error",
     "traceback": [
      "\u001b[0;31m---------------------------------------------------------------------------\u001b[0m",
      "\u001b[0;31mFileNotFoundError\u001b[0m                         Traceback (most recent call last)",
      "Cell \u001b[0;32mIn[2], line 5\u001b[0m\n\u001b[1;32m      3\u001b[0m zip_file_path \u001b[38;5;241m=\u001b[39m \u001b[38;5;124m'\u001b[39m\u001b[38;5;124m/datset/training_data.zip\u001b[39m\u001b[38;5;124m'\u001b[39m\n\u001b[1;32m      4\u001b[0m \u001b[38;5;66;03m# Check the size of the uploaded file\u001b[39;00m\n\u001b[0;32m----> 5\u001b[0m file_size \u001b[38;5;241m=\u001b[39m \u001b[43mos\u001b[49m\u001b[38;5;241;43m.\u001b[39;49m\u001b[43mpath\u001b[49m\u001b[38;5;241;43m.\u001b[39;49m\u001b[43mgetsize\u001b[49m\u001b[43m(\u001b[49m\u001b[43mzip_file_path\u001b[49m\u001b[43m)\u001b[49m \u001b[38;5;241m/\u001b[39m (\u001b[38;5;241m1024\u001b[39m \u001b[38;5;241m*\u001b[39m \u001b[38;5;241m1024\u001b[39m)\n\u001b[1;32m      6\u001b[0m \u001b[38;5;28mprint\u001b[39m(\u001b[38;5;124mf\u001b[39m\u001b[38;5;124m'\u001b[39m\u001b[38;5;124mUploaded file size: \u001b[39m\u001b[38;5;132;01m{\u001b[39;00mfile_size\u001b[38;5;132;01m:\u001b[39;00m\u001b[38;5;124m.2f\u001b[39m\u001b[38;5;132;01m}\u001b[39;00m\u001b[38;5;124m MB\u001b[39m\u001b[38;5;124m'\u001b[39m)\n",
      "File \u001b[0;32m<frozen genericpath>:50\u001b[0m, in \u001b[0;36mgetsize\u001b[0;34m(filename)\u001b[0m\n",
      "\u001b[0;31mFileNotFoundError\u001b[0m: [Errno 2] No such file or directory: '/datset/training_data.zip'"
     ]
    }
   ],
   "source": [
    "import os\n",
    "\n",
    "zip_file_path = 'training_data.zip'\n",
    "# Check the size of the uploaded file\n",
    "file_size = os.path.getsize(zip_file_path) / (1024 * 1024)\n",
    "print(f'Uploaded file size: {file_size:.2f} MB')"
   ]
  },
  {
   "cell_type": "code",
   "execution_count": 3,
   "id": "311a32e9-5ad8-4fde-83ef-a08aabb51523",
   "metadata": {
    "collapsed": true,
    "jupyter": {
     "outputs_hidden": true
    },
    "tags": []
   },
   "outputs": [
    {
     "ename": "FileNotFoundError",
     "evalue": "[Errno 2] No such file or directory: './datasets/training_data.zip'",
     "output_type": "error",
     "traceback": [
      "\u001b[0;31m---------------------------------------------------------------------------\u001b[0m",
      "\u001b[0;31mFileNotFoundError\u001b[0m                         Traceback (most recent call last)",
      "Cell \u001b[0;32mIn[3], line 8\u001b[0m\n\u001b[1;32m      5\u001b[0m extract_dir \u001b[38;5;241m=\u001b[39m \u001b[38;5;124m'\u001b[39m\u001b[38;5;124mmptrj-gga-ggapu\u001b[39m\u001b[38;5;124m'\u001b[39m\n\u001b[1;32m      7\u001b[0m os\u001b[38;5;241m.\u001b[39mmakedirs(extract_dir, exist_ok\u001b[38;5;241m=\u001b[39m\u001b[38;5;28;01mTrue\u001b[39;00m)\n\u001b[0;32m----> 8\u001b[0m \u001b[38;5;28;01mwith\u001b[39;00m \u001b[43mzipfile\u001b[49m\u001b[38;5;241;43m.\u001b[39;49m\u001b[43mZipFile\u001b[49m\u001b[43m(\u001b[49m\u001b[43mzip_file_path\u001b[49m\u001b[43m,\u001b[49m\u001b[43m \u001b[49m\u001b[38;5;124;43m'\u001b[39;49m\u001b[38;5;124;43mr\u001b[39;49m\u001b[38;5;124;43m'\u001b[39;49m\u001b[43m)\u001b[49m \u001b[38;5;28;01mas\u001b[39;00m zip_ref:\n\u001b[1;32m      9\u001b[0m     zip_ref\u001b[38;5;241m.\u001b[39mextractall(extract_dir)\n\u001b[1;32m     11\u001b[0m extracted_files \u001b[38;5;241m=\u001b[39m os\u001b[38;5;241m.\u001b[39mlistdir(extract_dir)\n",
      "File \u001b[0;32m/usr/lib/python3.11/zipfile.py:1294\u001b[0m, in \u001b[0;36mZipFile.__init__\u001b[0;34m(self, file, mode, compression, allowZip64, compresslevel, strict_timestamps, metadata_encoding)\u001b[0m\n\u001b[1;32m   1292\u001b[0m \u001b[38;5;28;01mwhile\u001b[39;00m \u001b[38;5;28;01mTrue\u001b[39;00m:\n\u001b[1;32m   1293\u001b[0m     \u001b[38;5;28;01mtry\u001b[39;00m:\n\u001b[0;32m-> 1294\u001b[0m         \u001b[38;5;28mself\u001b[39m\u001b[38;5;241m.\u001b[39mfp \u001b[38;5;241m=\u001b[39m \u001b[43mio\u001b[49m\u001b[38;5;241;43m.\u001b[39;49m\u001b[43mopen\u001b[49m\u001b[43m(\u001b[49m\u001b[43mfile\u001b[49m\u001b[43m,\u001b[49m\u001b[43m \u001b[49m\u001b[43mfilemode\u001b[49m\u001b[43m)\u001b[49m\n\u001b[1;32m   1295\u001b[0m     \u001b[38;5;28;01mexcept\u001b[39;00m \u001b[38;5;167;01mOSError\u001b[39;00m:\n\u001b[1;32m   1296\u001b[0m         \u001b[38;5;28;01mif\u001b[39;00m filemode \u001b[38;5;129;01min\u001b[39;00m modeDict:\n",
      "\u001b[0;31mFileNotFoundError\u001b[0m: [Errno 2] No such file or directory: './datasets/training_data.zip'"
     ]
    }
   ],
   "source": [
    "#unzip the 1.5GB file\n",
    "import zipfile\n",
    "\n",
    "zip_file_path = 'training_data.zip'\n",
    "extract_dir = 'mptrj-gga-ggapu'\n",
    "\n",
    "os.makedirs(extract_dir, exist_ok=True)\n",
    "with zipfile.ZipFile(zip_file_path, 'r') as zip_ref:\n",
    "    zip_ref.extractall(extract_dir)\n",
    "    \n",
    "extracted_files = os.listdir(extract_dir)\n",
    "num_files = len(extracted_files)\n",
    "print(f'Number of files extracted: {num_files}')\n",
    "print('First few files:', extracted_files[:5])"
   ]
  },
  {
   "cell_type": "code",
   "execution_count": 5,
   "id": "4adc2b70-47cb-48e4-afa7-6e2273685c61",
   "metadata": {
    "tags": []
   },
   "outputs": [
    {
     "name": "stdout",
     "output_type": "stream",
     "text": [
      "Number of files in main directory: 145923\n",
      "First 10 files in main directory: ['mp-1200374.extxyz', 'mp-1100682.extxyz', 'mp-1233512.extxyz', 'mp-605752.extxyz', 'mp-1233477.extxyz', 'mp-1185770.extxyz', 'mp-1216204.extxyz', 'mp-685608.extxyz', 'mp-757666.extxyz', 'mp-1227289.extxyz']\n"
     ]
    }
   ],
   "source": [
    "#print the first 10 files\n",
    "main_extract_dir = '../datasets/mptrj-gga-ggapu/mptrj-gga-ggapu'\n",
    "extracted_files = os.listdir(main_extract_dir)\n",
    "num_files = len(extracted_files)\n",
    "print(f'Number of files in main directory: {num_files}')\n",
    "print('First 10 files in main directory:', extracted_files[:10])"
   ]
  },
  {
   "cell_type": "code",
   "execution_count": null,
   "id": "28b82174-3085-4c46-bdb3-12719d336f08",
   "metadata": {},
   "outputs": [],
   "source": []
  },
  {
   "cell_type": "code",
   "execution_count": 6,
   "id": "6465b96e-ea29-4f80-aaa7-3eb822b90167",
   "metadata": {
    "tags": []
   },
   "outputs": [
    {
     "name": "stdout",
     "output_type": "stream",
     "text": [
      "File path: ../datasets/mptrj-gga-ggapu/mptrj-gga-ggapu/mp-1200374.extxyz\n",
      "Number of atoms: 36\n",
      "Info properties (for entire lattice):\n",
      "bandgap\n",
      "e_per_atom_relaxed\n",
      "mp_id\n",
      "energy_per_atom\n",
      "ef_per_atom_relaxed\n",
      "corrected_total_energy\n",
      "ef_per_atom\n",
      "task_id\n",
      "calc_id\n",
      "ionic_step\n",
      "Array properties (for entire lattice):\n",
      "numbers\n",
      "positions\n"
     ]
    }
   ],
   "source": [
    "#Print the type of data in a single file\n",
    "import ase.io\n",
    "\n",
    "# Ensure the file path is correct\n",
    "file_path = os.path.join(main_extract_dir, extracted_files[0])\n",
    "print(f\"File path: {file_path}\")\n",
    "\n",
    "# Read the atoms list\n",
    "atoms_list = ase.io.read(file_path, index=':')\n",
    "first_atoms = atoms_list[0]\n",
    "\n",
    "# Check the number of atoms\n",
    "num_atoms = len(first_atoms)\n",
    "print(f\"Number of atoms: {num_atoms}\")\n",
    "\n",
    "# Check and print info properties\n",
    "if first_atoms.info:\n",
    "    print(\"Info properties (for entire lattice):\")\n",
    "    for key in first_atoms.info.keys():\n",
    "        print(f\"{key}\")\n",
    "else:\n",
    "    print(\"No info properties found.\")\n",
    "\n",
    "# Check and print array properties\n",
    "if first_atoms.arrays:\n",
    "    print(\"Array properties (for entire lattice):\")\n",
    "    for key in first_atoms.arrays.keys():\n",
    "        print(f\"{key}\")\n",
    "else:\n",
    "    print(\"No array properties found.\")\n"
   ]
  },
  {
   "cell_type": "code",
   "execution_count": null,
   "id": "3a3e2590-8e00-49ed-8b64-b2584d0336af",
   "metadata": {},
   "outputs": [],
   "source": []
  }
 ],
 "metadata": {
  "kernelspec": {
   "display_name": "Python 3 (ipykernel)",
   "language": "python",
   "name": "python3"
  },
  "language_info": {
   "codemirror_mode": {
    "name": "ipython",
    "version": 3
   },
   "file_extension": ".py",
   "mimetype": "text/x-python",
   "name": "python",
   "nbconvert_exporter": "python",
   "pygments_lexer": "ipython3",
   "version": "3.11.9"
  }
 },
 "nbformat": 4,
 "nbformat_minor": 5
}
