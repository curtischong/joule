{
 "cells": [
  {
   "cell_type": "code",
   "execution_count": null,
   "id": "a72af611-c94d-407d-a7f2-41d8c6c879ed",
   "metadata": {},
   "outputs": [],
   "source": []
  },
  {
   "cell_type": "code",
   "execution_count": 5,
   "id": "5e7c9d87-5115-49be-8c53-946d3f4dd7da",
   "metadata": {},
   "outputs": [
    {
     "name": "stdout",
     "output_type": "stream",
     "text": [
      "Cloning into 'BOTNet-datasets'...\n",
      "remote: Enumerating objects: 57, done.\u001b[K\n",
      "remote: Counting objects: 100% (57/57), done.\u001b[K\n",
      "remote: Compressing objects: 100% (50/50), done.\u001b[K\n",
      "remote: Total 57 (delta 13), reused 37 (delta 7), pack-reused 0\u001b[K\n",
      "Receiving objects: 100% (57/57), 28.73 MiB | 40.75 MiB/s, done.\n",
      "Resolving deltas: 100% (13/13), done.\n"
     ]
    }
   ],
   "source": [
    "!git clone https://github.com/davkovacs/BOTNet-datasets.git\n",
    "#this is only 500 long"
   ]
  },
  {
   "cell_type": "code",
   "execution_count": 6,
   "id": "8c4ad845-3b59-4794-8584-506f62defdd5",
   "metadata": {
    "tags": []
   },
   "outputs": [
    {
     "name": "stdout",
     "output_type": "stream",
     "text": [
      "Number of rows (configurations): 500\n",
      "Atoms(symbols='C3HCON2H2CH2C2H2C3HCHCH3', pbc=False, cell=[50.0, 50.0, 50.0], calculator=SinglePointCalculator(...))\n"
     ]
    }
   ],
   "source": [
    "import ase.io\n",
    "\n",
    "dataset_path = 'BOTNet-datasets/dataset_3BPA/train_300K.xyz'\n",
    "atoms_list = ase.io.read(dataset_path, index=':')\n",
    "num_rows = len(atoms_list)\n",
    "print(f'Number of rows (configurations): {num_rows}')\n",
    "\n",
    "#Details of first config\n",
    "print(atoms_list[0])"
   ]
  },
  {
   "cell_type": "code",
   "execution_count": null,
   "id": "4969af38-9ffa-462b-aefe-68fc422fd240",
   "metadata": {},
   "outputs": [],
   "source": []
  },
  {
   "cell_type": "code",
   "execution_count": 2,
   "id": "9862ece2-a17a-4a27-ab80-23c8072965d2",
   "metadata": {
    "collapsed": true,
    "jupyter": {
     "outputs_hidden": true
    },
    "tags": []
   },
   "outputs": [
    {
     "ename": "FileNotFoundError",
     "evalue": "[Errno 2] No such file or directory: '/datset/training_data.zip'",
     "output_type": "error",
     "traceback": [
      "\u001b[0;31m---------------------------------------------------------------------------\u001b[0m",
      "\u001b[0;31mFileNotFoundError\u001b[0m                         Traceback (most recent call last)",
      "Cell \u001b[0;32mIn[2], line 5\u001b[0m\n\u001b[1;32m      3\u001b[0m zip_file_path \u001b[38;5;241m=\u001b[39m \u001b[38;5;124m'\u001b[39m\u001b[38;5;124m/datset/training_data.zip\u001b[39m\u001b[38;5;124m'\u001b[39m\n\u001b[1;32m      4\u001b[0m \u001b[38;5;66;03m# Check the size of the uploaded file\u001b[39;00m\n\u001b[0;32m----> 5\u001b[0m file_size \u001b[38;5;241m=\u001b[39m \u001b[43mos\u001b[49m\u001b[38;5;241;43m.\u001b[39;49m\u001b[43mpath\u001b[49m\u001b[38;5;241;43m.\u001b[39;49m\u001b[43mgetsize\u001b[49m\u001b[43m(\u001b[49m\u001b[43mzip_file_path\u001b[49m\u001b[43m)\u001b[49m \u001b[38;5;241m/\u001b[39m (\u001b[38;5;241m1024\u001b[39m \u001b[38;5;241m*\u001b[39m \u001b[38;5;241m1024\u001b[39m)\n\u001b[1;32m      6\u001b[0m \u001b[38;5;28mprint\u001b[39m(\u001b[38;5;124mf\u001b[39m\u001b[38;5;124m'\u001b[39m\u001b[38;5;124mUploaded file size: \u001b[39m\u001b[38;5;132;01m{\u001b[39;00mfile_size\u001b[38;5;132;01m:\u001b[39;00m\u001b[38;5;124m.2f\u001b[39m\u001b[38;5;132;01m}\u001b[39;00m\u001b[38;5;124m MB\u001b[39m\u001b[38;5;124m'\u001b[39m)\n",
      "File \u001b[0;32m<frozen genericpath>:50\u001b[0m, in \u001b[0;36mgetsize\u001b[0;34m(filename)\u001b[0m\n",
      "\u001b[0;31mFileNotFoundError\u001b[0m: [Errno 2] No such file or directory: '/datset/training_data.zip'"
     ]
    }
   ],
   "source": [
    "import os\n",
    "\n",
    "zip_file_path = 'training_data.zip'\n",
    "# Check the size of the uploaded file\n",
    "file_size = os.path.getsize(zip_file_path) / (1024 * 1024)\n",
    "print(f'Uploaded file size: {file_size:.2f} MB')"
   ]
  },
  {
   "cell_type": "code",
   "execution_count": 3,
   "id": "311a32e9-5ad8-4fde-83ef-a08aabb51523",
   "metadata": {
    "collapsed": true,
    "jupyter": {
     "outputs_hidden": true
    },
    "tags": []
   },
   "outputs": [
    {
     "ename": "FileNotFoundError",
     "evalue": "[Errno 2] No such file or directory: './datasets/training_data.zip'",
     "output_type": "error",
     "traceback": [
      "\u001b[0;31m---------------------------------------------------------------------------\u001b[0m",
      "\u001b[0;31mFileNotFoundError\u001b[0m                         Traceback (most recent call last)",
      "Cell \u001b[0;32mIn[3], line 8\u001b[0m\n\u001b[1;32m      5\u001b[0m extract_dir \u001b[38;5;241m=\u001b[39m \u001b[38;5;124m'\u001b[39m\u001b[38;5;124mmptrj-gga-ggapu\u001b[39m\u001b[38;5;124m'\u001b[39m\n\u001b[1;32m      7\u001b[0m os\u001b[38;5;241m.\u001b[39mmakedirs(extract_dir, exist_ok\u001b[38;5;241m=\u001b[39m\u001b[38;5;28;01mTrue\u001b[39;00m)\n\u001b[0;32m----> 8\u001b[0m \u001b[38;5;28;01mwith\u001b[39;00m \u001b[43mzipfile\u001b[49m\u001b[38;5;241;43m.\u001b[39;49m\u001b[43mZipFile\u001b[49m\u001b[43m(\u001b[49m\u001b[43mzip_file_path\u001b[49m\u001b[43m,\u001b[49m\u001b[43m \u001b[49m\u001b[38;5;124;43m'\u001b[39;49m\u001b[38;5;124;43mr\u001b[39;49m\u001b[38;5;124;43m'\u001b[39;49m\u001b[43m)\u001b[49m \u001b[38;5;28;01mas\u001b[39;00m zip_ref:\n\u001b[1;32m      9\u001b[0m     zip_ref\u001b[38;5;241m.\u001b[39mextractall(extract_dir)\n\u001b[1;32m     11\u001b[0m extracted_files \u001b[38;5;241m=\u001b[39m os\u001b[38;5;241m.\u001b[39mlistdir(extract_dir)\n",
      "File \u001b[0;32m/usr/lib/python3.11/zipfile.py:1294\u001b[0m, in \u001b[0;36mZipFile.__init__\u001b[0;34m(self, file, mode, compression, allowZip64, compresslevel, strict_timestamps, metadata_encoding)\u001b[0m\n\u001b[1;32m   1292\u001b[0m \u001b[38;5;28;01mwhile\u001b[39;00m \u001b[38;5;28;01mTrue\u001b[39;00m:\n\u001b[1;32m   1293\u001b[0m     \u001b[38;5;28;01mtry\u001b[39;00m:\n\u001b[0;32m-> 1294\u001b[0m         \u001b[38;5;28mself\u001b[39m\u001b[38;5;241m.\u001b[39mfp \u001b[38;5;241m=\u001b[39m \u001b[43mio\u001b[49m\u001b[38;5;241;43m.\u001b[39;49m\u001b[43mopen\u001b[49m\u001b[43m(\u001b[49m\u001b[43mfile\u001b[49m\u001b[43m,\u001b[49m\u001b[43m \u001b[49m\u001b[43mfilemode\u001b[49m\u001b[43m)\u001b[49m\n\u001b[1;32m   1295\u001b[0m     \u001b[38;5;28;01mexcept\u001b[39;00m \u001b[38;5;167;01mOSError\u001b[39;00m:\n\u001b[1;32m   1296\u001b[0m         \u001b[38;5;28;01mif\u001b[39;00m filemode \u001b[38;5;129;01min\u001b[39;00m modeDict:\n",
      "\u001b[0;31mFileNotFoundError\u001b[0m: [Errno 2] No such file or directory: './datasets/training_data.zip'"
     ]
    }
   ],
   "source": [
    "#unzip the 1.5GB file\n",
    "import zipfile\n",
    "\n",
    "zip_file_path = 'training_data.zip'\n",
    "extract_dir = 'mptrj-gga-ggapu'\n",
    "\n",
    "os.makedirs(extract_dir, exist_ok=True)\n",
    "with zipfile.ZipFile(zip_file_path, 'r') as zip_ref:\n",
    "    zip_ref.extractall(extract_dir)\n",
    "    \n",
    "extracted_files = os.listdir(extract_dir)\n",
    "num_files = len(extracted_files)\n",
    "print(f'Number of files extracted: {num_files}')\n",
    "print('First few files:', extracted_files[:5])"
   ]
  },
  {
   "cell_type": "code",
   "execution_count": null,
   "id": "b42d5853-7eab-4dfa-a160-8482a23d5dc6",
   "metadata": {},
   "outputs": [],
   "source": []
  },
  {
   "cell_type": "code",
   "execution_count": 16,
   "id": "4adc2b70-47cb-48e4-afa7-6e2273685c61",
   "metadata": {
    "tags": []
   },
   "outputs": [
    {
     "name": "stdout",
     "output_type": "stream",
     "text": [
      "Number of files in main directory: 145923\n",
      "First 10 files in main directory: ['mp-1200374.extxyz', 'mp-1100682.extxyz', 'mp-1233512.extxyz', 'mp-605752.extxyz', 'mp-1233477.extxyz', 'mp-1185770.extxyz', 'mp-1216204.extxyz', 'mp-685608.extxyz', 'mp-757666.extxyz', 'mp-1227289.extxyz']\n"
     ]
    }
   ],
   "source": [
    "#print the first 10 files\n",
    "import os\n",
    "\n",
    "main_extract_dir = '../datasets/mptrj-gga-ggapu/mptrj-gga-ggapu'\n",
    "extracted_files = os.listdir(main_extract_dir)\n",
    "num_files = len(extracted_files)\n",
    "print(f'Number of files in main directory: {num_files}')\n",
    "print('First 10 files in main directory:', extracted_files[:10])"
   ]
  },
  {
   "cell_type": "code",
   "execution_count": 13,
   "id": "6465b96e-ea29-4f80-aaa7-3eb822b90167",
   "metadata": {
    "tags": []
   },
   "outputs": [
    {
     "name": "stdout",
     "output_type": "stream",
     "text": [
      "File path: ../datasets/mptrj-gga-ggapup/mptrj-gga-ggapu/mp-1200374.extxyz\n"
     ]
    },
    {
     "ename": "FileNotFoundError",
     "evalue": "[Errno 2] No such file or directory: '../datasets/mptrj-gga-ggapup/mptrj-gga-ggapu/mp-1200374.extxyz'",
     "output_type": "error",
     "traceback": [
      "\u001b[0;31m---------------------------------------------------------------------------\u001b[0m",
      "\u001b[0;31mFileNotFoundError\u001b[0m                         Traceback (most recent call last)",
      "Cell \u001b[0;32mIn[13], line 9\u001b[0m\n\u001b[1;32m      6\u001b[0m \u001b[38;5;28mprint\u001b[39m(\u001b[38;5;124mf\u001b[39m\u001b[38;5;124m\"\u001b[39m\u001b[38;5;124mFile path: \u001b[39m\u001b[38;5;132;01m{\u001b[39;00mfile_path\u001b[38;5;132;01m}\u001b[39;00m\u001b[38;5;124m\"\u001b[39m)\n\u001b[1;32m      8\u001b[0m \u001b[38;5;66;03m# Read the atoms list\u001b[39;00m\n\u001b[0;32m----> 9\u001b[0m atoms_list \u001b[38;5;241m=\u001b[39m \u001b[43mase\u001b[49m\u001b[38;5;241;43m.\u001b[39;49m\u001b[43mio\u001b[49m\u001b[38;5;241;43m.\u001b[39;49m\u001b[43mread\u001b[49m\u001b[43m(\u001b[49m\u001b[43mfile_path\u001b[49m\u001b[43m,\u001b[49m\u001b[43m \u001b[49m\u001b[43mindex\u001b[49m\u001b[38;5;241;43m=\u001b[39;49m\u001b[38;5;124;43m'\u001b[39;49m\u001b[38;5;124;43m:\u001b[39;49m\u001b[38;5;124;43m'\u001b[39;49m\u001b[43m)\u001b[49m\n\u001b[1;32m     10\u001b[0m first_atoms \u001b[38;5;241m=\u001b[39m atoms_list[\u001b[38;5;241m0\u001b[39m]\n\u001b[1;32m     12\u001b[0m \u001b[38;5;66;03m# Check the number of atoms\u001b[39;00m\n",
      "File \u001b[0;32m~/joule/venv/lib/python3.11/site-packages/ase/io/formats.py:793\u001b[0m, in \u001b[0;36mread\u001b[0;34m(filename, index, format, parallel, do_not_split_by_at_sign, **kwargs)\u001b[0m\n\u001b[1;32m    791\u001b[0m \u001b[38;5;28;01mif\u001b[39;00m index \u001b[38;5;129;01mis\u001b[39;00m \u001b[38;5;28;01mNone\u001b[39;00m:\n\u001b[1;32m    792\u001b[0m     index \u001b[38;5;241m=\u001b[39m \u001b[38;5;241m-\u001b[39m\u001b[38;5;241m1\u001b[39m\n\u001b[0;32m--> 793\u001b[0m \u001b[38;5;28mformat\u001b[39m \u001b[38;5;241m=\u001b[39m \u001b[38;5;28mformat\u001b[39m \u001b[38;5;129;01mor\u001b[39;00m \u001b[43mfiletype\u001b[49m\u001b[43m(\u001b[49m\u001b[43mfilename\u001b[49m\u001b[43m,\u001b[49m\u001b[43m \u001b[49m\u001b[43mread\u001b[49m\u001b[38;5;241;43m=\u001b[39;49m\u001b[38;5;28;43misinstance\u001b[39;49m\u001b[43m(\u001b[49m\u001b[43mfilename\u001b[49m\u001b[43m,\u001b[49m\u001b[43m \u001b[49m\u001b[38;5;28;43mstr\u001b[39;49m\u001b[43m)\u001b[49m\u001b[43m)\u001b[49m\n\u001b[1;32m    795\u001b[0m io \u001b[38;5;241m=\u001b[39m get_ioformat(\u001b[38;5;28mformat\u001b[39m)\n\u001b[1;32m    796\u001b[0m \u001b[38;5;28;01mif\u001b[39;00m \u001b[38;5;28misinstance\u001b[39m(index, (\u001b[38;5;28mslice\u001b[39m, \u001b[38;5;28mstr\u001b[39m)):\n",
      "File \u001b[0;32m~/joule/venv/lib/python3.11/site-packages/ase/io/formats.py:965\u001b[0m, in \u001b[0;36mfiletype\u001b[0;34m(filename, read, guess)\u001b[0m\n\u001b[1;32m    962\u001b[0m     \u001b[38;5;28;01mreturn\u001b[39;00m ext\n\u001b[1;32m    964\u001b[0m \u001b[38;5;28;01mif\u001b[39;00m orig_filename \u001b[38;5;241m==\u001b[39m filename:\n\u001b[0;32m--> 965\u001b[0m     fd \u001b[38;5;241m=\u001b[39m \u001b[43mopen_with_compression\u001b[49m\u001b[43m(\u001b[49m\u001b[43mfilename\u001b[49m\u001b[43m,\u001b[49m\u001b[43m \u001b[49m\u001b[38;5;124;43m'\u001b[39;49m\u001b[38;5;124;43mrb\u001b[39;49m\u001b[38;5;124;43m'\u001b[39;49m\u001b[43m)\u001b[49m\n\u001b[1;32m    966\u001b[0m \u001b[38;5;28;01melse\u001b[39;00m:\n\u001b[1;32m    967\u001b[0m     fd \u001b[38;5;241m=\u001b[39m orig_filename  \u001b[38;5;66;03m# type: ignore[assignment]\u001b[39;00m\n",
      "File \u001b[0;32m~/joule/venv/lib/python3.11/site-packages/ase/io/formats.py:597\u001b[0m, in \u001b[0;36mopen_with_compression\u001b[0;34m(filename, mode)\u001b[0m\n\u001b[1;32m    594\u001b[0m     \u001b[38;5;28;01mreturn\u001b[39;00m lzma\u001b[38;5;241m.\u001b[39mopen(filename, mode)\n\u001b[1;32m    595\u001b[0m \u001b[38;5;28;01melse\u001b[39;00m:\n\u001b[1;32m    596\u001b[0m     \u001b[38;5;66;03m# Either None or unknown string\u001b[39;00m\n\u001b[0;32m--> 597\u001b[0m     \u001b[38;5;28;01mreturn\u001b[39;00m \u001b[38;5;28mopen\u001b[39m(filename, mode)\n",
      "\u001b[0;31mFileNotFoundError\u001b[0m: [Errno 2] No such file or directory: '../datasets/mptrj-gga-ggapup/mptrj-gga-ggapu/mp-1200374.extxyz'"
     ]
    }
   ],
   "source": [
    "#Print the type of data in a single file\n",
    "import ase.io\n",
    "\n",
    "# Ensure the file path is correct\n",
    "file_path = os.path.join(main_extract_dir, extracted_files[0])\n",
    "print(f\"File path: {file_path}\")\n",
    "\n",
    "# Read the atoms list\n",
    "atoms_list = ase.io.read(file_path, index=':')\n",
    "first_atoms = atoms_list[0]\n",
    "\n",
    "# Check the number of atoms\n",
    "num_atoms = len(first_atoms)\n",
    "print(f\"Number of atoms: {num_atoms}\")\n",
    "\n",
    "# Check and print info properties\n",
    "if first_atoms.info:\n",
    "    print(\"Info properties (for entire lattice):\")\n",
    "    for key in first_atoms.info.keys():\n",
    "        print(f\"{key}\")\n",
    "else:\n",
    "    print(\"No info properties found.\")\n",
    "\n",
    "# Check and print array properties\n",
    "if first_atoms.arrays:\n",
    "    print(\"Array properties (for entire lattice):\")\n",
    "    for key in first_atoms.arrays.keys():\n",
    "        print(f\"{key}\")\n",
    "else:\n",
    "    print(\"No array properties found.\")\n"
   ]
  },
  {
   "cell_type": "code",
   "execution_count": 7,
   "id": "deee516e-3c4a-4172-908d-cc991ba50ad0",
   "metadata": {},
   "outputs": [
    {
     "name": "stdout",
     "output_type": "stream",
     "text": [
      "Number of configurations in the atoms list: 14\n"
     ]
    }
   ],
   "source": [
    "num_configs = len(atoms_list)\n",
    "print(f\"Number of configurations in the atoms list: {num_configs}\")\n"
   ]
  },
  {
   "cell_type": "code",
   "execution_count": null,
   "id": "e66447cc-90ab-49fb-a505-85cccba0e3c3",
   "metadata": {},
   "outputs": [],
   "source": []
  },
  {
   "cell_type": "code",
   "execution_count": 8,
   "id": "e05300b5-2283-4f92-a8e5-567ebd44dfb7",
   "metadata": {
    "collapsed": true,
    "jupyter": {
     "outputs_hidden": true
    },
    "tags": []
   },
   "outputs": [
    {
     "name": "stdout",
     "output_type": "stream",
     "text": [
      "Requirement already satisfied: nglview in /home/ubuntu/joule/venv/lib/python3.11/site-packages (3.1.2)\n",
      "Requirement already satisfied: ipywidgets>=8 in /home/ubuntu/joule/venv/lib/python3.11/site-packages (from nglview) (8.1.3)\n",
      "Requirement already satisfied: notebook>=7 in /home/ubuntu/joule/venv/lib/python3.11/site-packages (from nglview) (7.2.1)\n",
      "Requirement already satisfied: jupyterlab-widgets in /home/ubuntu/joule/venv/lib/python3.11/site-packages (from nglview) (3.0.11)\n",
      "Requirement already satisfied: numpy in /home/ubuntu/joule/venv/lib/python3.11/site-packages (from nglview) (1.26.4)\n",
      "Requirement already satisfied: comm>=0.1.3 in /home/ubuntu/joule/venv/lib/python3.11/site-packages (from ipywidgets>=8->nglview) (0.2.2)\n",
      "Requirement already satisfied: ipython>=6.1.0 in /home/ubuntu/joule/venv/lib/python3.11/site-packages (from ipywidgets>=8->nglview) (8.25.0)\n",
      "Requirement already satisfied: traitlets>=4.3.1 in /home/ubuntu/joule/venv/lib/python3.11/site-packages (from ipywidgets>=8->nglview) (5.14.3)\n",
      "Requirement already satisfied: widgetsnbextension~=4.0.11 in /home/ubuntu/joule/venv/lib/python3.11/site-packages (from ipywidgets>=8->nglview) (4.0.11)\n",
      "Requirement already satisfied: jupyter-server<3,>=2.4.0 in /home/ubuntu/joule/venv/lib/python3.11/site-packages (from notebook>=7->nglview) (2.14.1)\n",
      "Requirement already satisfied: jupyterlab-server<3,>=2.27.1 in /home/ubuntu/joule/venv/lib/python3.11/site-packages (from notebook>=7->nglview) (2.27.2)\n",
      "Requirement already satisfied: jupyterlab<4.3,>=4.2.0 in /home/ubuntu/joule/venv/lib/python3.11/site-packages (from notebook>=7->nglview) (4.2.1)\n",
      "Requirement already satisfied: notebook-shim<0.3,>=0.2 in /home/ubuntu/joule/venv/lib/python3.11/site-packages (from notebook>=7->nglview) (0.2.4)\n",
      "Requirement already satisfied: tornado>=6.2.0 in /home/ubuntu/joule/venv/lib/python3.11/site-packages (from notebook>=7->nglview) (6.4.1)\n",
      "Requirement already satisfied: decorator in /home/ubuntu/joule/venv/lib/python3.11/site-packages (from ipython>=6.1.0->ipywidgets>=8->nglview) (5.1.1)\n",
      "Requirement already satisfied: jedi>=0.16 in /home/ubuntu/joule/venv/lib/python3.11/site-packages (from ipython>=6.1.0->ipywidgets>=8->nglview) (0.19.1)\n",
      "Requirement already satisfied: matplotlib-inline in /home/ubuntu/joule/venv/lib/python3.11/site-packages (from ipython>=6.1.0->ipywidgets>=8->nglview) (0.1.7)\n",
      "Requirement already satisfied: prompt-toolkit<3.1.0,>=3.0.41 in /home/ubuntu/joule/venv/lib/python3.11/site-packages (from ipython>=6.1.0->ipywidgets>=8->nglview) (3.0.46)\n",
      "Requirement already satisfied: pygments>=2.4.0 in /home/ubuntu/joule/venv/lib/python3.11/site-packages (from ipython>=6.1.0->ipywidgets>=8->nglview) (2.18.0)\n",
      "Requirement already satisfied: stack-data in /home/ubuntu/joule/venv/lib/python3.11/site-packages (from ipython>=6.1.0->ipywidgets>=8->nglview) (0.6.3)\n",
      "Requirement already satisfied: typing-extensions>=4.6 in /home/ubuntu/joule/venv/lib/python3.11/site-packages (from ipython>=6.1.0->ipywidgets>=8->nglview) (4.12.2)\n",
      "Requirement already satisfied: pexpect>4.3 in /home/ubuntu/joule/venv/lib/python3.11/site-packages (from ipython>=6.1.0->ipywidgets>=8->nglview) (4.9.0)\n",
      "Requirement already satisfied: anyio>=3.1.0 in /home/ubuntu/joule/venv/lib/python3.11/site-packages (from jupyter-server<3,>=2.4.0->notebook>=7->nglview) (4.4.0)\n",
      "Requirement already satisfied: argon2-cffi>=21.1 in /home/ubuntu/joule/venv/lib/python3.11/site-packages (from jupyter-server<3,>=2.4.0->notebook>=7->nglview) (23.1.0)\n",
      "Requirement already satisfied: jinja2>=3.0.3 in /home/ubuntu/joule/venv/lib/python3.11/site-packages (from jupyter-server<3,>=2.4.0->notebook>=7->nglview) (3.1.4)\n",
      "Requirement already satisfied: jupyter-client>=7.4.4 in /home/ubuntu/joule/venv/lib/python3.11/site-packages (from jupyter-server<3,>=2.4.0->notebook>=7->nglview) (7.4.9)\n",
      "Requirement already satisfied: jupyter-core!=5.0.*,>=4.12 in /home/ubuntu/joule/venv/lib/python3.11/site-packages (from jupyter-server<3,>=2.4.0->notebook>=7->nglview) (5.7.2)\n",
      "Requirement already satisfied: jupyter-events>=0.9.0 in /home/ubuntu/joule/venv/lib/python3.11/site-packages (from jupyter-server<3,>=2.4.0->notebook>=7->nglview) (0.10.0)\n",
      "Requirement already satisfied: jupyter-server-terminals>=0.4.4 in /home/ubuntu/joule/venv/lib/python3.11/site-packages (from jupyter-server<3,>=2.4.0->notebook>=7->nglview) (0.5.3)\n",
      "Requirement already satisfied: nbconvert>=6.4.4 in /home/ubuntu/joule/venv/lib/python3.11/site-packages (from jupyter-server<3,>=2.4.0->notebook>=7->nglview) (7.16.4)\n",
      "Requirement already satisfied: nbformat>=5.3.0 in /home/ubuntu/joule/venv/lib/python3.11/site-packages (from jupyter-server<3,>=2.4.0->notebook>=7->nglview) (5.10.4)\n",
      "Requirement already satisfied: overrides>=5.0 in /home/ubuntu/joule/venv/lib/python3.11/site-packages (from jupyter-server<3,>=2.4.0->notebook>=7->nglview) (7.7.0)\n",
      "Requirement already satisfied: packaging>=22.0 in /home/ubuntu/joule/venv/lib/python3.11/site-packages (from jupyter-server<3,>=2.4.0->notebook>=7->nglview) (24.0)\n",
      "Requirement already satisfied: prometheus-client>=0.9 in /home/ubuntu/joule/venv/lib/python3.11/site-packages (from jupyter-server<3,>=2.4.0->notebook>=7->nglview) (0.20.0)\n",
      "Requirement already satisfied: pyzmq>=24 in /home/ubuntu/joule/venv/lib/python3.11/site-packages (from jupyter-server<3,>=2.4.0->notebook>=7->nglview) (26.0.3)\n",
      "Requirement already satisfied: send2trash>=1.8.2 in /home/ubuntu/joule/venv/lib/python3.11/site-packages (from jupyter-server<3,>=2.4.0->notebook>=7->nglview) (1.8.3)\n",
      "Requirement already satisfied: terminado>=0.8.3 in /home/ubuntu/joule/venv/lib/python3.11/site-packages (from jupyter-server<3,>=2.4.0->notebook>=7->nglview) (0.18.1)\n",
      "Requirement already satisfied: websocket-client>=1.7 in /home/ubuntu/joule/venv/lib/python3.11/site-packages (from jupyter-server<3,>=2.4.0->notebook>=7->nglview) (1.8.0)\n",
      "Requirement already satisfied: async-lru>=1.0.0 in /home/ubuntu/joule/venv/lib/python3.11/site-packages (from jupyterlab<4.3,>=4.2.0->notebook>=7->nglview) (2.0.4)\n",
      "Requirement already satisfied: httpx>=0.25.0 in /home/ubuntu/joule/venv/lib/python3.11/site-packages (from jupyterlab<4.3,>=4.2.0->notebook>=7->nglview) (0.27.0)\n",
      "Requirement already satisfied: ipykernel>=6.5.0 in /home/ubuntu/joule/venv/lib/python3.11/site-packages (from jupyterlab<4.3,>=4.2.0->notebook>=7->nglview) (6.29.4)\n",
      "Requirement already satisfied: jupyter-lsp>=2.0.0 in /home/ubuntu/joule/venv/lib/python3.11/site-packages (from jupyterlab<4.3,>=4.2.0->notebook>=7->nglview) (2.2.5)\n",
      "Requirement already satisfied: babel>=2.10 in /home/ubuntu/joule/venv/lib/python3.11/site-packages (from jupyterlab-server<3,>=2.27.1->notebook>=7->nglview) (2.15.0)\n",
      "Requirement already satisfied: json5>=0.9.0 in /home/ubuntu/joule/venv/lib/python3.11/site-packages (from jupyterlab-server<3,>=2.27.1->notebook>=7->nglview) (0.9.25)\n",
      "Requirement already satisfied: jsonschema>=4.18.0 in /home/ubuntu/joule/venv/lib/python3.11/site-packages (from jupyterlab-server<3,>=2.27.1->notebook>=7->nglview) (4.22.0)\n",
      "Requirement already satisfied: requests>=2.31 in /home/ubuntu/joule/venv/lib/python3.11/site-packages (from jupyterlab-server<3,>=2.27.1->notebook>=7->nglview) (2.32.3)\n",
      "Requirement already satisfied: idna>=2.8 in /home/ubuntu/joule/venv/lib/python3.11/site-packages (from anyio>=3.1.0->jupyter-server<3,>=2.4.0->notebook>=7->nglview) (3.7)\n",
      "Requirement already satisfied: sniffio>=1.1 in /home/ubuntu/joule/venv/lib/python3.11/site-packages (from anyio>=3.1.0->jupyter-server<3,>=2.4.0->notebook>=7->nglview) (1.3.1)\n",
      "Requirement already satisfied: argon2-cffi-bindings in /home/ubuntu/joule/venv/lib/python3.11/site-packages (from argon2-cffi>=21.1->jupyter-server<3,>=2.4.0->notebook>=7->nglview) (21.2.0)\n",
      "Requirement already satisfied: certifi in /home/ubuntu/joule/venv/lib/python3.11/site-packages (from httpx>=0.25.0->jupyterlab<4.3,>=4.2.0->notebook>=7->nglview) (2024.6.2)\n",
      "Requirement already satisfied: httpcore==1.* in /home/ubuntu/joule/venv/lib/python3.11/site-packages (from httpx>=0.25.0->jupyterlab<4.3,>=4.2.0->notebook>=7->nglview) (1.0.5)\n",
      "Requirement already satisfied: h11<0.15,>=0.13 in /home/ubuntu/joule/venv/lib/python3.11/site-packages (from httpcore==1.*->httpx>=0.25.0->jupyterlab<4.3,>=4.2.0->notebook>=7->nglview) (0.14.0)\n",
      "Requirement already satisfied: debugpy>=1.6.5 in /home/ubuntu/joule/venv/lib/python3.11/site-packages (from ipykernel>=6.5.0->jupyterlab<4.3,>=4.2.0->notebook>=7->nglview) (1.8.1)\n",
      "Requirement already satisfied: nest-asyncio in /home/ubuntu/joule/venv/lib/python3.11/site-packages (from ipykernel>=6.5.0->jupyterlab<4.3,>=4.2.0->notebook>=7->nglview) (1.6.0)\n",
      "Requirement already satisfied: psutil in /home/ubuntu/joule/venv/lib/python3.11/site-packages (from ipykernel>=6.5.0->jupyterlab<4.3,>=4.2.0->notebook>=7->nglview) (5.9.8)\n",
      "Requirement already satisfied: parso<0.9.0,>=0.8.3 in /home/ubuntu/joule/venv/lib/python3.11/site-packages (from jedi>=0.16->ipython>=6.1.0->ipywidgets>=8->nglview) (0.8.4)\n",
      "Requirement already satisfied: MarkupSafe>=2.0 in /home/ubuntu/joule/venv/lib/python3.11/site-packages (from jinja2>=3.0.3->jupyter-server<3,>=2.4.0->notebook>=7->nglview) (2.1.5)\n",
      "Requirement already satisfied: attrs>=22.2.0 in /home/ubuntu/joule/venv/lib/python3.11/site-packages (from jsonschema>=4.18.0->jupyterlab-server<3,>=2.27.1->notebook>=7->nglview) (23.2.0)\n",
      "Requirement already satisfied: jsonschema-specifications>=2023.03.6 in /home/ubuntu/joule/venv/lib/python3.11/site-packages (from jsonschema>=4.18.0->jupyterlab-server<3,>=2.27.1->notebook>=7->nglview) (2023.12.1)\n",
      "Requirement already satisfied: referencing>=0.28.4 in /home/ubuntu/joule/venv/lib/python3.11/site-packages (from jsonschema>=4.18.0->jupyterlab-server<3,>=2.27.1->notebook>=7->nglview) (0.35.1)\n",
      "Requirement already satisfied: rpds-py>=0.7.1 in /home/ubuntu/joule/venv/lib/python3.11/site-packages (from jsonschema>=4.18.0->jupyterlab-server<3,>=2.27.1->notebook>=7->nglview) (0.18.1)\n",
      "Requirement already satisfied: entrypoints in /home/ubuntu/joule/venv/lib/python3.11/site-packages (from jupyter-client>=7.4.4->jupyter-server<3,>=2.4.0->notebook>=7->nglview) (0.4)\n",
      "Requirement already satisfied: python-dateutil>=2.8.2 in /home/ubuntu/joule/venv/lib/python3.11/site-packages (from jupyter-client>=7.4.4->jupyter-server<3,>=2.4.0->notebook>=7->nglview) (2.9.0.post0)\n",
      "Requirement already satisfied: platformdirs>=2.5 in /home/ubuntu/joule/venv/lib/python3.11/site-packages (from jupyter-core!=5.0.*,>=4.12->jupyter-server<3,>=2.4.0->notebook>=7->nglview) (4.2.2)\n",
      "Requirement already satisfied: python-json-logger>=2.0.4 in /home/ubuntu/joule/venv/lib/python3.11/site-packages (from jupyter-events>=0.9.0->jupyter-server<3,>=2.4.0->notebook>=7->nglview) (2.0.7)\n",
      "Requirement already satisfied: pyyaml>=5.3 in /home/ubuntu/joule/venv/lib/python3.11/site-packages (from jupyter-events>=0.9.0->jupyter-server<3,>=2.4.0->notebook>=7->nglview) (6.0.1)\n",
      "Requirement already satisfied: rfc3339-validator in /home/ubuntu/joule/venv/lib/python3.11/site-packages (from jupyter-events>=0.9.0->jupyter-server<3,>=2.4.0->notebook>=7->nglview) (0.1.4)\n",
      "Requirement already satisfied: rfc3986-validator>=0.1.1 in /home/ubuntu/joule/venv/lib/python3.11/site-packages (from jupyter-events>=0.9.0->jupyter-server<3,>=2.4.0->notebook>=7->nglview) (0.1.1)\n",
      "Requirement already satisfied: beautifulsoup4 in /home/ubuntu/joule/venv/lib/python3.11/site-packages (from nbconvert>=6.4.4->jupyter-server<3,>=2.4.0->notebook>=7->nglview) (4.12.3)\n",
      "Requirement already satisfied: bleach!=5.0.0 in /home/ubuntu/joule/venv/lib/python3.11/site-packages (from nbconvert>=6.4.4->jupyter-server<3,>=2.4.0->notebook>=7->nglview) (6.1.0)\n",
      "Requirement already satisfied: defusedxml in /home/ubuntu/joule/venv/lib/python3.11/site-packages (from nbconvert>=6.4.4->jupyter-server<3,>=2.4.0->notebook>=7->nglview) (0.7.1)\n",
      "Requirement already satisfied: jupyterlab-pygments in /home/ubuntu/joule/venv/lib/python3.11/site-packages (from nbconvert>=6.4.4->jupyter-server<3,>=2.4.0->notebook>=7->nglview) (0.3.0)\n",
      "Requirement already satisfied: mistune<4,>=2.0.3 in /home/ubuntu/joule/venv/lib/python3.11/site-packages (from nbconvert>=6.4.4->jupyter-server<3,>=2.4.0->notebook>=7->nglview) (3.0.2)\n",
      "Requirement already satisfied: nbclient>=0.5.0 in /home/ubuntu/joule/venv/lib/python3.11/site-packages (from nbconvert>=6.4.4->jupyter-server<3,>=2.4.0->notebook>=7->nglview) (0.10.0)\n",
      "Requirement already satisfied: pandocfilters>=1.4.1 in /home/ubuntu/joule/venv/lib/python3.11/site-packages (from nbconvert>=6.4.4->jupyter-server<3,>=2.4.0->notebook>=7->nglview) (1.5.1)\n",
      "Requirement already satisfied: tinycss2 in /home/ubuntu/joule/venv/lib/python3.11/site-packages (from nbconvert>=6.4.4->jupyter-server<3,>=2.4.0->notebook>=7->nglview) (1.3.0)\n",
      "Requirement already satisfied: fastjsonschema>=2.15 in /home/ubuntu/joule/venv/lib/python3.11/site-packages (from nbformat>=5.3.0->jupyter-server<3,>=2.4.0->notebook>=7->nglview) (2.19.1)\n",
      "Requirement already satisfied: ptyprocess>=0.5 in /home/ubuntu/joule/venv/lib/python3.11/site-packages (from pexpect>4.3->ipython>=6.1.0->ipywidgets>=8->nglview) (0.7.0)\n",
      "Requirement already satisfied: wcwidth in /home/ubuntu/joule/venv/lib/python3.11/site-packages (from prompt-toolkit<3.1.0,>=3.0.41->ipython>=6.1.0->ipywidgets>=8->nglview) (0.2.13)\n",
      "Requirement already satisfied: charset-normalizer<4,>=2 in /home/ubuntu/joule/venv/lib/python3.11/site-packages (from requests>=2.31->jupyterlab-server<3,>=2.27.1->notebook>=7->nglview) (3.3.2)\n",
      "Requirement already satisfied: urllib3<3,>=1.21.1 in /home/ubuntu/joule/venv/lib/python3.11/site-packages (from requests>=2.31->jupyterlab-server<3,>=2.27.1->notebook>=7->nglview) (2.2.1)\n",
      "Requirement already satisfied: executing>=1.2.0 in /home/ubuntu/joule/venv/lib/python3.11/site-packages (from stack-data->ipython>=6.1.0->ipywidgets>=8->nglview) (2.0.1)\n",
      "Requirement already satisfied: asttokens>=2.1.0 in /home/ubuntu/joule/venv/lib/python3.11/site-packages (from stack-data->ipython>=6.1.0->ipywidgets>=8->nglview) (2.4.1)\n",
      "Requirement already satisfied: pure-eval in /home/ubuntu/joule/venv/lib/python3.11/site-packages (from stack-data->ipython>=6.1.0->ipywidgets>=8->nglview) (0.2.2)\n",
      "Requirement already satisfied: six>=1.12.0 in /home/ubuntu/joule/venv/lib/python3.11/site-packages (from asttokens>=2.1.0->stack-data->ipython>=6.1.0->ipywidgets>=8->nglview) (1.16.0)\n",
      "Requirement already satisfied: webencodings in /home/ubuntu/joule/venv/lib/python3.11/site-packages (from bleach!=5.0.0->nbconvert>=6.4.4->jupyter-server<3,>=2.4.0->notebook>=7->nglview) (0.5.1)\n",
      "Requirement already satisfied: fqdn in /home/ubuntu/joule/venv/lib/python3.11/site-packages (from jsonschema[format-nongpl]>=4.18.0->jupyter-events>=0.9.0->jupyter-server<3,>=2.4.0->notebook>=7->nglview) (1.5.1)\n",
      "Requirement already satisfied: isoduration in /home/ubuntu/joule/venv/lib/python3.11/site-packages (from jsonschema[format-nongpl]>=4.18.0->jupyter-events>=0.9.0->jupyter-server<3,>=2.4.0->notebook>=7->nglview) (20.11.0)\n",
      "Requirement already satisfied: jsonpointer>1.13 in /home/ubuntu/joule/venv/lib/python3.11/site-packages (from jsonschema[format-nongpl]>=4.18.0->jupyter-events>=0.9.0->jupyter-server<3,>=2.4.0->notebook>=7->nglview) (2.4)\n",
      "Requirement already satisfied: uri-template in /home/ubuntu/joule/venv/lib/python3.11/site-packages (from jsonschema[format-nongpl]>=4.18.0->jupyter-events>=0.9.0->jupyter-server<3,>=2.4.0->notebook>=7->nglview) (1.3.0)\n",
      "Requirement already satisfied: webcolors>=1.11 in /home/ubuntu/joule/venv/lib/python3.11/site-packages (from jsonschema[format-nongpl]>=4.18.0->jupyter-events>=0.9.0->jupyter-server<3,>=2.4.0->notebook>=7->nglview) (24.6.0)\n",
      "Requirement already satisfied: cffi>=1.0.1 in /home/ubuntu/joule/venv/lib/python3.11/site-packages (from argon2-cffi-bindings->argon2-cffi>=21.1->jupyter-server<3,>=2.4.0->notebook>=7->nglview) (1.16.0)\n",
      "Requirement already satisfied: soupsieve>1.2 in /home/ubuntu/joule/venv/lib/python3.11/site-packages (from beautifulsoup4->nbconvert>=6.4.4->jupyter-server<3,>=2.4.0->notebook>=7->nglview) (2.5)\n",
      "Requirement already satisfied: pycparser in /home/ubuntu/joule/venv/lib/python3.11/site-packages (from cffi>=1.0.1->argon2-cffi-bindings->argon2-cffi>=21.1->jupyter-server<3,>=2.4.0->notebook>=7->nglview) (2.22)\n",
      "Requirement already satisfied: arrow>=0.15.0 in /home/ubuntu/joule/venv/lib/python3.11/site-packages (from isoduration->jsonschema[format-nongpl]>=4.18.0->jupyter-events>=0.9.0->jupyter-server<3,>=2.4.0->notebook>=7->nglview) (1.3.0)\n",
      "Requirement already satisfied: types-python-dateutil>=2.8.10 in /home/ubuntu/joule/venv/lib/python3.11/site-packages (from arrow>=0.15.0->isoduration->jsonschema[format-nongpl]>=4.18.0->jupyter-events>=0.9.0->jupyter-server<3,>=2.4.0->notebook>=7->nglview) (2.9.0.20240316)\n"
     ]
    }
   ],
   "source": [
    "#!pip install nglview"
   ]
  },
  {
   "cell_type": "code",
   "execution_count": 12,
   "id": "b182448d-1cb2-42b3-98da-3074273ff2d6",
   "metadata": {
    "collapsed": true,
    "jupyter": {
     "outputs_hidden": true
    },
    "tags": []
   },
   "outputs": [
    {
     "name": "stdout",
     "output_type": "stream",
     "text": [
      "\u001b[33m(Deprecated) Installing extensions with the jupyter labextension install command is now deprecated and will be removed in a future major version of JupyterLab.\n",
      "\n",
      "Users should manage prebuilt extensions with package managers like pip and conda, and extension authors are encouraged to distribute their extensions as prebuilt packages \u001b[0m\n",
      "/home/ubuntu/joule/venv/lib/python3.11/site-packages/jupyterlab/debuglog.py:54: UserWarning: An error occurred.\n",
      "  warnings.warn(\"An error occurred.\")\n",
      "/home/ubuntu/joule/venv/lib/python3.11/site-packages/jupyterlab/debuglog.py:55: UserWarning: ValueError: Please install Node.js and npm before continuing installation. You may be able to install Node.js from your package manager, from conda, or directly from the Node.js website (https://nodejs.org).\n",
      "  warnings.warn(msg[-1].strip())\n",
      "/home/ubuntu/joule/venv/lib/python3.11/site-packages/jupyterlab/debuglog.py:56: UserWarning: See the log file for details: /tmp/jupyterlab-debug-dklhhghu.log\n",
      "  warnings.warn(f\"See the log file for details: {log_path!s}\")\n",
      "\u001b[33m(Deprecated) Installing extensions with the jupyter labextension install command is now deprecated and will be removed in a future major version of JupyterLab.\n",
      "\n",
      "Users should manage prebuilt extensions with package managers like pip and conda, and extension authors are encouraged to distribute their extensions as prebuilt packages \u001b[0m\n",
      "/home/ubuntu/joule/venv/lib/python3.11/site-packages/jupyterlab/debuglog.py:54: UserWarning: An error occurred.\n",
      "  warnings.warn(\"An error occurred.\")\n",
      "/home/ubuntu/joule/venv/lib/python3.11/site-packages/jupyterlab/debuglog.py:55: UserWarning: ValueError: Please install Node.js and npm before continuing installation. You may be able to install Node.js from your package manager, from conda, or directly from the Node.js website (https://nodejs.org).\n",
      "  warnings.warn(msg[-1].strip())\n",
      "/home/ubuntu/joule/venv/lib/python3.11/site-packages/jupyterlab/debuglog.py:56: UserWarning: See the log file for details: /tmp/jupyterlab-debug-ya3rh2pu.log\n",
      "  warnings.warn(f\"See the log file for details: {log_path!s}\")\n",
      "[LabBuildApp] JupyterLab 4.2.1\n",
      "[LabBuildApp] Building in /home/ubuntu/joule/venv/share/jupyter/lab\n",
      "[LabBuildApp] ERROR | Build failed.\n",
      "Troubleshooting: If the build failed due to an out-of-memory error, you\n",
      "may be able to fix it by disabling the `dev_build` and/or `minimize` options.\n",
      "\n",
      "If you are building via the `jupyter lab build` command, you can disable\n",
      "these options like so:\n",
      "\n",
      "jupyter lab build --dev-build=False --minimize=False\n",
      "\n",
      "You can also disable these options for all JupyterLab builds by adding these\n",
      "lines to a Jupyter config file named `jupyter_config.py`:\n",
      "\n",
      "c.LabBuildApp.minimize = False\n",
      "c.LabBuildApp.dev_build = False\n",
      "\n",
      "If you don't already have a `jupyter_config.py` file, you can create one by\n",
      "adding a blank file of that name to any of the Jupyter config directories.\n",
      "The config directories can be listed by running:\n",
      "\n",
      "jupyter --paths\n",
      "\n",
      "Explanation:\n",
      "\n",
      "- `dev-build`: This option controls whether a `dev` or a more streamlined\n",
      "`production` build is used. This option will default to `False` (i.e., the\n",
      "`production` build) for most users. However, if you have any labextensions\n",
      "installed from local files, this option will instead default to `True`.\n",
      "Explicitly setting `dev-build` to `False` will ensure that the `production`\n",
      "build is used in all circumstances.\n",
      "\n",
      "- `minimize`: This option controls whether your JS bundle is minified\n",
      "during the Webpack build, which helps to improve JupyterLab's overall\n",
      "performance. However, the minifier plugin used by Webpack is very memory\n",
      "intensive, so turning it off may help the build finish successfully in\n",
      "low-memory environments.\n",
      "\n",
      "/home/ubuntu/joule/venv/lib/python3.11/site-packages/jupyterlab/debuglog.py:54: UserWarning: An error occurred.\n",
      "  warnings.warn(\"An error occurred.\")\n",
      "/home/ubuntu/joule/venv/lib/python3.11/site-packages/jupyterlab/debuglog.py:55: UserWarning: ValueError: Please install Node.js and npm before continuing installation. You may be able to install Node.js from your package manager, from conda, or directly from the Node.js website (https://nodejs.org).\n",
      "  warnings.warn(msg[-1].strip())\n",
      "/home/ubuntu/joule/venv/lib/python3.11/site-packages/jupyterlab/debuglog.py:56: UserWarning: See the log file for details: /tmp/jupyterlab-debug-1qdh_s20.log\n",
      "  warnings.warn(f\"See the log file for details: {log_path!s}\")\n"
     ]
    }
   ],
   "source": [
    "# !jupyter labextension install @jupyter-widgets/jupyterlab-manager\n",
    "# !jupyter labextension install nglview-js-widgets\n",
    "# !jupyter lab build"
   ]
  },
  {
   "cell_type": "code",
   "execution_count": 32,
   "id": "3a3e2590-8e00-49ed-8b64-b2584d0336af",
   "metadata": {},
   "outputs": [
    {
     "data": {
      "application/vnd.jupyter.widget-view+json": {
       "model_id": "713fd40f1a364c2faf108499c12c0c48",
       "version_major": 2,
       "version_minor": 0
      },
      "text/plain": [
       "NGLWidget()"
      ]
     },
     "metadata": {},
     "output_type": "display_data"
    }
   ],
   "source": [
    "import nglview as nv\n",
    "import ase.io\n",
    "\n",
    "view = nv.show_ase(first_atoms)\n",
    "view"
   ]
  },
  {
   "cell_type": "code",
   "execution_count": 47,
   "id": "ed86ef29-aeeb-4c7f-9cf3-0b1c593f18a0",
   "metadata": {},
   "outputs": [
    {
     "data": {
      "application/vnd.jupyter.widget-view+json": {
       "model_id": "688bdbaab1774cc69d3175c44ca8506d",
       "version_major": 2,
       "version_minor": 0
      },
      "text/plain": [
       "NGLWidget(max_frame=12)"
      ]
     },
     "metadata": {},
     "output_type": "display_data"
    }
   ],
   "source": [
    "import nglview as nv\n",
    "from IPython.display import display\n",
    "import time\n",
    "\n",
    "# Create a copy of atoms_list excluding the 13th frame\n",
    "new_atoms_list = atoms_list[:13] + atoms_list[14:]  # Concatenate slices\n",
    "\n",
    "# Create an NGLView widget for the modified trajectory\n",
    "view = nv.show_asetraj(new_atoms_list)\n",
    "\n",
    "# Display the widget\n",
    "display(view)\n",
    "\n",
    "# Loop through configurations to animate (now with one less frame)\n",
    "for i in range(len(new_atoms_list)):\n",
    "    view.frame = i\n",
    "    time.sleep(0.5)  # Adjust the sleep time for desired animation speed\n"
   ]
  },
  {
   "cell_type": "code",
   "execution_count": 46,
   "id": "36ae1876-e8e4-4c4a-be0f-e61a812cede5",
   "metadata": {},
   "outputs": [
    {
     "data": {
      "application/vnd.jupyter.widget-view+json": {
       "model_id": "b89a30927c4340c28aee8d60ede0583b",
       "version_major": 2,
       "version_minor": 0
      },
      "text/plain": [
       "NGLWidget()"
      ]
     },
     "metadata": {},
     "output_type": "display_data"
    }
   ],
   "source": [
    "from ase.data import covalent_radii, atomic_numbers\n",
    "\n",
    "# Create a simple structure with He and U atoms\n",
    "symbols = ['He', 'U']\n",
    "positions = [(0, 0, 0), (2, 2, 2)]\n",
    "example_atoms = Atoms(symbols=symbols, positions=positions)\n",
    "\n",
    "# Map atoms to their covalent radii\n",
    "radii = [covalent_radii[atomic_numbers[atom]] for atom in symbols]\n",
    "\n",
    "# Create an NGLWidget\n",
    "view = nv.show_ase(example_atoms)\n",
    "\n",
    "# Add a spacefill representation with real-life sizes\n",
    "view.add_spacefill(radius_type='data', radius=radii)\n",
    "\n",
    "view"
   ]
  },
  {
   "cell_type": "code",
   "execution_count": null,
   "id": "c76ff772-bbe9-439b-9567-897cca474f13",
   "metadata": {},
   "outputs": [],
   "source": []
  },
  {
   "cell_type": "code",
   "execution_count": null,
   "id": "8a24a060-4110-4595-b126-c395a6ea83cb",
   "metadata": {},
   "outputs": [],
   "source": []
  },
  {
   "cell_type": "code",
   "execution_count": null,
   "id": "e2327d20-3f39-487f-ba62-72c3e1143cab",
   "metadata": {},
   "outputs": [],
   "source": []
  }
 ],
 "metadata": {
  "kernelspec": {
   "display_name": "Python 3 (ipykernel)",
   "language": "python",
   "name": "python3"
  },
  "language_info": {
   "codemirror_mode": {
    "name": "ipython",
    "version": 3
   },
   "file_extension": ".py",
   "mimetype": "text/x-python",
   "name": "python",
   "nbconvert_exporter": "python",
   "pygments_lexer": "ipython3",
   "version": "3.11.9"
  }
 },
 "nbformat": 4,
 "nbformat_minor": 5
}
