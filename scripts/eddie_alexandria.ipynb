{
 "cells": [
  {
   "cell_type": "code",
   "execution_count": 1,
   "id": "00a416c1-4f30-4638-a0bb-dca16a590028",
   "metadata": {
    "tags": []
   },
   "outputs": [
    {
     "name": "stdout",
     "output_type": "stream",
     "text": [
      "Found 15419 entries\n",
      "\n",
      "Entry:\n",
      " None ComputedStructureEntry - Zn1 In1 S3   (ZnInS3)\n",
      "Energy (Uncorrected)     = -16.5690  eV (-3.3138  eV/atom)\n",
      "Correction               = 0.0000    eV (0.0000   eV/atom)\n",
      "Energy (Final)           = -16.5690  eV (-3.3138  eV/atom)\n",
      "Energy Adjustments:\n",
      "  Manual energy adjustment: 0.0000    eV (0.0000   eV/atom)\n",
      "Parameters:\n",
      "Data:\n",
      "  mat_id                 = agm002582981\n",
      "  prototype_id           = ABC3_0_spg221\n",
      "  location               = extra/rng/S/S3ZnIn/xxx_02s-00_agm002582981_spg221\n",
      "  formula                = ZnInS3\n",
      "  elements               = ['Zn', 'S', 'In']\n",
      "  spg                    = 221\n",
      "  nsites                 = 5\n",
      "  stress                 = [[1.5294205, 0.0, 0.0], [0.0, 1.5294205, 0.0], [0.0, 0.0, 1.5294205]]\n",
      "  energy_total           = -16.56903923\n",
      "  total_mag              = 0.0001156\n",
      "  band_gap_ind           = 0.0\n",
      "  band_gap_dir           = 0.0\n",
      "  dos_ef                 = 5.358309\n",
      "  energy_corrected       = -16.569038\n",
      "  e_above_hull           = 0.8426449\n",
      "  e_form                 = 0.22962964\n",
      "  e_phase_separation     = 0.8426449\n",
      "  decomposition          =  In2S3  S  ZnS \n",
      "\n",
      "Structure:\n",
      " Full Formula (Zn1 In1 S3)\n",
      "Reduced Formula: ZnInS3\n",
      "abc   :   4.632703   4.632703   4.632703\n",
      "angles:  90.000000  90.000000  90.000000\n",
      "pbc   :       True       True       True\n",
      "Sites (5)\n",
      "  #  SP      a    b    c    charge  forces             magmom\n",
      "---  ----  ---  ---  ---  --------  ---------------  --------\n",
      "  0  Zn    0    0    0      10.969  [0.0, 0.0, 0.0]        -0\n",
      "  1  S     0    0.5  0       3.611  [0.0, 0.0, 0.0]         0\n",
      "  2  S     0    0    0.5     3.611  [0.0, 0.0, 0.0]         0\n",
      "  3  S     0.5  0    0       3.611  [0.0, 0.0, 0.0]         0\n",
      "  4  In    0.5  0.5  0.5    11.085  [0.0, 0.0, 0.0]        -0\n"
     ]
    }
   ],
   "source": [
    "import json, bz2\n",
    "from pymatgen.entries.computed_entries import ComputedStructureEntry\n",
    "\n",
    "file_path = \"../datasets/alexandria/alexandria_ps_004.json.bz2\"\n",
    "\n",
    "with bz2.open(file_path) as fh:\n",
    "    data = json.loads(fh.read().decode('utf-8'))\n",
    "\n",
    "entries = [ComputedStructureEntry.from_dict(i) for i in data[\"entries\"]]\n",
    "\n",
    "print(\"Found \" + str(len(entries)) + \" entries\")\n",
    "print(\"\\nEntry:\\n\", entries[0])\n",
    "print(\"\\nStructure:\\n\", entries[0].structure)"
   ]
  },
  {
   "cell_type": "code",
   "execution_count": 2,
   "id": "7c30df6f-2766-4764-830a-0085f2f1c4b5",
   "metadata": {
    "tags": []
   },
   "outputs": [
    {
     "name": "stdout",
     "output_type": "stream",
     "text": [
      "\n",
      "Entry:\n",
      " Full Formula (Zn1 In1 Sb1)\n",
      "Reduced Formula: ZnInSb\n",
      "abc   :   4.704573   4.704573   4.704573\n",
      "angles:  60.000000  60.000000  60.000000\n",
      "pbc   :       True       True       True\n",
      "Sites (3)\n",
      "  #  SP       a     b     c    charge  forces               magmom\n",
      "---  ----  ----  ----  ----  --------  -----------------  --------\n",
      "  0  Sb    0.5   0.5   0.5      2.404  [0.0, 0.0, -0.0]         -0\n",
      "  1  Zn    0.75  0.75  0.75    10.742  [0.0, -0.0, 0.0]         -0\n",
      "  2  In    0     0     0       11.378  [-0.0, -0.0, 0.0]        -0\n"
     ]
    }
   ],
   "source": [
    "print(\"\\nEntry:\\n\", entries[2].structure)"
   ]
  },
  {
   "cell_type": "code",
   "execution_count": 12,
   "id": "9ab8b0a7-41a4-477f-80c4-adcd847a7cbb",
   "metadata": {
    "tags": []
   },
   "outputs": [
    {
     "data": {
      "text/html": [
       "\n",
       "        <iframe\n",
       "            width=\"100%\"\n",
       "            height=\"650\"\n",
       "            src=\"http://127.0.0.1:8884/\"\n",
       "            frameborder=\"0\"\n",
       "            allowfullscreen\n",
       "            \n",
       "        ></iframe>\n",
       "        "
      ],
      "text/plain": [
       "<IPython.lib.display.IFrame at 0x702e6e7ea7d0>"
      ]
     },
     "metadata": {},
     "output_type": "display_data"
    }
   ],
   "source": [
    "import numpy as np\n",
    "import crystal_toolkit\n",
    "from pymatgen.core import Structure\n",
    "\n",
    "def tile_structure(lattice, species, coordinates, scale):\n",
    "    tiled_lattice = lattice * scale * 0.75\n",
    "    tiled_coordinates_list = []\n",
    "    tiled_species = []\n",
    "    for i in range(scale):\n",
    "        for j in range(scale):\n",
    "            for k in range(scale):\n",
    "                new_coords = (coordinates + np.array([i, j, k])) / scale\n",
    "                tiled_coordinates_list.append(new_coords)\n",
    "                tiled_species.extend(species)\n",
    "    tiled_coordinates = np.concatenate(tiled_coordinates_list, axis=0)\n",
    "    return tiled_lattice, tiled_species, tiled_coordinates\n",
    "\n",
    "def get_structure(entry):\n",
    "    structure = entry.structure\n",
    "    lattice = structure.lattice.matrix\n",
    "    species = [site.species_string for site in structure.sites]\n",
    "    coordinates = [site.frac_coords for site in structure.sites]\n",
    "    return lattice, species, coordinates\n",
    "\n",
    "def show_crystal(entry, tile_amount=1):\n",
    "    lattice, species, coordinates = get_structure(entry)\n",
    "    tiled_lattice, tiled_species, tiled_coordinates = tile_structure(lattice, species, coordinates, tile_amount)\n",
    "    display(Structure(tiled_lattice, tiled_species, tiled_coordinates))\n",
    "\n",
    "show_crystal(entries[0])"
   ]
  },
  {
   "cell_type": "code",
   "execution_count": null,
   "id": "f96d02c5-5262-4645-b117-2e406c89843c",
   "metadata": {},
   "outputs": [],
   "source": []
  }
 ],
 "metadata": {
  "kernelspec": {
   "display_name": "Python 3 (ipykernel)",
   "language": "python",
   "name": "python3"
  },
  "language_info": {
   "codemirror_mode": {
    "name": "ipython",
    "version": 3
   },
   "file_extension": ".py",
   "mimetype": "text/x-python",
   "name": "python",
   "nbconvert_exporter": "python",
   "pygments_lexer": "ipython3",
   "version": "3.11.9"
  }
 },
 "nbformat": 4,
 "nbformat_minor": 5
}
