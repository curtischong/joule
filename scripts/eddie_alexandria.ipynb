{
 "cells": [
  {
   "cell_type": "code",
   "execution_count": 2,
   "id": "00a416c1-4f30-4638-a0bb-dca16a590028",
   "metadata": {
    "tags": []
   },
   "outputs": [
    {
     "name": "stdout",
     "output_type": "stream",
     "text": [
      "Found 15419 entries\n",
      "\n",
      "Entry:\n",
      " None ComputedStructureEntry - Zn1 In1 S3   (ZnInS3)\n",
      "Energy (Uncorrected)     = -16.5690  eV (-3.3138  eV/atom)\n",
      "Correction               = 0.0000    eV (0.0000   eV/atom)\n",
      "Energy (Final)           = -16.5690  eV (-3.3138  eV/atom)\n",
      "Energy Adjustments:\n",
      "  Manual energy adjustment: 0.0000    eV (0.0000   eV/atom)\n",
      "Parameters:\n",
      "Data:\n",
      "  mat_id                 = agm002582981\n",
      "  prototype_id           = ABC3_0_spg221\n",
      "  location               = extra/rng/S/S3ZnIn/xxx_02s-00_agm002582981_spg221\n",
      "  formula                = ZnInS3\n",
      "  elements               = ['Zn', 'S', 'In']\n",
      "  spg                    = 221\n",
      "  nsites                 = 5\n",
      "  stress                 = [[1.5294205, 0.0, 0.0], [0.0, 1.5294205, 0.0], [0.0, 0.0, 1.5294205]]\n",
      "  energy_total           = -16.56903923\n",
      "  total_mag              = 0.0001156\n",
      "  band_gap_ind           = 0.0\n",
      "  band_gap_dir           = 0.0\n",
      "  dos_ef                 = 5.358309\n",
      "  energy_corrected       = -16.569038\n",
      "  e_above_hull           = 0.8426449\n",
      "  e_form                 = 0.22962964\n",
      "  e_phase_separation     = 0.8426449\n",
      "  decomposition          =  In2S3  S  ZnS \n",
      "\n",
      "Structure:\n",
      " Full Formula (Zn1 In1 S3)\n",
      "Reduced Formula: ZnInS3\n",
      "abc   :   4.632703   4.632703   4.632703\n",
      "angles:  90.000000  90.000000  90.000000\n",
      "pbc   :       True       True       True\n",
      "Sites (5)\n",
      "  #  SP      a    b    c    charge  forces             magmom\n",
      "---  ----  ---  ---  ---  --------  ---------------  --------\n",
      "  0  Zn    0    0    0      10.969  [0.0, 0.0, 0.0]        -0\n",
      "  1  S     0    0.5  0       3.611  [0.0, 0.0, 0.0]         0\n",
      "  2  S     0    0    0.5     3.611  [0.0, 0.0, 0.0]         0\n",
      "  3  S     0.5  0    0       3.611  [0.0, 0.0, 0.0]         0\n",
      "  4  In    0.5  0.5  0.5    11.085  [0.0, 0.0, 0.0]        -0\n"
     ]
    }
   ],
   "source": [
    "import json, bz2\n",
    "from pymatgen.entries.computed_entries import ComputedStructureEntry\n",
    "\n",
    "file_path = \"../datasets/alexandria/alexandria_ps_004.json.bz2\"\n",
    "\n",
    "with bz2.open(file_path) as fh:\n",
    "    data = json.loads(fh.read().decode('utf-8'))\n",
    "\n",
    "entries = [ComputedStructureEntry.from_dict(i) for i in data[\"entries\"]]\n",
    "\n",
    "print(\"Found \" + str(len(entries)) + \" entries\")\n",
    "print(\"\\nEntry:\\n\", entries[0])\n",
    "print(\"\\nStructure:\\n\", entries[0].structure)"
   ]
  },
  {
   "cell_type": "code",
   "execution_count": 3,
   "id": "7c30df6f-2766-4764-830a-0085f2f1c4b5",
   "metadata": {
    "tags": []
   },
   "outputs": [
    {
     "name": "stdout",
     "output_type": "stream",
     "text": [
      "\n",
      "Entry:\n",
      " Full Formula (Zn1 In1 Sb1)\n",
      "Reduced Formula: ZnInSb\n",
      "abc   :   4.704573   4.704573   4.704573\n",
      "angles:  60.000000  60.000000  60.000000\n",
      "pbc   :       True       True       True\n",
      "Sites (3)\n",
      "  #  SP       a     b     c    charge  forces               magmom\n",
      "---  ----  ----  ----  ----  --------  -----------------  --------\n",
      "  0  Sb    0.5   0.5   0.5      2.404  [0.0, 0.0, -0.0]         -0\n",
      "  1  Zn    0.75  0.75  0.75    10.742  [0.0, -0.0, 0.0]         -0\n",
      "  2  In    0     0     0       11.378  [-0.0, -0.0, 0.0]        -0\n"
     ]
    }
   ],
   "source": [
    "print(\"\\nEntry:\\n\", entries[2].structure)"
   ]
  },
  {
   "cell_type": "code",
   "execution_count": 4,
   "id": "9ab8b0a7-41a4-477f-80c4-adcd847a7cbb",
   "metadata": {
    "tags": []
   },
   "outputs": [
    {
     "name": "stderr",
     "output_type": "stream",
     "text": [
      "/Users/curtischong/Documents/dev/joule/venv/lib/python3.11/site-packages/tqdm/auto.py:21: TqdmWarning: IProgress not found. Please update jupyter and ipywidgets. See https://ipywidgets.readthedocs.io/en/stable/user_install.html\n",
      "  from .autonotebook import tqdm as notebook_tqdm\n"
     ]
    }
   ],
   "source": [
    "import numpy as np\n",
    "import crystal_toolkit\n",
    "from pymatgen.core import Structure\n",
    "\n",
    "def tile_structure(lattice, species, coordinates, scale):\n",
    "    tiled_lattice = lattice * scale * 0.75\n",
    "    tiled_coordinates_list = []\n",
    "    tiled_species = []\n",
    "    for i in range(scale):\n",
    "        for j in range(scale):\n",
    "            for k in range(scale):\n",
    "                new_coords = (coordinates + np.array([i, j, k])) / scale\n",
    "                tiled_coordinates_list.append(new_coords)\n",
    "                tiled_species.extend(species)\n",
    "    tiled_coordinates = np.concatenate(tiled_coordinates_list, axis=0)\n",
    "    return tiled_lattice, tiled_species, tiled_coordinates\n",
    "\n",
    "def get_structure(entry):\n",
    "    structure = entry.structure\n",
    "    lattice = structure.lattice.matrix\n",
    "    species = [site.species_string for site in structure.sites]\n",
    "    coordinates = [site.frac_coords for site in structure.sites]\n",
    "    return lattice, species, coordinates\n",
    "\n",
    "def show_crystal(entry, tile_amount=1):\n",
    "    lattice, species, coordinates = get_structure(entry)\n",
    "    tiled_lattice, tiled_species, tiled_coordinates = tile_structure(lattice, species, coordinates, tile_amount)\n",
    "    display(Structure(tiled_lattice, tiled_species, tiled_coordinates))"
   ]
  },
  {
   "cell_type": "code",
   "execution_count": 6,
   "id": "f96d02c5-5262-4645-b117-2e406c89843c",
   "metadata": {
    "tags": []
   },
   "outputs": [
    {
     "data": {
      "text/html": [
       "\n",
       "        <iframe\n",
       "            width=\"100%\"\n",
       "            height=\"650\"\n",
       "            src=\"http://127.0.0.1:8884/\"\n",
       "            frameborder=\"0\"\n",
       "            allowfullscreen\n",
       "            \n",
       "        ></iframe>\n",
       "        "
      ],
      "text/plain": [
       "<IPython.lib.display.IFrame at 0x2e4366dd0>"
      ]
     },
     "metadata": {},
     "output_type": "display_data"
    }
   ],
   "source": [
    "show_crystal(entries[0])"
   ]
  },
  {
   "cell_type": "code",
   "execution_count": 27,
   "id": "059c2340-23f3-43f7-b112-eb834a721ccc",
   "metadata": {
    "tags": []
   },
   "outputs": [
    {
     "data": {
      "text/plain": [
       "array([[ 6.23096541,  0.        ,  0.        ],\n",
       "       [ 0.        ,  6.23096541,  0.        ],\n",
       "       [-3.1154827 , -3.1154827 ,  6.28232566]])"
      ]
     },
     "execution_count": 27,
     "metadata": {},
     "output_type": "execute_result"
    }
   ],
   "source": [
    "entries[3].structure.lattice.matrix"
   ]
  },
  {
   "cell_type": "code",
   "execution_count": 31,
   "id": "4bace329-5a35-4779-a1c4-aac2238f00a6",
   "metadata": {
    "tags": []
   },
   "outputs": [
    {
     "data": {
      "image/png": "[encoded data removed]",
      "text/plain": [
       "<Figure size 1500x1000 with 3 Axes>"
      ]
     },
     "metadata": {},
     "output_type": "display_data"
    }
   ],
   "source": [
    "import matplotlib.pyplot as plt\n",
    "# Convert to a transposed list to plot each lattice parameter\n",
    "def plot_lattice(entry):\n",
    "    lattice_params = entry.structure.lattice.matrix\n",
    "    #lattice_params_transposed = list(map(list, zip(*lattice_params)))\n",
    "\n",
    "    # Plotting the bar chart for each lattice parameter\n",
    "    plt.figure(figsize=(15, 10))\n",
    "    for i, params in enumerate(lattice_params):\n",
    "        plt.subplot(3, 3, i+1)\n",
    "        plt.bar(range(len(params)), params, color='blue')\n",
    "        plt.xlabel('Configuration Index')\n",
    "        plt.ylabel(f'Lattice Parameter {i+1}')\n",
    "        plt.title(f'Lattice Parameter {i+1}')\n",
    "\n",
    "    #plt.suptitle(f'Lattice Parameters for Each Configuration in {file_name}')\n",
    "    plt.tight_layout(rect=[0, 0.03, 1, 0.95])\n",
    "    plt.show()\n",
    "plot_lattice(entries[3])"
   ]
  },
  {
   "cell_type": "code",
   "execution_count": 14,
   "id": "7769f31b-8b0a-4d44-bca9-88c47ee199f1",
   "metadata": {},
   "outputs": [
    {
     "data": {
      "application/vnd.mp.ctk+json": {
       "contents": [
        {
         "clickable": false,
         "id": "--0",
         "positions": [
          [
           0,
           0,
           0
          ],
          [
           6.23096541,
           0,
           0
          ],
          [
           0,
           0,
           0
          ],
          [
           0,
           6.23096541,
           0
          ],
          [
           0,
           0,
           0
          ],
          [
           -3.1154827,
           -3.1154827,
           6.28232566
          ],
          [
           6.23096541,
           0,
           0
          ],
          [
           6.23096541,
           6.23096541,
           0
          ],
          [
           6.23096541,
           0,
           0
          ],
          [
           3.1154827099999998,
           -3.1154827,
           6.28232566
          ],
          [
           0,
           6.23096541,
           0
          ],
          [
           6.23096541,
           6.23096541,
           0
          ],
          [
           0,
           6.23096541,
           0
          ],
          [
           -3.1154827,
           3.1154827099999998,
           6.28232566
          ],
          [
           -3.1154827,
           -3.1154827,
           6.28232566
          ],
          [
           3.1154827099999998,
           -3.1154827,
           6.28232566
          ],
          [
           -3.1154827,
           -3.1154827,
           6.28232566
          ],
          [
           -3.1154827,
           3.1154827099999998,
           6.28232566
          ],
          [
           6.23096541,
           6.23096541,
           0
          ],
          [
           3.1154827099999998,
           3.1154827099999998,
           6.28232566
          ],
          [
           3.1154827099999998,
           -3.1154827,
           6.28232566
          ],
          [
           3.1154827099999998,
           3.1154827099999998,
           6.28232566
          ],
          [
           -3.1154827,
           3.1154827099999998,
           6.28232566
          ],
          [
           3.1154827099999998,
           3.1154827099999998,
           6.28232566
          ]
         ],
         "type": "lines"
        }
       ],
       "name": "a=6.23096541, b=6.23096541, c=7.673335689665414, alpha=113.95469325121333, beta=113.95469325121333, gamma=90.0",
       "visible": true
      },
      "text/plain": [
       "Lattice\n",
       "    abc : 6.23096541 6.23096541 7.673335689665414\n",
       " angles : 113.95469325121333 113.95469325121333 90.0\n",
       " volume : 243.91085361363707\n",
       "      A : 6.23096541 0.0 0.0\n",
       "      B : 0.0 6.23096541 0.0\n",
       "      C : -3.1154827 -3.1154827 6.28232566\n",
       "    pbc : True True True"
      ]
     },
     "metadata": {},
     "output_type": "display_data"
    },
    {
     "data": {
      "application/vnd.mp.ctk+json": {
       "contents": [
        {
         "clickable": false,
         "id": "--0",
         "positions": [
          [
           0,
           0,
           0
          ],
          [
           6.23096541,
           0,
           0
          ],
          [
           0,
           0,
           0
          ],
          [
           0,
           6.23096541,
           0
          ],
          [
           0,
           0,
           0
          ],
          [
           -3.1154827,
           -3.1154827,
           6.28232566
          ],
          [
           6.23096541,
           0,
           0
          ],
          [
           6.23096541,
           6.23096541,
           0
          ],
          [
           6.23096541,
           0,
           0
          ],
          [
           3.1154827099999998,
           -3.1154827,
           6.28232566
          ],
          [
           0,
           6.23096541,
           0
          ],
          [
           6.23096541,
           6.23096541,
           0
          ],
          [
           0,
           6.23096541,
           0
          ],
          [
           -3.1154827,
           3.1154827099999998,
           6.28232566
          ],
          [
           -3.1154827,
           -3.1154827,
           6.28232566
          ],
          [
           3.1154827099999998,
           -3.1154827,
           6.28232566
          ],
          [
           -3.1154827,
           -3.1154827,
           6.28232566
          ],
          [
           -3.1154827,
           3.1154827099999998,
           6.28232566
          ],
          [
           6.23096541,
           6.23096541,
           0
          ],
          [
           3.1154827099999998,
           3.1154827099999998,
           6.28232566
          ],
          [
           3.1154827099999998,
           -3.1154827,
           6.28232566
          ],
          [
           3.1154827099999998,
           3.1154827099999998,
           6.28232566
          ],
          [
           -3.1154827,
           3.1154827099999998,
           6.28232566
          ],
          [
           3.1154827099999998,
           3.1154827099999998,
           6.28232566
          ]
         ],
         "type": "lines"
        }
       ],
       "name": "a=6.23096541, b=6.23096541, c=7.673335689665414, alpha=113.95469325121333, beta=113.95469325121333, gamma=90.0",
       "visible": true
      },
      "text/plain": [
       "Lattice\n",
       "    abc : 6.23096541 6.23096541 7.673335689665414\n",
       " angles : 113.95469325121333 113.95469325121333 90.0\n",
       " volume : 243.91085361363707\n",
       "      A : 6.23096541 0.0 0.0\n",
       "      B : 0.0 6.23096541 0.0\n",
       "      C : -3.1154827 -3.1154827 6.28232566\n",
       "    pbc : True True True"
      ]
     },
     "metadata": {},
     "output_type": "display_data"
    }
   ],
   "source": [
    "for i in range(2):\n",
    "    display(entries[3].structure.lattice)"
   ]
  },
  {
   "cell_type": "code",
   "execution_count": null,
   "id": "f6caf8e1-488d-44e2-8207-95699fe5de7e",
   "metadata": {},
   "outputs": [],
   "source": [
    "for file_name in files:\n",
    "    file_path = os.path.join(directory_path, file_name)\n",
    "    atoms_list = ase.io.read(file_path, index=':')\n",
    "    \n",
    "    # Extract all lattice parameters\n",
    "    lattice_params = [atoms.cell.flatten() for atoms in atoms_list]\n",
    "    \n",
    "    # Convert to a transposed list to plot each lattice parameter\n",
    "    lattice_params_transposed = list(map(list, zip(*lattice_params)))\n",
    "    \n",
    "    # Plotting the bar chart for each lattice parameter\n",
    "    plt.figure(figsize=(15, 10))\n",
    "    for i, params in enumerate(lattice_params_transposed):\n",
    "        plt.subplot(3, 3, i+1)\n",
    "        plt.bar(range(len(params)), params, color='blue')\n",
    "        plt.xlabel('Configuration Index')\n",
    "        plt.ylabel(f'Lattice Parameter {i+1}')\n",
    "        plt.title(f'Lattice Parameter {i+1}')\n",
    "    \n",
    "    plt.suptitle(f'Lattice Parameters for Each Configuration in {file_name}')\n",
    "    plt.tight_layout(rect=[0, 0.03, 1, 0.95])\n",
    "    plt.show()\n"
   ]
  }
 ],
 "metadata": {
  "kernelspec": {
   "display_name": "Python 3 (ipykernel)",
   "language": "python",
   "name": "python3"
  },
  "language_info": {
   "codemirror_mode": {
    "name": "ipython",
    "version": 3
   },
   "file_extension": ".py",
   "mimetype": "text/x-python",
   "name": "python",
   "nbconvert_exporter": "python",
   "pygments_lexer": "ipython3",
   "version": "3.11.9"
  }
 },
 "nbformat": 4,
 "nbformat_minor": 5
}
