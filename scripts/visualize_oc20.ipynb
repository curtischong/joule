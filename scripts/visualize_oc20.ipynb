{
 "cells": [
  {
   "cell_type": "code",
   "execution_count": 1,
   "id": "1ffe8fe3-5573-44cf-8c6f-0f97790ceaee",
   "metadata": {
    "tags": []
   },
   "outputs": [],
   "source": [
    "import lmdb\n",
    "from pathlib import Path\n",
    "import pickle\n",
    "from fairchem.core.common.utils import pyg2_data_transform"
   ]
  },
  {
   "cell_type": "code",
   "execution_count": 2,
   "id": "f3e4c932-4ff2-4cc2-988e-f7027871fa89",
   "metadata": {
    "tags": []
   },
   "outputs": [],
   "source": [
    "db_path = \"/Users/curtischong/Documents/dev/joule/src/fairchem/data/s2ef_test_lmdbs/test_data/s2ef/all/test_id/data.0000.lmdb\"\n",
    "\n",
    "def connect_db(lmdb_path: Path | None = None) -> lmdb.Environment:\n",
    "    return lmdb.open(\n",
    "        str(lmdb_path),\n",
    "        subdir=False,\n",
    "        readonly=True,\n",
    "        lock=False,\n",
    "        readahead=True,\n",
    "        meminit=False,\n",
    "        max_readers=1,\n",
    "    )\n",
    "\n",
    "cur_env = connect_db(db_path)"
   ]
  },
  {
   "cell_type": "code",
   "execution_count": 3,
   "id": "56662c07-eb76-4ef0-8db8-4589fd4fbe46",
   "metadata": {
    "tags": []
   },
   "outputs": [],
   "source": [
    "# If \"length\" encoded as ascii is present, use that\n",
    "length_entry = cur_env.begin().get(\"length\".encode(\"ascii\"))\n",
    "if length_entry is not None:\n",
    "    num_entries = pickle.loads(length_entry)\n",
    "else:\n",
    "    # Get the number of stores data from the number of entries\n",
    "    # in the LMDB\n",
    "    num_entries = cur_env.stat()[\"entries\"]\n"
   ]
  },
  {
   "cell_type": "code",
   "execution_count": 4,
   "id": "bddbe817-b871-4e80-97f8-9229b5182b95",
   "metadata": {
    "tags": []
   },
   "outputs": [
    {
     "data": {
      "text/plain": [
       "625"
      ]
     },
     "execution_count": 4,
     "metadata": {},
     "output_type": "execute_result"
    }
   ],
   "source": [
    "num_entries"
   ]
  },
  {
   "cell_type": "code",
   "execution_count": 5,
   "id": "f4310341-518a-4510-b642-f0f596a48f01",
   "metadata": {
    "tags": []
   },
   "outputs": [],
   "source": [
    "el_idx = 1\n",
    "datapoint_pickled = (\n",
    "    cur_env\n",
    "    .begin()\n",
    "    .get(f\"{el_idx}\".encode(\"ascii\"))\n",
    ")\n",
    "data_object = pyg2_data_transform(pickle.loads(datapoint_pickled))"
   ]
  },
  {
   "cell_type": "code",
   "execution_count": 6,
   "id": "3d89e814-2f5a-438f-ab12-0b9fa48e3033",
   "metadata": {
    "tags": []
   },
   "outputs": [
    {
     "data": {
      "text/plain": [
       "tensor([0, 0, 0, 0, 0, 0, 0, 0, 1, 0, 0, 1, 0, 1, 1, 0, 0, 0, 0, 0, 0, 0, 0, 0,\n",
       "        1, 0, 1, 0, 0, 1, 0, 1, 0, 0, 0, 0, 0, 0, 0, 0, 0, 0, 0, 0, 0, 0, 0, 0,\n",
       "        1, 0, 1, 0, 0, 1, 0, 1, 0, 1, 0, 1, 1, 0, 1, 0, 2])"
      ]
     },
     "execution_count": 6,
     "metadata": {},
     "output_type": "execute_result"
    }
   ],
   "source": [
    "data_object.tags"
   ]
  },
  {
   "cell_type": "code",
   "execution_count": 7,
   "id": "8fe0e358-46c8-4a97-a0c4-3ace8bfc2837",
   "metadata": {
    "tags": []
   },
   "outputs": [
    {
     "data": {
      "text/plain": [
       "Data(edge_index=[2, 1116], pos=[65, 3], cell=[1, 3, 3], atomic_numbers=[65], natoms=65, cell_offsets=[1116, 3], fixed=[65], tags=[65], sid=[1], fid=[1])"
      ]
     },
     "execution_count": 7,
     "metadata": {},
     "output_type": "execute_result"
    }
   ],
   "source": [
    "data_object"
   ]
  },
  {
   "cell_type": "code",
   "execution_count": 11,
   "id": "30be6d24-866f-425d-bdc6-9bc93a193da3",
   "metadata": {
    "tags": []
   },
   "outputs": [
    {
     "data": {
      "text/plain": [
       "tensor([0, 0, 0, 0, 0, 0, 0, 0, 1, 0, 0, 1, 0, 1, 1, 0, 0, 0, 0, 0, 0, 0, 0, 0,\n",
       "        1, 0, 1, 0, 0, 1, 0, 1, 0, 0, 0, 0, 0, 0, 0, 0, 0, 0, 0, 0, 0, 0, 0, 0,\n",
       "        1, 0, 1, 0, 0, 1, 0, 1, 0, 1, 0, 1, 1, 0, 1, 0, 2])"
      ]
     },
     "execution_count": 11,
     "metadata": {},
     "output_type": "execute_result"
    }
   ],
   "source": [
    "data_object.tags"
   ]
  },
  {
   "cell_type": "code",
   "execution_count": 18,
   "id": "0ede97fd-45c0-4528-a0a4-da38bddf250a",
   "metadata": {},
   "outputs": [
    {
     "data": {
      "text/html": [
       "\n",
       "        <iframe\n",
       "            width=\"100%\"\n",
       "            height=\"650\"\n",
       "            src=\"http://127.0.0.1:8884/\"\n",
       "            frameborder=\"0\"\n",
       "            allowfullscreen\n",
       "            \n",
       "        ></iframe>\n",
       "        "
      ],
      "text/plain": [
       "<IPython.lib.display.IFrame at 0x2d4f291d0>"
      ]
     },
     "metadata": {},
     "output_type": "display_data"
    }
   ],
   "source": [
    "import crystal_toolkit\n",
    "from pymatgen.core import Structure\n",
    "import numpy as np\n",
    "\n",
    "\n",
    "def tile_structure(lattice, species, coordinates, scale):\n",
    "    tiled_lattice = lattice * 2\n",
    "    tiled_coordinates_list = []\n",
    "    tiled_species = []\n",
    "    for i in range(scale):\n",
    "        for j in range(scale):\n",
    "            for k in range(scale):\n",
    "                new_coords = (coordinates + np.array([i, j, k])) / scale\n",
    "                tiled_coordinates_list.append(new_coords)\n",
    "                tiled_species.extend(species)\n",
    "    tiled_coordinates = np.concatenate(tiled_coordinates_list, axis=0)\n",
    "    return tiled_lattice, tiled_species, tiled_coordinates\n",
    "\n",
    "def visualize_sample(res, tile_amount=1, is_tags_visible=False):\n",
    "    lattice = res.cell\n",
    "    species = res.atomic_numbers\n",
    "    coordinates = res.pos\n",
    "    if is_tags_visible:\n",
    "        # tag all slab atoms below surface as 0, surface as 1, adsorbate as 2\n",
    "        species = res.tags + 1\n",
    "    tiled_lattice, tiled_species, tiled_coordinates = tile_structure(lattice, species, coordinates, tile_amount)\n",
    "    display(Structure(tiled_lattice, tiled_species, tiled_coordinates))\n",
    "    #display(Structure(lattice, species, coordinates, coords_are_cartesian=False))\n",
    "    \n",
    "visualize_sample(data_object, 1, True)"
   ]
  }
 ],
 "metadata": {
  "kernelspec": {
   "display_name": "Python 3 (ipykernel)",
   "language": "python",
   "name": "python3"
  },
  "language_info": {
   "codemirror_mode": {
    "name": "ipython",
    "version": 3
   },
   "file_extension": ".py",
   "mimetype": "text/x-python",
   "name": "python",
   "nbconvert_exporter": "python",
   "pygments_lexer": "ipython3",
   "version": "3.11.8"
  }
 },
 "nbformat": 4,
 "nbformat_minor": 5
}
