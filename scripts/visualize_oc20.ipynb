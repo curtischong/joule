{
 "cells": [
  {
   "cell_type": "code",
   "execution_count": 39,
   "id": "1ffe8fe3-5573-44cf-8c6f-0f97790ceaee",
   "metadata": {
    "tags": []
   },
   "outputs": [],
   "source": [
    "import lmdb\n",
    "from pathlib import Path\n",
    "import pickle\n",
    "from fairchem.core.common.utils import pyg2_data_transform"
   ]
  },
  {
   "cell_type": "code",
   "execution_count": 38,
   "id": "f3e4c932-4ff2-4cc2-988e-f7027871fa89",
   "metadata": {
    "tags": []
   },
   "outputs": [],
   "source": [
    "db_path = \"/Users/curtischong/Documents/dev/joule/src/fairchem/data/s2ef_test_lmdbs/test_data/s2ef/all/test_id/data.0000.lmdb\"\n",
    "\n",
    "def connect_db(lmdb_path: Path | None = None) -> lmdb.Environment:\n",
    "    return lmdb.open(\n",
    "        str(lmdb_path),\n",
    "        subdir=False,\n",
    "        readonly=True,\n",
    "        lock=False,\n",
    "        readahead=True,\n",
    "        meminit=False,\n",
    "        max_readers=1,\n",
    "    )\n",
    "\n",
    "cur_env = connect_db(db_path)"
   ]
  },
  {
   "cell_type": "code",
   "execution_count": 34,
   "id": "56662c07-eb76-4ef0-8db8-4589fd4fbe46",
   "metadata": {
    "tags": []
   },
   "outputs": [],
   "source": [
    "# If \"length\" encoded as ascii is present, use that\n",
    "length_entry = cur_env.begin().get(\"length\".encode(\"ascii\"))\n",
    "if length_entry is not None:\n",
    "    num_entries = pickle.loads(length_entry)\n",
    "else:\n",
    "    # Get the number of stores data from the number of entries\n",
    "    # in the LMDB\n",
    "    num_entries = cur_env.stat()[\"entries\"]\n"
   ]
  },
  {
   "cell_type": "code",
   "execution_count": 35,
   "id": "bddbe817-b871-4e80-97f8-9229b5182b95",
   "metadata": {
    "tags": []
   },
   "outputs": [
    {
     "data": {
      "text/plain": [
       "625"
      ]
     },
     "execution_count": 35,
     "metadata": {},
     "output_type": "execute_result"
    }
   ],
   "source": [
    "num_entries"
   ]
  },
  {
   "cell_type": "code",
   "execution_count": 40,
   "id": "f4310341-518a-4510-b642-f0f596a48f01",
   "metadata": {
    "tags": []
   },
   "outputs": [],
   "source": [
    "el_idx = 1\n",
    "datapoint_pickled = (\n",
    "    cur_env\n",
    "    .begin()\n",
    "    .get(f\"{el_idx}\".encode(\"ascii\"))\n",
    ")\n",
    "data_object = pyg2_data_transform(pickle.loads(datapoint_pickled))"
   ]
  },
  {
   "cell_type": "code",
   "execution_count": 44,
   "id": "3d89e814-2f5a-438f-ab12-0b9fa48e3033",
   "metadata": {
    "tags": []
   },
   "outputs": [
    {
     "data": {
      "text/plain": [
       "tensor([0, 0, 0, 0, 0, 0, 0, 0, 1, 0, 0, 1, 0, 1, 1, 0, 0, 0, 0, 0, 0, 0, 0, 0,\n",
       "        1, 0, 1, 0, 0, 1, 0, 1, 0, 0, 0, 0, 0, 0, 0, 0, 0, 0, 0, 0, 0, 0, 0, 0,\n",
       "        1, 0, 1, 0, 0, 1, 0, 1, 0, 1, 0, 1, 1, 0, 1, 0, 2])"
      ]
     },
     "execution_count": 44,
     "metadata": {},
     "output_type": "execute_result"
    }
   ],
   "source": [
    "data_object.tags"
   ]
  }
 ],
 "metadata": {
  "kernelspec": {
   "display_name": "Python 3 (ipykernel)",
   "language": "python",
   "name": "python3"
  },
  "language_info": {
   "codemirror_mode": {
    "name": "ipython",
    "version": 3
   },
   "file_extension": ".py",
   "mimetype": "text/x-python",
   "name": "python",
   "nbconvert_exporter": "python",
   "pygments_lexer": "ipython3",
   "version": "3.11.8"
  }
 },
 "nbformat": 4,
 "nbformat_minor": 5
}
