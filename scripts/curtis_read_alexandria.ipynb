{
 "cells": [
  {
   "cell_type": "code",
   "execution_count": 9,
   "id": "b60afbec-6132-4929-988f-69ee39fcdbb6",
   "metadata": {
    "tags": []
   },
   "outputs": [],
   "source": [
    "import bz2\n",
    "import pathlib\n",
    "import json\n",
    "from pymatgen.entries.computed_entries import ComputedStructureEntry\n",
    "from pymatgen.io.ase import AseAtomsAdaptor"
   ]
  },
  {
   "cell_type": "code",
   "execution_count": 8,
   "id": "99c23d69-12ef-45d6-bb92-3f3e1564e8f2",
   "metadata": {
    "tags": []
   },
   "outputs": [],
   "source": [
    "IN_DIR = f\"../datasets/alexandria\"\n",
    "filename = \"alexandria_ps_004\"\n",
    "with bz2.open(f\"{IN_DIR}/{filename}.json.bz2\", \"rt\", encoding=\"utf-8\") as fh:\n",
    "    data = json.load(fh)"
   ]
  },
  {
   "cell_type": "code",
   "execution_count": 9,
   "id": "b4384f6b-6d34-4b14-8a09-0ccb07245212",
   "metadata": {
    "tags": []
   },
   "outputs": [],
   "source": [
    "entries = [ComputedStructureEntry.from_dict(i) for i in data[\"entries\"]]"
   ]
  },
  {
   "cell_type": "code",
   "execution_count": 16,
   "id": "a5e9e99c-1ea1-4053-b8af-90928bb4ef1a",
   "metadata": {
    "tags": []
   },
   "outputs": [
    {
     "data": {
      "text/plain": [
       "['REDIRECT',\n",
       " '__abstractmethods__',\n",
       " '__class__',\n",
       " '__delattr__',\n",
       " '__dict__',\n",
       " '__dir__',\n",
       " '__doc__',\n",
       " '__eq__',\n",
       " '__format__',\n",
       " '__ge__',\n",
       " '__get_pydantic_core_schema__',\n",
       " '__get_pydantic_json_schema__',\n",
       " '__get_validators__',\n",
       " '__getattribute__',\n",
       " '__getstate__',\n",
       " '__gt__',\n",
       " '__hash__',\n",
       " '__init__',\n",
       " '__init_subclass__',\n",
       " '__le__',\n",
       " '__lt__',\n",
       " '__modify_schema__',\n",
       " '__module__',\n",
       " '__ne__',\n",
       " '__new__',\n",
       " '__reduce__',\n",
       " '__reduce_ex__',\n",
       " '__repr__',\n",
       " '__setattr__',\n",
       " '__sizeof__',\n",
       " '__slots__',\n",
       " '__str__',\n",
       " '__subclasshook__',\n",
       " '__weakref__',\n",
       " '_abc_impl',\n",
       " '_composition',\n",
       " '_energy',\n",
       " '_generic_json_schema',\n",
       " '_get_partial_json',\n",
       " '_normalization_factor',\n",
       " '_structure',\n",
       " '_validate_monty',\n",
       " 'as_dict',\n",
       " 'composition',\n",
       " 'copy',\n",
       " 'correction',\n",
       " 'correction_per_atom',\n",
       " 'correction_uncertainty',\n",
       " 'correction_uncertainty_per_atom',\n",
       " 'data',\n",
       " 'elements',\n",
       " 'energy',\n",
       " 'energy_adjustments',\n",
       " 'energy_per_atom',\n",
       " 'entry_id',\n",
       " 'formula',\n",
       " 'from_dict',\n",
       " 'get_partial_json',\n",
       " 'is_element',\n",
       " 'load',\n",
       " 'name',\n",
       " 'normalize',\n",
       " 'parameters',\n",
       " 'reduced_formula',\n",
       " 'save',\n",
       " 'structure',\n",
       " 'to_json',\n",
       " 'uncorrected_energy',\n",
       " 'uncorrected_energy_per_atom',\n",
       " 'unsafe_hash',\n",
       " 'validate_monty_v1',\n",
       " 'validate_monty_v2']"
      ]
     },
     "execution_count": 16,
     "metadata": {},
     "output_type": "execute_result"
    }
   ],
   "source": [
    "dir(entries[0])"
   ]
  },
  {
   "cell_type": "code",
   "execution_count": 47,
   "id": "62300b4c-e51b-4621-955b-aa43f8fcafc9",
   "metadata": {
    "tags": []
   },
   "outputs": [],
   "source": [
    "entry = entries[0]"
   ]
  },
  {
   "cell_type": "code",
   "execution_count": 48,
   "id": "99a37e1a-c0ff-4e2f-a4dd-3e73e89376fa",
   "metadata": {
    "tags": []
   },
   "outputs": [
    {
     "name": "stdout",
     "output_type": "stream",
     "text": [
      "nan\n"
     ]
    }
   ],
   "source": [
    "print(entry.correction_uncertainty)"
   ]
  },
  {
   "cell_type": "code",
   "execution_count": 49,
   "id": "62003836-5db3-436d-b485-a447292ea994",
   "metadata": {
    "tags": []
   },
   "outputs": [
    {
     "name": "stdout",
     "output_type": "stream",
     "text": [
      "-16.56903923\n",
      "-16.56903923\n"
     ]
    }
   ],
   "source": [
    "print(entry.uncorrected_energy)\n",
    "print(entry.uncorrected_energy_per_atom*5)"
   ]
  },
  {
   "cell_type": "code",
   "execution_count": 50,
   "id": "89194639-c693-4362-b56b-b13cceea5fc0",
   "metadata": {
    "tags": []
   },
   "outputs": [
    {
     "name": "stdout",
     "output_type": "stream",
     "text": [
      "-16.569038\n",
      "-16.569038\n",
      "-16.569038\n"
     ]
    }
   ],
   "source": [
    "print(entry.energy)\n",
    "print(entry.uncorrected_energy + entry.energy_adjustments[0].value)\n",
    "print(entry.uncorrected_energy + entry.correction)"
   ]
  },
  {
   "cell_type": "code",
   "execution_count": 58,
   "id": "3f103a40-5e18-4319-a87b-f149a3a35036",
   "metadata": {
    "tags": []
   },
   "outputs": [
    {
     "name": "stdout",
     "output_type": "stream",
     "text": [
      "[[-0.0, -0.00308648, -0.01347259], [-0.0, -0.00308648, 0.01347259], [-0.0, 0.00308648, -0.01347259], [-0.0, 0.00308648, 0.01347259], [-0.0, 0.0065103, 0.00272313], [0.0, 0.0065103, -0.00272313], [-0.0, -0.0065103, 0.00272313], [0.0, -0.0065103, -0.00272313], [0.0, -0.00799615, 0.00451615], [-0.0, 0.00799615, -0.00451615], [0.0, 0.00799615, 0.00451615], [-0.0, -0.00799615, -0.00451615]]\n"
     ]
    }
   ],
   "source": [
    "structure = entries[1].structure\n",
    "forces = []\n",
    "for site in structure:\n",
    "    if \"forces\" in site.properties:\n",
    "        forces.append(site.properties[\"forces\"])\n",
    "    else:\n",
    "        forces.append([None, None, None])  # If forces are not present for a site\n",
    "print(forces)"
   ]
  },
  {
   "cell_type": "code",
   "execution_count": 62,
   "id": "d51923d3-c72d-4780-82e8-8d0f39f958b9",
   "metadata": {
    "tags": []
   },
   "outputs": [
    {
     "data": {
      "text/plain": [
       "None ComputedStructureEntry - Zn4 In4 Sb4  (ZnInSb)\n",
       "Energy (Uncorrected)     = -36.3133  eV (-3.0261  eV/atom)\n",
       "Correction               = 0.0000    eV (0.0000   eV/atom)\n",
       "Energy (Final)           = -36.3132  eV (-3.0261  eV/atom)\n",
       "Energy Adjustments:\n",
       "  Manual energy adjustment: 0.0000    eV (0.0000   eV/atom)\n",
       "Parameters:\n",
       "Data:\n",
       "  mat_id                 = agm002246624\n",
       "  prototype_id           = ABC_23_spg62\n",
       "  location               = database/batch-000/Zn/ZnInSb/xxx_02s-00_agm002246624_spg62\n",
       "  formula                = ZnInSb\n",
       "  elements               = ['Sb', 'Zn', 'In']\n",
       "  spg                    = 62\n",
       "  nsites                 = 12\n",
       "  stress                 = [[3.986265, 0.0, 0.0], [0.0, 2.5276124, 0.0], [0.0, 0.0, 4.385445]]\n",
       "  energy_total           = -36.3132524\n",
       "  total_mag              = 0.0001\n",
       "  band_gap_ind           = 0.0\n",
       "  band_gap_dir           = 0.0217\n",
       "  dos_ef                 = 1.82692\n",
       "  energy_corrected       = -36.31325\n",
       "  e_above_hull           = 0.067933686\n",
       "  e_form                 = 0.01459426\n",
       "  e_phase_separation     = 0.067933686\n",
       "  decomposition          =  InSb  Zn "
      ]
     },
     "execution_count": 62,
     "metadata": {},
     "output_type": "execute_result"
    }
   ],
   "source": [
    "entries[1]"
   ]
  },
  {
   "cell_type": "code",
   "execution_count": 6,
   "id": "6875fac6-fc6e-4266-bfc0-467c334ccee1",
   "metadata": {
    "tags": []
   },
   "outputs": [
    {
     "data": {
      "text/plain": [
       "pymatgen.entries.computed_entries.ComputedStructureEntry"
      ]
     },
     "execution_count": 6,
     "metadata": {},
     "output_type": "execute_result"
    }
   ],
   "source": [
    "type(entries[0])"
   ]
  },
  {
   "cell_type": "code",
   "execution_count": 18,
   "id": "ff0ca726-8821-4c7a-9295-e5ea66d8b32d",
   "metadata": {
    "tags": []
   },
   "outputs": [],
   "source": [
    "#data[\"entries\"][0]\n",
    "raw_data = data[\"entries\"]\n",
    "ase_atoms = AseAtomsAdaptor.get_atoms(entries[0].structure)"
   ]
  },
  {
   "cell_type": "code",
   "execution_count": 22,
   "id": "ab2d8062-20d0-41de-958b-76474da82b82",
   "metadata": {
    "tags": []
   },
   "outputs": [
    {
     "data": {
      "text/plain": [
       "pymatgen.io.ase.MSONAtoms"
      ]
     },
     "execution_count": 22,
     "metadata": {},
     "output_type": "execute_result"
    }
   ],
   "source": [
    "type(ase_atoms)"
   ]
  },
  {
   "cell_type": "code",
   "execution_count": 10,
   "id": "6935b623-9406-481f-b97d-49a63bedbbf3",
   "metadata": {
    "tags": []
   },
   "outputs": [
    {
     "ename": "AttributeError",
     "evalue": "'dict' object has no attribute 'get_tags'",
     "output_type": "error",
     "traceback": [
      "\u001b[0;31m---------------------------------------------------------------------------\u001b[0m",
      "\u001b[0;31mAttributeError\u001b[0m                            Traceback (most recent call last)",
      "Cell \u001b[0;32mIn[10], line 2\u001b[0m\n\u001b[1;32m      1\u001b[0m raw_data \u001b[38;5;241m=\u001b[39m data[\u001b[38;5;124m\"\u001b[39m\u001b[38;5;124mentries\u001b[39m\u001b[38;5;124m\"\u001b[39m]\n\u001b[0;32m----> 2\u001b[0m tags \u001b[38;5;241m=\u001b[39m \u001b[43mraw_data\u001b[49m\u001b[43m[\u001b[49m\u001b[38;5;241;43m0\u001b[39;49m\u001b[43m]\u001b[49m\u001b[38;5;241;43m.\u001b[39;49m\u001b[43mget_tags\u001b[49m()\n\u001b[1;32m      3\u001b[0m data_objects \u001b[38;5;241m=\u001b[39m a2g\u001b[38;5;241m.\u001b[39mconvert_all(raw_data, disable_tqdm\u001b[38;5;241m=\u001b[39m\u001b[38;5;28;01mTrue\u001b[39;00m)\n",
      "\u001b[0;31mAttributeError\u001b[0m: 'dict' object has no attribute 'get_tags'"
     ]
    }
   ],
   "source": [
    "tags = raw_data[0].get_tags()\n",
    "data_objects = a2g.convert_all(raw_data, disable_tqdm=True)"
   ]
  }
 ],
 "metadata": {
  "kernelspec": {
   "display_name": "Python 3 (ipykernel)",
   "language": "python",
   "name": "python3"
  },
  "language_info": {
   "codemirror_mode": {
    "name": "ipython",
    "version": 3
   },
   "file_extension": ".py",
   "mimetype": "text/x-python",
   "name": "python",
   "nbconvert_exporter": "python",
   "pygments_lexer": "ipython3",
   "version": "3.11.9"
  }
 },
 "nbformat": 4,
 "nbformat_minor": 5
}
