{
 "cells": [
  {
   "cell_type": "code",
   "execution_count": 13,
   "id": "b60afbec-6132-4929-988f-69ee39fcdbb6",
   "metadata": {
    "tags": []
   },
   "outputs": [],
   "source": [
    "import bz2\n",
    "import pathlib\n",
    "import json\n",
    "from pymatgen.entries.computed_entries import ComputedStructureEntry\n",
    "from pymatgen.io.ase import AseAtomsAdaptor"
   ]
  },
  {
   "cell_type": "code",
   "execution_count": 4,
   "id": "99c23d69-12ef-45d6-bb92-3f3e1564e8f2",
   "metadata": {
    "tags": []
   },
   "outputs": [],
   "source": [
    "IN_DIR = f\"../datasets/alexandria\"\n",
    "filename = \"alexandria_ps_004\"\n",
    "with bz2.open(f\"{IN_DIR}/{filename}.json.bz2\", \"rt\", encoding=\"utf-8\") as fh:\n",
    "    data = json.load(fh)"
   ]
  },
  {
   "cell_type": "code",
   "execution_count": 5,
   "id": "b4384f6b-6d34-4b14-8a09-0ccb07245212",
   "metadata": {
    "tags": []
   },
   "outputs": [],
   "source": [
    "entries = [ComputedStructureEntry.from_dict(i) for i in data[\"entries\"]]"
   ]
  },
  {
   "cell_type": "code",
   "execution_count": 39,
   "id": "f36abdfb-4d08-4335-ad81-cedce09ad4c6",
   "metadata": {
    "tags": []
   },
   "outputs": [],
   "source": [
    "# for entry in entries:\n",
    "#     structure = entry.structure\n",
    "#     forces = []\n",
    "#     for site in structure:\n",
    "#         if \"forces\" in site.properties:\n",
    "#             forces.append(site.properties[\"forces\"])\n",
    "#         else:\n",
    "#             forces.append([None, None, None])  # If forces are not present for a site\n",
    "#     print(forces)"
   ]
  },
  {
   "cell_type": "code",
   "execution_count": 46,
   "id": "25336f8b-e602-4591-b7b1-4ad24a6dd7d7",
   "metadata": {
    "tags": []
   },
   "outputs": [
    {
     "data": {
      "text/plain": [
       "{'mat_id': 'agm002582981',\n",
       " 'prototype_id': 'ABC3_0_spg221',\n",
       " 'location': 'extra/rng/S/S3ZnIn/xxx_02s-00_agm002582981_spg221',\n",
       " 'formula': 'ZnInS3',\n",
       " 'elements': ['Zn', 'S', 'In'],\n",
       " 'spg': 221,\n",
       " 'nsites': 5,\n",
       " 'stress': [[1.5294205, 0.0, 0.0],\n",
       "  [0.0, 1.5294205, 0.0],\n",
       "  [0.0, 0.0, 1.5294205]],\n",
       " 'energy_total': -16.56903923,\n",
       " 'total_mag': 0.0001156,\n",
       " 'band_gap_ind': 0.0,\n",
       " 'band_gap_dir': 0.0,\n",
       " 'dos_ef': 5.358309,\n",
       " 'energy_corrected': -16.569038,\n",
       " 'e_above_hull': 0.8426449,\n",
       " 'e_form': 0.22962964,\n",
       " 'e_phase_separation': 0.8426449,\n",
       " 'decomposition': ' In2S3  S  ZnS '}"
      ]
     },
     "execution_count": 46,
     "metadata": {},
     "output_type": "execute_result"
    }
   ],
   "source": [
    "entries[0].data"
   ]
  },
  {
   "cell_type": "code",
   "execution_count": 45,
   "id": "ae123860-9475-4f17-a2b3-26db80c062b3",
   "metadata": {
    "tags": []
   },
   "outputs": [
    {
     "data": {
      "text/plain": [
       "None ComputedStructureEntry - Zn1 In1 S3   (ZnInS3)\n",
       "Energy (Uncorrected)     = -16.5690  eV (-3.3138  eV/atom)\n",
       "Correction               = 0.0000    eV (0.0000   eV/atom)\n",
       "Energy (Final)           = -16.5690  eV (-3.3138  eV/atom)\n",
       "Energy Adjustments:\n",
       "  Manual energy adjustment: 0.0000    eV (0.0000   eV/atom)\n",
       "Parameters:\n",
       "Data:\n",
       "  mat_id                 = agm002582981\n",
       "  prototype_id           = ABC3_0_spg221\n",
       "  location               = extra/rng/S/S3ZnIn/xxx_02s-00_agm002582981_spg221\n",
       "  formula                = ZnInS3\n",
       "  elements               = ['Zn', 'S', 'In']\n",
       "  spg                    = 221\n",
       "  nsites                 = 5\n",
       "  stress                 = [[1.5294205, 0.0, 0.0], [0.0, 1.5294205, 0.0], [0.0, 0.0, 1.5294205]]\n",
       "  energy_total           = -16.56903923\n",
       "  total_mag              = 0.0001156\n",
       "  band_gap_ind           = 0.0\n",
       "  band_gap_dir           = 0.0\n",
       "  dos_ef                 = 5.358309\n",
       "  energy_corrected       = -16.569038\n",
       "  e_above_hull           = 0.8426449\n",
       "  e_form                 = 0.22962964\n",
       "  e_phase_separation     = 0.8426449\n",
       "  decomposition          =  In2S3  S  ZnS "
      ]
     },
     "execution_count": 45,
     "metadata": {},
     "output_type": "execute_result"
    }
   ],
   "source": [
    "entries[0]"
   ]
  },
  {
   "cell_type": "code",
   "execution_count": 37,
   "id": "048b02d0-b581-4d74-a018-d61fb1f2fba5",
   "metadata": {
    "tags": []
   },
   "outputs": [
    {
     "ename": "AttributeError",
     "evalue": "'ComputedStructureEntry' object has no attribute 'site'",
     "output_type": "error",
     "traceback": [
      "\u001b[0;31m---------------------------------------------------------------------------\u001b[0m",
      "\u001b[0;31mAttributeError\u001b[0m                            Traceback (most recent call last)",
      "Cell \u001b[0;32mIn[37], line 2\u001b[0m\n\u001b[1;32m      1\u001b[0m \u001b[38;5;66;03m#entries[1].data.get(\"forces\")\u001b[39;00m\n\u001b[0;32m----> 2\u001b[0m \u001b[43mentries\u001b[49m\u001b[43m[\u001b[49m\u001b[38;5;241;43m1\u001b[39;49m\u001b[43m]\u001b[49m\u001b[38;5;241;43m.\u001b[39;49m\u001b[43msite\u001b[49m\u001b[38;5;241m.\u001b[39mproperties[\u001b[38;5;124m\"\u001b[39m\u001b[38;5;124mforces\u001b[39m\u001b[38;5;124m\"\u001b[39m]\n",
      "\u001b[0;31mAttributeError\u001b[0m: 'ComputedStructureEntry' object has no attribute 'site'"
     ]
    }
   ],
   "source": [
    "#entries[1].data.get(\"forces\")\n",
    "#entries[1].site.properties[\"forces\"]"
   ]
  },
  {
   "cell_type": "code",
   "execution_count": 6,
   "id": "6875fac6-fc6e-4266-bfc0-467c334ccee1",
   "metadata": {
    "tags": []
   },
   "outputs": [
    {
     "data": {
      "text/plain": [
       "pymatgen.entries.computed_entries.ComputedStructureEntry"
      ]
     },
     "execution_count": 6,
     "metadata": {},
     "output_type": "execute_result"
    }
   ],
   "source": [
    "type(entries[0])"
   ]
  },
  {
   "cell_type": "code",
   "execution_count": 18,
   "id": "ff0ca726-8821-4c7a-9295-e5ea66d8b32d",
   "metadata": {
    "tags": []
   },
   "outputs": [],
   "source": [
    "#data[\"entries\"][0]\n",
    "raw_data = data[\"entries\"]\n",
    "ase_atoms = AseAtomsAdaptor.get_atoms(entries[0].structure)"
   ]
  },
  {
   "cell_type": "code",
   "execution_count": 22,
   "id": "ab2d8062-20d0-41de-958b-76474da82b82",
   "metadata": {
    "tags": []
   },
   "outputs": [
    {
     "data": {
      "text/plain": [
       "pymatgen.io.ase.MSONAtoms"
      ]
     },
     "execution_count": 22,
     "metadata": {},
     "output_type": "execute_result"
    }
   ],
   "source": [
    "type(ase_atoms)"
   ]
  },
  {
   "cell_type": "code",
   "execution_count": 10,
   "id": "6935b623-9406-481f-b97d-49a63bedbbf3",
   "metadata": {
    "tags": []
   },
   "outputs": [
    {
     "ename": "AttributeError",
     "evalue": "'dict' object has no attribute 'get_tags'",
     "output_type": "error",
     "traceback": [
      "\u001b[0;31m---------------------------------------------------------------------------\u001b[0m",
      "\u001b[0;31mAttributeError\u001b[0m                            Traceback (most recent call last)",
      "Cell \u001b[0;32mIn[10], line 2\u001b[0m\n\u001b[1;32m      1\u001b[0m raw_data \u001b[38;5;241m=\u001b[39m data[\u001b[38;5;124m\"\u001b[39m\u001b[38;5;124mentries\u001b[39m\u001b[38;5;124m\"\u001b[39m]\n\u001b[0;32m----> 2\u001b[0m tags \u001b[38;5;241m=\u001b[39m \u001b[43mraw_data\u001b[49m\u001b[43m[\u001b[49m\u001b[38;5;241;43m0\u001b[39;49m\u001b[43m]\u001b[49m\u001b[38;5;241;43m.\u001b[39;49m\u001b[43mget_tags\u001b[49m()\n\u001b[1;32m      3\u001b[0m data_objects \u001b[38;5;241m=\u001b[39m a2g\u001b[38;5;241m.\u001b[39mconvert_all(raw_data, disable_tqdm\u001b[38;5;241m=\u001b[39m\u001b[38;5;28;01mTrue\u001b[39;00m)\n",
      "\u001b[0;31mAttributeError\u001b[0m: 'dict' object has no attribute 'get_tags'"
     ]
    }
   ],
   "source": [
    "tags = raw_data[0].get_tags()\n",
    "data_objects = a2g.convert_all(raw_data, disable_tqdm=True)"
   ]
  },
  {
   "cell_type": "code",
   "execution_count": 32,
   "id": "ad320b68-96b1-419a-bde5-440a53814d71",
   "metadata": {
    "tags": []
   },
   "outputs": [
    {
     "data": {
      "text/plain": [
       "{'@module': 'pymatgen.entries.computed_entries',\n",
       " '@class': 'ComputedStructureEntry',\n",
       " 'energy': -36.3132524,\n",
       " 'composition': {'Sb': 4.0, 'Zn': 4.0, 'In': 4.0},\n",
       " 'entry_id': None,\n",
       " 'correction': 2.4000000067303517e-06,\n",
       " 'energy_adjustments': [{'@module': 'pymatgen.entries.computed_entries',\n",
       "   '@class': 'ManualEnergyAdjustment',\n",
       "   '@version': None,\n",
       "   'value': 2.4000000067303517e-06}],\n",
       " 'parameters': {},\n",
       " 'data': {'mat_id': 'agm002246624',\n",
       "  'prototype_id': 'ABC_23_spg62',\n",
       "  'location': 'database/batch-000/Zn/ZnInSb/xxx_02s-00_agm002246624_spg62',\n",
       "  'formula': 'ZnInSb',\n",
       "  'elements': ['Sb', 'Zn', 'In'],\n",
       "  'spg': 62,\n",
       "  'nsites': 12,\n",
       "  'stress': [[3.986265, 0.0, 0.0],\n",
       "   [0.0, 2.5276124, 0.0],\n",
       "   [0.0, 0.0, 4.385445]],\n",
       "  'energy_total': -36.3132524,\n",
       "  'total_mag': 0.0001,\n",
       "  'band_gap_ind': 0.0,\n",
       "  'band_gap_dir': 0.0217,\n",
       "  'dos_ef': 1.82692,\n",
       "  'energy_corrected': -36.31325,\n",
       "  'e_above_hull': 0.067933686,\n",
       "  'e_form': 0.01459426,\n",
       "  'e_phase_separation': 0.067933686,\n",
       "  'decomposition': ' InSb  Zn '},\n",
       " 'structure': {'@module': 'pymatgen.core.structure',\n",
       "  '@class': 'Structure',\n",
       "  'charge': 0,\n",
       "  'lattice': {'matrix': [[4.60945551, 0.0, 0.0],\n",
       "    [0.0, 7.18613193, 0.0],\n",
       "    [0.0, 0.0, 8.67753458]],\n",
       "   'pbc': [True, True, True],\n",
       "   'a': 4.60945551,\n",
       "   'b': 7.18613193,\n",
       "   'c': 8.67753458,\n",
       "   'alpha': 90.0,\n",
       "   'beta': 90.0,\n",
       "   'gamma': 90.0,\n",
       "   'volume': 287.4360040931684},\n",
       "  'sites': [{'species': [{'element': 'Sb', 'occu': 1}],\n",
       "    'abc': [0.25, 0.88751765, 0.33565688],\n",
       "    'xyz': [1.1523638775, 6.377818923103565, 2.9126741832149103],\n",
       "    'label': 'Sb',\n",
       "    'properties': {'magmom': -0.0,\n",
       "     'charge': 2.456,\n",
       "     'forces': [-0.0, -0.00308648, -0.01347259]}},\n",
       "   {'species': [{'element': 'Sb', 'occu': 1}],\n",
       "    'abc': [0.75, 0.38751765, 0.16434312],\n",
       "    'xyz': [3.4570916325, 2.7847529581035646, 1.4260931067850897],\n",
       "    'label': 'Sb',\n",
       "    'properties': {'magmom': -0.0,\n",
       "     'charge': 2.456,\n",
       "     'forces': [-0.0, -0.00308648, 0.01347259]}},\n",
       "   {'species': [{'element': 'Sb', 'occu': 1}],\n",
       "    'abc': [0.25, 0.61248235, 0.83565688],\n",
       "    'xyz': [1.1523638775, 4.401378971896436, 7.251441473214911],\n",
       "    'label': 'Sb',\n",
       "    'properties': {'magmom': -0.0,\n",
       "     'charge': 2.456,\n",
       "     'forces': [-0.0, 0.00308648, -0.01347259]}},\n",
       "   {'species': [{'element': 'Sb', 'occu': 1}],\n",
       "    'abc': [0.75, 0.11248235, 0.66434312],\n",
       "    'xyz': [3.4570916325, 0.8083130068964355, 5.764860396785089],\n",
       "    'label': 'Sb',\n",
       "    'properties': {'magmom': -0.0,\n",
       "     'charge': 2.456,\n",
       "     'forces': [-0.0, 0.00308648, 0.01347259]}},\n",
       "   {'species': [{'element': 'Zn', 'occu': 1}],\n",
       "    'abc': [0.75, 0.08493846, 0.33953255],\n",
       "    'xyz': [3.4570916325, 0.6103789794910278, 2.9463054436605787],\n",
       "    'label': 'Zn',\n",
       "    'properties': {'magmom': 0.0,\n",
       "     'charge': 10.766,\n",
       "     'forces': [-0.0, 0.0065103, 0.00272313]}},\n",
       "   {'species': [{'element': 'Zn', 'occu': 1}],\n",
       "    'abc': [0.25, 0.58493846, 0.16046745],\n",
       "    'xyz': [1.1523638775, 4.203444944491029, 1.392461846339421],\n",
       "    'label': 'Zn',\n",
       "    'properties': {'magmom': 0.0,\n",
       "     'charge': 10.766,\n",
       "     'forces': [0.0, 0.0065103, -0.00272313]}},\n",
       "   {'species': [{'element': 'Zn', 'occu': 1}],\n",
       "    'abc': [0.75, 0.41506154, 0.83953255],\n",
       "    'xyz': [3.4570916325, 2.9826869855089724, 7.285072733660579],\n",
       "    'label': 'Zn',\n",
       "    'properties': {'magmom': 0.0,\n",
       "     'charge': 10.766,\n",
       "     'forces': [-0.0, -0.0065103, 0.00272313]}},\n",
       "   {'species': [{'element': 'Zn', 'occu': 1}],\n",
       "    'abc': [0.25, 0.91506154, 0.66046745],\n",
       "    'xyz': [1.1523638775, 6.575752950508972, 5.7312291363394205],\n",
       "    'label': 'Zn',\n",
       "    'properties': {'magmom': 0.0,\n",
       "     'charge': 10.766,\n",
       "     'forces': [0.0, -0.0065103, -0.00272313]}},\n",
       "   {'species': [{'element': 'In', 'occu': 1}],\n",
       "    'abc': [0.25, 0.15557104, 0.96507998],\n",
       "    'xyz': [1.1523638775, 1.117954017927307, 8.374514898915708],\n",
       "    'label': 'In',\n",
       "    'properties': {'magmom': 0.0,\n",
       "     'charge': 11.291,\n",
       "     'forces': [0.0, -0.00799615, 0.00451615]}},\n",
       "   {'species': [{'element': 'In', 'occu': 1}],\n",
       "    'abc': [0.75, 0.84442896, 0.03492002],\n",
       "    'xyz': [3.4570916325, 6.068177912072693, 0.3030196810842916],\n",
       "    'label': 'In',\n",
       "    'properties': {'magmom': 0.0,\n",
       "     'charge': 11.291,\n",
       "     'forces': [-0.0, 0.00799615, -0.00451615]}},\n",
       "   {'species': [{'element': 'In', 'occu': 1}],\n",
       "    'abc': [0.25, 0.34442896, 0.46507998],\n",
       "    'xyz': [1.1523638775, 2.4751119470726928, 4.035747608915709],\n",
       "    'label': 'In',\n",
       "    'properties': {'magmom': 0.0,\n",
       "     'charge': 11.291,\n",
       "     'forces': [0.0, 0.00799615, 0.00451615]}},\n",
       "   {'species': [{'element': 'In', 'occu': 1}],\n",
       "    'abc': [0.75, 0.65557104, 0.53492002],\n",
       "    'xyz': [3.4570916325, 4.711019982927307, 4.641786971084292],\n",
       "    'label': 'In',\n",
       "    'properties': {'magmom': 0.0,\n",
       "     'charge': 11.291,\n",
       "     'forces': [-0.0, -0.00799615, -0.00451615]}}]}}"
      ]
     },
     "execution_count": 32,
     "metadata": {},
     "output_type": "execute_result"
    }
   ],
   "source": [
    "raw_data[1]"
   ]
  },
  {
   "cell_type": "code",
   "execution_count": 26,
   "id": "417a0697-172f-4e06-bf1c-4363f6246a6a",
   "metadata": {
    "tags": []
   },
   "outputs": [
    {
     "ename": "AttributeError",
     "evalue": "'ComputedStructureEntry' object has no attribute 'forces'",
     "output_type": "error",
     "traceback": [
      "\u001b[0;31m---------------------------------------------------------------------------\u001b[0m",
      "\u001b[0;31mAttributeError\u001b[0m                            Traceback (most recent call last)",
      "Cell \u001b[0;32mIn[26], line 1\u001b[0m\n\u001b[0;32m----> 1\u001b[0m \u001b[43mentries\u001b[49m\u001b[43m[\u001b[49m\u001b[38;5;241;43m0\u001b[39;49m\u001b[43m]\u001b[49m\u001b[38;5;241;43m.\u001b[39;49m\u001b[43mforces\u001b[49m\n",
      "\u001b[0;31mAttributeError\u001b[0m: 'ComputedStructureEntry' object has no attribute 'forces'"
     ]
    }
   ],
   "source": [
    "entries[0].forces"
   ]
  }
 ],
 "metadata": {
  "kernelspec": {
   "display_name": "Python 3 (ipykernel)",
   "language": "python",
   "name": "python3"
  },
  "language_info": {
   "codemirror_mode": {
    "name": "ipython",
    "version": 3
   },
   "file_extension": ".py",
   "mimetype": "text/x-python",
   "name": "python",
   "nbconvert_exporter": "python",
   "pygments_lexer": "ipython3",
   "version": "3.11.0"
  }
 },
 "nbformat": 4,
 "nbformat_minor": 5
}
