{
 "cells": [
  {
   "cell_type": "code",
   "execution_count": 13,
   "id": "b60afbec-6132-4929-988f-69ee39fcdbb6",
   "metadata": {
    "tags": []
   },
   "outputs": [],
   "source": [
    "import bz2\n",
    "import pathlib\n",
    "import json\n",
    "from pymatgen.entries.computed_entries import ComputedStructureEntry\n",
    "from pymatgen.io.ase import AseAtomsAdaptor"
   ]
  },
  {
   "cell_type": "code",
   "execution_count": 4,
   "id": "99c23d69-12ef-45d6-bb92-3f3e1564e8f2",
   "metadata": {
    "tags": []
   },
   "outputs": [],
   "source": [
    "IN_DIR = f\"../datasets/alexandria\"\n",
    "filename = \"alexandria_ps_004\"\n",
    "with bz2.open(f\"{IN_DIR}/{filename}.json.bz2\", \"rt\", encoding=\"utf-8\") as fh:\n",
    "    data = json.load(fh)"
   ]
  },
  {
   "cell_type": "code",
   "execution_count": 5,
   "id": "b4384f6b-6d34-4b14-8a09-0ccb07245212",
   "metadata": {
    "tags": []
   },
   "outputs": [],
   "source": [
    "entries = [ComputedStructureEntry.from_dict(i) for i in data[\"entries\"]]"
   ]
  },
  {
   "cell_type": "code",
   "execution_count": 6,
   "id": "6875fac6-fc6e-4266-bfc0-467c334ccee1",
   "metadata": {
    "tags": []
   },
   "outputs": [
    {
     "data": {
      "text/plain": [
       "pymatgen.entries.computed_entries.ComputedStructureEntry"
      ]
     },
     "execution_count": 6,
     "metadata": {},
     "output_type": "execute_result"
    }
   ],
   "source": [
    "type(entries[0])"
   ]
  },
  {
   "cell_type": "code",
   "execution_count": 18,
   "id": "ff0ca726-8821-4c7a-9295-e5ea66d8b32d",
   "metadata": {
    "tags": []
   },
   "outputs": [],
   "source": [
    "#data[\"entries\"][0]\n",
    "raw_data = data[\"entries\"]\n",
    "ase_atoms = AseAtomsAdaptor.get_atoms(entries[0].structure)"
   ]
  },
  {
   "cell_type": "code",
   "execution_count": 22,
   "id": "ab2d8062-20d0-41de-958b-76474da82b82",
   "metadata": {
    "tags": []
   },
   "outputs": [
    {
     "data": {
      "text/plain": [
       "pymatgen.io.ase.MSONAtoms"
      ]
     },
     "execution_count": 22,
     "metadata": {},
     "output_type": "execute_result"
    }
   ],
   "source": [
    "type(ase_atoms)"
   ]
  },
  {
   "cell_type": "code",
   "execution_count": 10,
   "id": "6935b623-9406-481f-b97d-49a63bedbbf3",
   "metadata": {
    "tags": []
   },
   "outputs": [
    {
     "ename": "AttributeError",
     "evalue": "'dict' object has no attribute 'get_tags'",
     "output_type": "error",
     "traceback": [
      "\u001b[0;31m---------------------------------------------------------------------------\u001b[0m",
      "\u001b[0;31mAttributeError\u001b[0m                            Traceback (most recent call last)",
      "Cell \u001b[0;32mIn[10], line 2\u001b[0m\n\u001b[1;32m      1\u001b[0m raw_data \u001b[38;5;241m=\u001b[39m data[\u001b[38;5;124m\"\u001b[39m\u001b[38;5;124mentries\u001b[39m\u001b[38;5;124m\"\u001b[39m]\n\u001b[0;32m----> 2\u001b[0m tags \u001b[38;5;241m=\u001b[39m \u001b[43mraw_data\u001b[49m\u001b[43m[\u001b[49m\u001b[38;5;241;43m0\u001b[39;49m\u001b[43m]\u001b[49m\u001b[38;5;241;43m.\u001b[39;49m\u001b[43mget_tags\u001b[49m()\n\u001b[1;32m      3\u001b[0m data_objects \u001b[38;5;241m=\u001b[39m a2g\u001b[38;5;241m.\u001b[39mconvert_all(raw_data, disable_tqdm\u001b[38;5;241m=\u001b[39m\u001b[38;5;28;01mTrue\u001b[39;00m)\n",
      "\u001b[0;31mAttributeError\u001b[0m: 'dict' object has no attribute 'get_tags'"
     ]
    }
   ],
   "source": [
    "tags = raw_data[0].get_tags()\n",
    "data_objects = a2g.convert_all(raw_data, disable_tqdm=True)"
   ]
  },
  {
   "cell_type": "code",
   "execution_count": 12,
   "id": "ad320b68-96b1-419a-bde5-440a53814d71",
   "metadata": {
    "tags": []
   },
   "outputs": [],
   "source": [
    "#raw_data[0]"
   ]
  }
 ],
 "metadata": {
  "kernelspec": {
   "display_name": "Python 3 (ipykernel)",
   "language": "python",
   "name": "python3"
  },
  "language_info": {
   "codemirror_mode": {
    "name": "ipython",
    "version": 3
   },
   "file_extension": ".py",
   "mimetype": "text/x-python",
   "name": "python",
   "nbconvert_exporter": "python",
   "pygments_lexer": "ipython3",
   "version": "3.11.9"
  }
 },
 "nbformat": 4,
 "nbformat_minor": 5
}
