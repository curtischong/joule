{
 "cells": [
  {
   "cell_type": "code",
   "execution_count": 3,
   "id": "b60afbec-6132-4929-988f-69ee39fcdbb6",
   "metadata": {
    "tags": []
   },
   "outputs": [],
   "source": [
    "import bz2\n",
    "import pathlib\n",
    "import json\n",
    "from pymatgen.entries.computed_entries import ComputedStructureEntry"
   ]
  },
  {
   "cell_type": "code",
   "execution_count": 4,
   "id": "99c23d69-12ef-45d6-bb92-3f3e1564e8f2",
   "metadata": {
    "tags": []
   },
   "outputs": [],
   "source": [
    "IN_DIR = f\"../datasets/alexandria\"\n",
    "filename = \"alexandria_ps_004\"\n",
    "with bz2.open(f\"{IN_DIR}/{filename}.json.bz2\", \"rt\", encoding=\"utf-8\") as fh:\n",
    "    data = json.load(fh)"
   ]
  },
  {
   "cell_type": "code",
   "execution_count": 5,
   "id": "b4384f6b-6d34-4b14-8a09-0ccb07245212",
   "metadata": {
    "tags": []
   },
   "outputs": [],
   "source": [
    "entries = [ComputedStructureEntry.from_dict(i) for i in data[\"entries\"]]"
   ]
  },
  {
   "cell_type": "code",
   "execution_count": 6,
   "id": "6875fac6-fc6e-4266-bfc0-467c334ccee1",
   "metadata": {
    "tags": []
   },
   "outputs": [
    {
     "data": {
      "text/plain": [
       "pymatgen.entries.computed_entries.ComputedStructureEntry"
      ]
     },
     "execution_count": 6,
     "metadata": {},
     "output_type": "execute_result"
    }
   ],
   "source": [
    "type(entries[0])"
   ]
  },
  {
   "cell_type": "code",
   "execution_count": 9,
   "id": "ff0ca726-8821-4c7a-9295-e5ea66d8b32d",
   "metadata": {
    "tags": []
   },
   "outputs": [],
   "source": [
    "#data[\"entries\"][0]"
   ]
  },
  {
   "cell_type": "code",
   "execution_count": 10,
   "id": "6935b623-9406-481f-b97d-49a63bedbbf3",
   "metadata": {
    "tags": []
   },
   "outputs": [
    {
     "ename": "AttributeError",
     "evalue": "'dict' object has no attribute 'get_tags'",
     "output_type": "error",
     "traceback": [
      "\u001b[0;31m---------------------------------------------------------------------------\u001b[0m",
      "\u001b[0;31mAttributeError\u001b[0m                            Traceback (most recent call last)",
      "Cell \u001b[0;32mIn[10], line 2\u001b[0m\n\u001b[1;32m      1\u001b[0m raw_data \u001b[38;5;241m=\u001b[39m data[\u001b[38;5;124m\"\u001b[39m\u001b[38;5;124mentries\u001b[39m\u001b[38;5;124m\"\u001b[39m]\n\u001b[0;32m----> 2\u001b[0m tags \u001b[38;5;241m=\u001b[39m \u001b[43mraw_data\u001b[49m\u001b[43m[\u001b[49m\u001b[38;5;241;43m0\u001b[39;49m\u001b[43m]\u001b[49m\u001b[38;5;241;43m.\u001b[39;49m\u001b[43mget_tags\u001b[49m()\n\u001b[1;32m      3\u001b[0m data_objects \u001b[38;5;241m=\u001b[39m a2g\u001b[38;5;241m.\u001b[39mconvert_all(raw_data, disable_tqdm\u001b[38;5;241m=\u001b[39m\u001b[38;5;28;01mTrue\u001b[39;00m)\n",
      "\u001b[0;31mAttributeError\u001b[0m: 'dict' object has no attribute 'get_tags'"
     ]
    }
   ],
   "source": [
    "raw_data = data[\"entries\"]\n",
    "tags = raw_data[0].get_tags()\n",
    "data_objects = a2g.convert_all(raw_data, disable_tqdm=True)"
   ]
  },
  {
   "cell_type": "code",
   "execution_count": 11,
   "id": "ad320b68-96b1-419a-bde5-440a53814d71",
   "metadata": {
    "tags": []
   },
   "outputs": [
    {
     "data": {
      "text/plain": [
       "{'@module': 'pymatgen.entries.computed_entries',\n",
       " '@class': 'ComputedStructureEntry',\n",
       " 'energy': -16.56903923,\n",
       " 'composition': {'Zn': 1.0, 'S': 3.0, 'In': 1.0},\n",
       " 'entry_id': None,\n",
       " 'correction': 1.2300000022946733e-06,\n",
       " 'energy_adjustments': [{'@module': 'pymatgen.entries.computed_entries',\n",
       "   '@class': 'ManualEnergyAdjustment',\n",
       "   '@version': None,\n",
       "   'value': 1.2300000022946733e-06}],\n",
       " 'parameters': {},\n",
       " 'data': {'mat_id': 'agm002582981',\n",
       "  'prototype_id': 'ABC3_0_spg221',\n",
       "  'location': 'extra/rng/S/S3ZnIn/xxx_02s-00_agm002582981_spg221',\n",
       "  'formula': 'ZnInS3',\n",
       "  'elements': ['Zn', 'S', 'In'],\n",
       "  'spg': 221,\n",
       "  'nsites': 5,\n",
       "  'stress': [[1.5294205, 0.0, 0.0],\n",
       "   [0.0, 1.5294205, 0.0],\n",
       "   [0.0, 0.0, 1.5294205]],\n",
       "  'energy_total': -16.56903923,\n",
       "  'total_mag': 0.0001156,\n",
       "  'band_gap_ind': 0.0,\n",
       "  'band_gap_dir': 0.0,\n",
       "  'dos_ef': 5.358309,\n",
       "  'energy_corrected': -16.569038,\n",
       "  'e_above_hull': 0.8426449,\n",
       "  'e_form': 0.22962964,\n",
       "  'e_phase_separation': 0.8426449,\n",
       "  'decomposition': ' In2S3  S  ZnS '},\n",
       " 'structure': {'@module': 'pymatgen.core.structure',\n",
       "  '@class': 'Structure',\n",
       "  'charge': 0,\n",
       "  'lattice': {'matrix': [[4.63270265, 0.0, 0.0],\n",
       "    [0.0, 4.63270265, 0.0],\n",
       "    [0.0, 0.0, 4.63270265]],\n",
       "   'pbc': [True, True, True],\n",
       "   'a': 4.63270265,\n",
       "   'b': 4.63270265,\n",
       "   'c': 4.63270265,\n",
       "   'alpha': 90.0,\n",
       "   'beta': 90.0,\n",
       "   'gamma': 90.0,\n",
       "   'volume': 99.42675779005944},\n",
       "  'sites': [{'species': [{'element': 'Zn', 'occu': 1}],\n",
       "    'abc': [0.0, 0.0, 0.0],\n",
       "    'xyz': [0.0, 0.0, 0.0],\n",
       "    'label': 'Zn',\n",
       "    'properties': {'magmom': -0.0,\n",
       "     'charge': 10.969,\n",
       "     'forces': [0.0, 0.0, 0.0]}},\n",
       "   {'species': [{'element': 'S', 'occu': 1}],\n",
       "    'abc': [0.0, 0.5, 0.0],\n",
       "    'xyz': [0.0, 2.316351325, 0.0],\n",
       "    'label': 'S',\n",
       "    'properties': {'magmom': 0.0, 'charge': 3.611, 'forces': [0.0, 0.0, 0.0]}},\n",
       "   {'species': [{'element': 'S', 'occu': 1}],\n",
       "    'abc': [0.0, 0.0, 0.5],\n",
       "    'xyz': [0.0, 0.0, 2.316351325],\n",
       "    'label': 'S',\n",
       "    'properties': {'magmom': 0.0, 'charge': 3.611, 'forces': [0.0, 0.0, 0.0]}},\n",
       "   {'species': [{'element': 'S', 'occu': 1}],\n",
       "    'abc': [0.5, 0.0, 0.0],\n",
       "    'xyz': [2.316351325, 0.0, 0.0],\n",
       "    'label': 'S',\n",
       "    'properties': {'magmom': 0.0, 'charge': 3.611, 'forces': [0.0, 0.0, 0.0]}},\n",
       "   {'species': [{'element': 'In', 'occu': 1}],\n",
       "    'abc': [0.5, 0.5, 0.5],\n",
       "    'xyz': [2.316351325, 2.316351325, 2.316351325],\n",
       "    'label': 'In',\n",
       "    'properties': {'magmom': -0.0,\n",
       "     'charge': 11.085,\n",
       "     'forces': [0.0, 0.0, 0.0]}}]}}"
      ]
     },
     "execution_count": 11,
     "metadata": {},
     "output_type": "execute_result"
    }
   ],
   "source": [
    "raw_data[0]"
   ]
  }
 ],
 "metadata": {
  "kernelspec": {
   "display_name": "Python 3 (ipykernel)",
   "language": "python",
   "name": "python3"
  },
  "language_info": {
   "codemirror_mode": {
    "name": "ipython",
    "version": 3
   },
   "file_extension": ".py",
   "mimetype": "text/x-python",
   "name": "python",
   "nbconvert_exporter": "python",
   "pygments_lexer": "ipython3",
   "version": "3.11.9"
  }
 },
 "nbformat": 4,
 "nbformat_minor": 5
}
