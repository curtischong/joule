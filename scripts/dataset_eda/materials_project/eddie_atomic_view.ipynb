{
 "cells": [
  {
   "cell_type": "code",
   "execution_count": 3,
   "id": "10ffad23-303d-4d9a-b631-92079436a158",
   "metadata": {
    "tags": []
   },
   "outputs": [
    {
     "data": {
      "application/vnd.jupyter.widget-view+json": {
       "model_id": "b98641ba63a64d2ea06ae73aad2a0d24",
       "version_major": 2,
       "version_minor": 0
      },
      "text/plain": []
     },
     "metadata": {},
     "output_type": "display_data"
    }
   ],
   "source": [
    "import ase.io\n",
    "import os\n",
    "import nglview as nv\n",
    "from IPython.display import display\n",
    "import time"
   ]
  },
  {
   "cell_type": "code",
   "execution_count": 28,
   "id": "ff9f90c4-7a29-4142-956d-150e4e2b68d6",
   "metadata": {
    "tags": []
   },
   "outputs": [
    {
     "name": "stdout",
     "output_type": "stream",
     "text": [
      "File path: ../datasets/mp-1985644.extxyz\n"
     ]
    }
   ],
   "source": [
    "# Ensure the file path is correct\n",
    "file_path = '../datasets/mp-1985644.extxyz'\n",
    "print(f\"File path: {file_path}\")"
   ]
  },
  {
   "cell_type": "code",
   "execution_count": 29,
   "id": "6b9927be-bb80-4f5b-8c04-fe0ed3087bca",
   "metadata": {
    "tags": []
   },
   "outputs": [],
   "source": [
    "# Read the atoms list\n",
    "atoms_list = ase.io.read(file_path, index=':')\n",
    "first_atoms = atoms_list[0]"
   ]
  },
  {
   "cell_type": "code",
   "execution_count": 30,
   "id": "3b9e27a8-139a-47c7-bc71-c0fbe1cbcc8a",
   "metadata": {
    "tags": []
   },
   "outputs": [
    {
     "name": "stdout",
     "output_type": "stream",
     "text": [
      "Number of atoms: 10\n"
     ]
    }
   ],
   "source": [
    "# Check the number of atoms\n",
    "num_atoms = len(first_atoms)\n",
    "print(f\"Number of atoms: {num_atoms}\")"
   ]
  },
  {
   "cell_type": "code",
   "execution_count": 31,
   "id": "03f18a24-0a6a-4754-a8fe-803765cfa7dc",
   "metadata": {
    "tags": []
   },
   "outputs": [
    {
     "name": "stdout",
     "output_type": "stream",
     "text": [
      "Info properties (for entire lattice):\n",
      "bandgap\n",
      "e_per_atom_relaxed\n",
      "mp_id\n",
      "energy_per_atom\n",
      "ef_per_atom_relaxed\n",
      "corrected_total_energy\n",
      "ef_per_atom\n",
      "task_id\n",
      "calc_id\n",
      "ionic_step\n"
     ]
    }
   ],
   "source": [
    "# Check and print info properties\n",
    "if first_atoms.info:\n",
    "    print(\"Info properties (for entire lattice):\")\n",
    "    for key in first_atoms.info.keys():\n",
    "        print(f\"{key}\")\n",
    "else:\n",
    "    print(\"No info properties found.\")"
   ]
  },
  {
   "cell_type": "code",
   "execution_count": 32,
   "id": "3e15e04f-7cf9-4046-bb75-9bd232b09fbc",
   "metadata": {
    "tags": []
   },
   "outputs": [
    {
     "name": "stdout",
     "output_type": "stream",
     "text": [
      "Array properties (for entire lattice):\n",
      "numbers\n",
      "positions\n"
     ]
    }
   ],
   "source": [
    "# Check and print array properties\n",
    "if first_atoms.arrays:\n",
    "    print(\"Array properties (for entire lattice):\")\n",
    "    for key in first_atoms.arrays.keys():\n",
    "        print(f\"{key}\")\n",
    "else:\n",
    "    print(\"No array properties found.\")"
   ]
  },
  {
   "cell_type": "code",
   "execution_count": 33,
   "id": "a406b869-ac56-49f5-926b-2c65d7e04a4b",
   "metadata": {
    "tags": []
   },
   "outputs": [
    {
     "name": "stdout",
     "output_type": "stream",
     "text": [
      "Total number of configurations: 1\n"
     ]
    }
   ],
   "source": [
    "total_configs = len(atoms_list)\n",
    "print(f\"Total number of configurations: {total_configs}\")"
   ]
  },
  {
   "cell_type": "code",
   "execution_count": 34,
   "id": "be3f554b-ebf1-41f6-89c7-1d2c00355dc3",
   "metadata": {
    "tags": []
   },
   "outputs": [],
   "source": [
    "# Create a copy of atoms_list\n",
    "new_atoms_list = atoms_list[:]  # Copy all frames"
   ]
  },
  {
   "cell_type": "code",
   "execution_count": 35,
   "id": "1723066a-dc2d-478d-9858-67d894683f83",
   "metadata": {
    "tags": []
   },
   "outputs": [
    {
     "data": {
      "application/vnd.jupyter.widget-view+json": {
       "model_id": "89e7d1b2c4994e9ea1d2b13656d2d2b4",
       "version_major": 2,
       "version_minor": 0
      },
      "text/plain": [
       "NGLWidget()"
      ]
     },
     "metadata": {},
     "output_type": "display_data"
    }
   ],
   "source": [
    "# Create an NGLView widget for the modified trajectory\n",
    "view = nv.show_asetraj(new_atoms_list)\n",
    "\n",
    "# Display the widget\n",
    "display(view)"
   ]
  },
  {
   "cell_type": "code",
   "execution_count": null,
   "id": "51211ae7-ae18-41db-bd39-7b972e1a0c29",
   "metadata": {},
   "outputs": [],
   "source": []
  }
 ],
 "metadata": {
  "kernelspec": {
   "display_name": "Python 3 (ipykernel)",
   "language": "python",
   "name": "python3"
  },
  "language_info": {
   "codemirror_mode": {
    "name": "ipython",
    "version": 3
   },
   "file_extension": ".py",
   "mimetype": "text/x-python",
   "name": "python",
   "nbconvert_exporter": "python",
   "pygments_lexer": "ipython3",
   "version": "3.11.8"
  }
 },
 "nbformat": 4,
 "nbformat_minor": 5
}
