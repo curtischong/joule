{
 "cells": [
  {
   "cell_type": "code",
   "execution_count": 2,
   "id": "dd221253-d3d8-4286-96b6-015c81b36d0d",
   "metadata": {
    "tags": []
   },
   "outputs": [],
   "source": [
    "import json"
   ]
  },
  {
   "cell_type": "code",
   "execution_count": null,
   "id": "ed172bae-f004-4b49-8519-621f4cee984a",
   "metadata": {
    "tags": []
   },
   "outputs": [],
   "source": [
    "# file_path = \"/home/ubuntu/joule/datasets/41619375\"\n",
    "# with open(file_path, 'r') as file:\n",
    "#     data = json.load(file)"
   ]
  },
  {
   "cell_type": "code",
   "execution_count": 6,
   "id": "ef3eb2cb-6181-4d5e-9dfd-0f1877f8cec3",
   "metadata": {},
   "outputs": [],
   "source": [
    "import subprocess\n",
    "\n",
    "# Execute the command\n",
    "dataset_path = \"/home/ubuntu/joule/datasets/mptrj-gga-ggapu/mptrj-gga-ggapu\"\n",
    "result = subprocess.run(f\"ls -S {dataset_path}| head -n 1\", shell=True, capture_output=True, text=True)\n",
    "\n",
    "# Print the result\n",
    "largest_filename = result.stdout.strip()\n",
    "def get_filename_number(filename):\n",
    "     return filename[len(\"mp-\"):][:-len(\".extxyz\")]"
   ]
  },
  {
   "cell_type": "code",
   "execution_count": 7,
   "id": "5d550504-8e11-4865-9d09-78d0e0d0501c",
   "metadata": {
    "tags": []
   },
   "outputs": [
    {
     "data": {
      "text/plain": [
       "'1197409'"
      ]
     },
     "execution_count": 7,
     "metadata": {},
     "output_type": "execute_result"
    }
   ],
   "source": [
    "get_filename_number(largest_filename)"
   ]
  }
 ],
 "metadata": {
  "kernelspec": {
   "display_name": "Python 3 (ipykernel)",
   "language": "python",
   "name": "python3"
  },
  "language_info": {
   "codemirror_mode": {
    "name": "ipython",
    "version": 3
   },
   "file_extension": ".py",
   "mimetype": "text/x-python",
   "name": "python",
   "nbconvert_exporter": "python",
   "pygments_lexer": "ipython3",
   "version": "3.11.8"
  }
 },
 "nbformat": 4,
 "nbformat_minor": 5
}
