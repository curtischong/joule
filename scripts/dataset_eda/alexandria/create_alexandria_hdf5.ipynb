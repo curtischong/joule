{
 "cells": [
  {
   "cell_type": "code",
   "execution_count": 1,
   "id": "937af6fc-23dd-4be3-af99-c07da29fa4c6",
   "metadata": {
    "tags": []
   },
   "outputs": [],
   "source": [
    "import polars as pl\n",
    "import json, bz2\n",
    "from pymatgen.entries.computed_entries import ComputedStructureEntry\n",
    "import time"
   ]
  },
  {
   "cell_type": "code",
   "execution_count": 7,
   "id": "034cedea-8408-45a8-8961-e43c5322b566",
   "metadata": {
    "tags": []
   },
   "outputs": [
    {
     "name": "stdout",
     "output_type": "stream",
     "text": [
      "Found 15419 entries\n",
      "\n",
      "Entry:\n",
      " None ComputedStructureEntry - Zn1 In1 S3   (ZnInS3)\n",
      "Energy (Uncorrected)     = -16.5690  eV (-3.3138  eV/atom)\n",
      "Correction               = 0.0000    eV (0.0000   eV/atom)\n",
      "Energy (Final)           = -16.5690  eV (-3.3138  eV/atom)\n",
      "Energy Adjustments:\n",
      "  Manual energy adjustment: 0.0000    eV (0.0000   eV/atom)\n",
      "Parameters:\n",
      "Data:\n",
      "  mat_id                 = agm002582981\n",
      "  prototype_id           = ABC3_0_spg221\n",
      "  location               = extra/rng/S/S3ZnIn/xxx_02s-00_agm002582981_spg221\n",
      "  formula                = ZnInS3\n",
      "  elements               = ['Zn', 'S', 'In']\n",
      "  spg                    = 221\n",
      "  nsites                 = 5\n",
      "  stress                 = [[1.5294205, 0.0, 0.0], [0.0, 1.5294205, 0.0], [0.0, 0.0, 1.5294205]]\n",
      "  energy_total           = -16.56903923\n",
      "  total_mag              = 0.0001156\n",
      "  band_gap_ind           = 0.0\n",
      "  band_gap_dir           = 0.0\n",
      "  dos_ef                 = 5.358309\n",
      "  energy_corrected       = -16.569038\n",
      "  e_above_hull           = 0.8426449\n",
      "  e_form                 = 0.22962964\n",
      "  e_phase_separation     = 0.8426449\n",
      "  decomposition          =  In2S3  S  ZnS \n",
      "\n",
      "Structure:\n",
      " Full Formula (Zn1 In1 S3)\n",
      "Reduced Formula: ZnInS3\n",
      "abc   :   4.632703   4.632703   4.632703\n",
      "angles:  90.000000  90.000000  90.000000\n",
      "pbc   :       True       True       True\n",
      "Sites (5)\n",
      "  #  SP      a    b    c    charge  forces             magmom\n",
      "---  ----  ---  ---  ---  --------  ---------------  --------\n",
      "  0  Zn    0    0    0      10.969  [0.0, 0.0, 0.0]        -0\n",
      "  1  S     0    0.5  0       3.611  [0.0, 0.0, 0.0]         0\n",
      "  2  S     0    0    0.5     3.611  [0.0, 0.0, 0.0]         0\n",
      "  3  S     0.5  0    0       3.611  [0.0, 0.0, 0.0]         0\n",
      "  4  In    0.5  0.5  0.5    11.085  [0.0, 0.0, 0.0]        -0\n"
     ]
    },
    {
     "ename": "AttributeError",
     "evalue": "'float' object has no attribute 'total_seconds'",
     "output_type": "error",
     "traceback": [
      "\u001b[0;31m---------------------------------------------------------------------------\u001b[0m",
      "\u001b[0;31mAttributeError\u001b[0m                            Traceback (most recent call last)",
      "Cell \u001b[0;32mIn[7], line 16\u001b[0m\n\u001b[1;32m     14\u001b[0m \u001b[38;5;28mprint\u001b[39m(\u001b[38;5;124m\"\u001b[39m\u001b[38;5;130;01m\\n\u001b[39;00m\u001b[38;5;124mStructure:\u001b[39m\u001b[38;5;130;01m\\n\u001b[39;00m\u001b[38;5;124m\"\u001b[39m, entries[\u001b[38;5;241m0\u001b[39m]\u001b[38;5;241m.\u001b[39mstructure)\n\u001b[1;32m     15\u001b[0m end \u001b[38;5;241m=\u001b[39m time\u001b[38;5;241m.\u001b[39mtime()\n\u001b[0;32m---> 16\u001b[0m \u001b[38;5;28mprint\u001b[39m(\u001b[38;5;124mf\u001b[39m\u001b[38;5;124m\"\u001b[39m\u001b[38;5;124melapsed: \u001b[39m\u001b[38;5;132;01m{\u001b[39;00m\u001b[43m(\u001b[49m\u001b[43mend\u001b[49m\u001b[38;5;250;43m \u001b[39;49m\u001b[38;5;241;43m-\u001b[39;49m\u001b[38;5;250;43m \u001b[39;49m\u001b[43mstart\u001b[49m\u001b[43m)\u001b[49m\u001b[38;5;241;43m.\u001b[39;49m\u001b[43mtotal_seconds\u001b[49m()\u001b[38;5;132;01m}\u001b[39;00m\u001b[38;5;124m\"\u001b[39m) \n",
      "\u001b[0;31mAttributeError\u001b[0m: 'float' object has no attribute 'total_seconds'"
     ]
    }
   ],
   "source": [
    "start = time.time()\n",
    "all_entries = []\n",
    "for i in range(5):\n",
    "    file_path = f\"../../../datasets/alexandria/alexandria_ps_00{i}.json.bz2\"\n",
    "\n",
    "    with bz2.open(file_path) as fh:\n",
    "        data = json.loads(fh.read().decode('utf-8'))\n",
    "        all_entries.extend(data[\"entries\"])\n",
    "\n",
    "entries = [ComputedStructureEntry.from_dict(e) for e in all_entries]\n",
    "\n",
    "print(\"Found \" + str(len(entries)) + \" entries\")\n",
    "print(\"\\nEntry:\\n\", entries[0])\n",
    "print(\"\\nStructure:\\n\", entries[0].structure)\n",
    "end = time.time()\n",
    "print(f\"elapsed: {(end - start).total_seconds()}\") "
   ]
  },
  {
   "cell_type": "code",
   "execution_count": null,
   "id": "217fe2e0-de15-47a9-b13d-9a725c5a2c0f",
   "metadata": {
    "tags": []
   },
   "outputs": [],
   "source": [
    "all_data = [e.data for e in all_entries]"
   ]
  },
  {
   "cell_type": "code",
   "execution_count": null,
   "id": "f96cac0f-0e08-423e-918e-cd1e6c760581",
   "metadata": {
    "tags": []
   },
   "outputs": [],
   "source": [
    "import pandas as pd\n",
    "df = pd.DataFrame.from_records(all_data)\n",
    "df.head()"
   ]
  },
  {
   "cell_type": "code",
   "execution_count": null,
   "id": "821f13d0-0f45-46d8-9d12-7c4c1eed733a",
   "metadata": {
    "tags": []
   },
   "outputs": [],
   "source": [
    "df.columns"
   ]
  },
  {
   "cell_type": "code",
   "execution_count": null,
   "id": "5492c5cc-aa08-4c2a-8026-decc5d819d77",
   "metadata": {
    "tags": []
   },
   "outputs": [],
   "source": [
    "df.to_hdf('../datasets/alexandria_all.h5', key='df', mode='w') "
   ]
  },
  {
   "cell_type": "code",
   "execution_count": null,
   "id": "bd7a7caa-5708-446a-954b-918d6abf78b6",
   "metadata": {
    "tags": []
   },
   "outputs": [],
   "source": [
    "entries[1]"
   ]
  }
 ],
 "metadata": {
  "kernelspec": {
   "display_name": "Python 3 (ipykernel)",
   "language": "python",
   "name": "python3"
  },
  "language_info": {
   "codemirror_mode": {
    "name": "ipython",
    "version": 3
   },
   "file_extension": ".py",
   "mimetype": "text/x-python",
   "name": "python",
   "nbconvert_exporter": "python",
   "pygments_lexer": "ipython3",
   "version": "3.11.8"
  }
 },
 "nbformat": 4,
 "nbformat_minor": 5
}
