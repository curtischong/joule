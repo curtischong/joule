{
 "cells": [
  {
   "cell_type": "code",
   "execution_count": 1,
   "id": "b60afbec-6132-4929-988f-69ee39fcdbb6",
   "metadata": {
    "tags": []
   },
   "outputs": [],
   "source": [
    "import bz2\n",
    "import pathlib\n",
    "import json\n",
    "from pymatgen.entries.computed_entries import ComputedStructureEntry\n",
    "from pymatgen.io.ase import AseAtomsAdaptor"
   ]
  },
  {
   "cell_type": "code",
   "execution_count": null,
   "id": "99c23d69-12ef-45d6-bb92-3f3e1564e8f2",
   "metadata": {
    "tags": []
   },
   "outputs": [],
   "source": [
    "IN_DIR = f\"../../../datasets/alexandria\"\n",
    "filename = \"alexandria_ps_000\"\n",
    "with bz2.open(f\"{IN_DIR}/{filename}.json.bz2\", \"rt\", encoding=\"utf-8\") as fh:\n",
    "    data = json.load(fh)"
   ]
  },
  {
   "cell_type": "code",
   "execution_count": 3,
   "id": "b4384f6b-6d34-4b14-8a09-0ccb07245212",
   "metadata": {
    "tags": []
   },
   "outputs": [],
   "source": [
    "#entries = [ComputedStructureEntry.from_dict(i) for i in data[\"entries\"]]"
   ]
  },
  {
   "cell_type": "code",
   "execution_count": 50,
   "id": "5d47ae2b-18b5-43b6-9b3c-c65cbd11b4a1",
   "metadata": {},
   "outputs": [
    {
     "data": {
      "text/plain": [
       "{'@module': 'pymatgen.entries.computed_entries',\n",
       " '@class': 'ComputedStructureEntry',\n",
       " 'energy': -9.23215211,\n",
       " 'composition': {'In': 1.0, 'Se': 1.0, 'Zn': 1.0},\n",
       " 'entry_id': None,\n",
       " 'correction': 1.1000000021965661e-07,\n",
       " 'energy_adjustments': [{'@module': 'pymatgen.entries.computed_entries',\n",
       "   '@class': 'ManualEnergyAdjustment',\n",
       "   '@version': None,\n",
       "   'value': 1.1000000021965661e-07}],\n",
       " 'parameters': {},\n",
       " 'data': {'mat_id': 'agm004435523',\n",
       "  'prototype_id': 'ABC_10_spg187',\n",
       "  'location': 'extra/rng/Zn/ZnSeIn/xxx_02s-00_agm004435523_spg156',\n",
       "  'formula': 'ZnInSe',\n",
       "  'elements': ['In', 'Se', 'Zn'],\n",
       "  'spg': 156,\n",
       "  'nsites': 3,\n",
       "  'stress': [[3.8241127, 0.0, 0.0],\n",
       "   [0.0, 3.8241127, 0.0],\n",
       "   [0.0, 0.0, 2.3786378]],\n",
       "  'energy_total': -9.23215211,\n",
       "  'total_mag': -7.39e-05,\n",
       "  'band_gap_ind': 0.0,\n",
       "  'band_gap_dir': 0.0,\n",
       "  'dos_ef': 0.76915413,\n",
       "  'energy_corrected': -9.232152,\n",
       "  'e_above_hull': 0.17438321,\n",
       "  'e_form': -0.27238655,\n",
       "  'e_phase_separation': 0.17438321,\n",
       "  'decomposition': ' In  ZnSe '},\n",
       " 'structure': {'@module': 'pymatgen.core.structure',\n",
       "  '@class': 'Structure',\n",
       "  'charge': 0,\n",
       "  'lattice': {'matrix': [[3.81343772, -0.0, 0.0],\n",
       "    [-1.90671886, 3.30253394, 0.0],\n",
       "    [0.0, 0.0, 5.14131293]],\n",
       "   'pbc': [True, True, True],\n",
       "   'a': 3.81343772,\n",
       "   'b': 3.813437718900313,\n",
       "   'c': 5.14131293,\n",
       "   'alpha': 90.0,\n",
       "   'beta': 90.0,\n",
       "   'gamma': 120.00000000953928,\n",
       "   'volume': 64.7497335919186},\n",
       "  'sites': [{'species': [{'element': 'In', 'occu': 1}],\n",
       "    'abc': [0.0, 0.0, 0.01171722],\n",
       "    'xyz': [0.0, 0.0, 0.0602418946896546],\n",
       "    'label': 'In',\n",
       "    'properties': {'magmom': -0.0,\n",
       "     'charge': 11.314,\n",
       "     'forces': [0.0, 0.0, -0.00644484]}},\n",
       "   {'species': [{'element': 'Se', 'occu': 1}],\n",
       "    'abc': [0.333333, 0.666667, 0.6191638],\n",
       "    'xyz': [-1.9067188599120044e-06, 2.20169039417798, 3.183314850727934],\n",
       "    'label': 'Se',\n",
       "    'properties': {'magmom': -0.0,\n",
       "     'charge': 3.836,\n",
       "     'forces': [0.0, -0.0, 0.01509129]}},\n",
       "   {'species': [{'element': 'Zn', 'occu': 1}],\n",
       "    'abc': [0.666667, 0.333333, 0.36911998],\n",
       "    'xyz': [1.90672076671886, 1.10084354582202, 1.8977613258953414],\n",
       "    'label': 'Zn',\n",
       "    'properties': {'magmom': -0.0,\n",
       "     'charge': 10.747,\n",
       "     'forces': [-0.0, 0.0, -0.00864645]}}]}}"
      ]
     },
     "execution_count": 50,
     "metadata": {},
     "output_type": "execute_result"
    }
   ],
   "source": [
    "data[\"entries\"][11]"
   ]
  },
  {
   "cell_type": "code",
   "execution_count": 39,
   "id": "be63408b-f715-4dd0-8673-7e8b86ab5fb1",
   "metadata": {
    "tags": []
   },
   "outputs": [
    {
     "data": {
      "text/plain": [
       "[-0.0, -0.0, -0.00965695]"
      ]
     },
     "execution_count": 39,
     "metadata": {},
     "output_type": "execute_result"
    }
   ],
   "source": [
    "data[\"entries\"][12][\"structure\"][\"sites\"][1][\"properties\"][\"forces\"]"
   ]
  },
  {
   "cell_type": "code",
   "execution_count": 51,
   "id": "930925b1-69f0-4550-9972-2655c56a9dcb",
   "metadata": {},
   "outputs": [
    {
     "name": "stdout",
     "output_type": "stream",
     "text": [
      "9\n",
      "-0.001\n"
     ]
    }
   ],
   "source": [
    "def check_if_all_atomic_properties_are_same():\n",
    "    for i, entry in enumerate(data[\"entries\"]):\n",
    "        structure = entry[\"structure\"]\n",
    "        for site in structure[\"sites\"]:\n",
    "            magnetic_moment = site[\"properties\"][\"magmom\"]\n",
    "            if magnetic_moment != 0.0:\n",
    "                print(i)\n",
    "                print(magnetic_moment)\n",
    "                # if i > 1000:\n",
    "                #     return\n",
    "                return\n",
    "check_if_all_atomic_properties_are_same()"
   ]
  },
  {
   "cell_type": "code",
   "execution_count": null,
   "id": "4daac66a-f3a2-495f-bfc6-1ecd3a10a397",
   "metadata": {
    "tags": []
   },
   "outputs": [],
   "source": [
    "def check_if_all_structural_properties_are_same():\n",
    "    for i, entry in enumerate(data[\"entries\"]):\n",
    "        structure = entry[\"structure\"]\n",
    "        if structure[\"charge\"] != 0.0:\n",
    "            print(i)\n",
    "            print(structure[\"charge\"])\n",
    "            # if i > 1000:\n",
    "            #     return\n",
    "            return\n",
    "check_if_all_structural_properties_are_same()"
   ]
  }
 ],
 "metadata": {
  "kernelspec": {
   "display_name": "Python 3 (ipykernel)",
   "language": "python",
   "name": "python3"
  },
  "language_info": {
   "codemirror_mode": {
    "name": "ipython",
    "version": 3
   },
   "file_extension": ".py",
   "mimetype": "text/x-python",
   "name": "python",
   "nbconvert_exporter": "python",
   "pygments_lexer": "ipython3",
   "version": "3.11.8"
  }
 },
 "nbformat": 4,
 "nbformat_minor": 5
}
