{
 "cells": [
  {
   "cell_type": "code",
   "execution_count": 1,
   "id": "b60afbec-6132-4929-988f-69ee39fcdbb6",
   "metadata": {
    "tags": []
   },
   "outputs": [],
   "source": [
    "import bz2\n",
    "import pathlib\n",
    "import json\n",
    "from pymatgen.entries.computed_entries import ComputedStructureEntry\n",
    "from pymatgen.io.ase import AseAtomsAdaptor"
   ]
  },
  {
   "cell_type": "code",
   "execution_count": 65,
   "id": "99c23d69-12ef-45d6-bb92-3f3e1564e8f2",
   "metadata": {
    "tags": []
   },
   "outputs": [],
   "source": [
    "IN_DIR = f\"../../../datasets/alexandria\"\n",
    "filename = \"alexandria_ps_004\"\n",
    "with bz2.open(f\"{IN_DIR}/{filename}.json.bz2\", \"rt\", encoding=\"utf-8\") as fh:\n",
    "    data = json.load(fh)"
   ]
  },
  {
   "cell_type": "code",
   "execution_count": 3,
   "id": "b4384f6b-6d34-4b14-8a09-0ccb07245212",
   "metadata": {
    "tags": []
   },
   "outputs": [],
   "source": [
    "#entries = [ComputedStructureEntry.from_dict(i) for i in data[\"entries\"]]"
   ]
  },
  {
   "cell_type": "code",
   "execution_count": 68,
   "id": "5d47ae2b-18b5-43b6-9b3c-c65cbd11b4a1",
   "metadata": {},
   "outputs": [
    {
     "data": {
      "text/plain": [
       "{'@module': 'pymatgen.entries.computed_entries',\n",
       " '@class': 'ComputedStructureEntry',\n",
       " 'energy': -36.3132524,\n",
       " 'composition': {'Sb': 4.0, 'Zn': 4.0, 'In': 4.0},\n",
       " 'entry_id': None,\n",
       " 'correction': 2.4000000067303517e-06,\n",
       " 'energy_adjustments': [{'@module': 'pymatgen.entries.computed_entries',\n",
       "   '@class': 'ManualEnergyAdjustment',\n",
       "   '@version': None,\n",
       "   'value': 2.4000000067303517e-06}],\n",
       " 'parameters': {},\n",
       " 'data': {'mat_id': 'agm002246624',\n",
       "  'prototype_id': 'ABC_23_spg62',\n",
       "  'location': 'database/batch-000/Zn/ZnInSb/xxx_02s-00_agm002246624_spg62',\n",
       "  'formula': 'ZnInSb',\n",
       "  'elements': ['Sb', 'Zn', 'In'],\n",
       "  'spg': 62,\n",
       "  'nsites': 12,\n",
       "  'stress': [[3.986265, 0.0, 0.0],\n",
       "   [0.0, 2.5276124, 0.0],\n",
       "   [0.0, 0.0, 4.385445]],\n",
       "  'energy_total': -36.3132524,\n",
       "  'total_mag': 0.0001,\n",
       "  'band_gap_ind': 0.0,\n",
       "  'band_gap_dir': 0.0217,\n",
       "  'dos_ef': 1.82692,\n",
       "  'energy_corrected': -36.31325,\n",
       "  'e_above_hull': 0.067933686,\n",
       "  'e_form': 0.01459426,\n",
       "  'e_phase_separation': 0.067933686,\n",
       "  'decomposition': ' InSb  Zn '},\n",
       " 'structure': {'@module': 'pymatgen.core.structure',\n",
       "  '@class': 'Structure',\n",
       "  'charge': 0,\n",
       "  'lattice': {'matrix': [[4.60945551, 0.0, 0.0],\n",
       "    [0.0, 7.18613193, 0.0],\n",
       "    [0.0, 0.0, 8.67753458]],\n",
       "   'pbc': [True, True, True],\n",
       "   'a': 4.60945551,\n",
       "   'b': 7.18613193,\n",
       "   'c': 8.67753458,\n",
       "   'alpha': 90.0,\n",
       "   'beta': 90.0,\n",
       "   'gamma': 90.0,\n",
       "   'volume': 287.4360040931684},\n",
       "  'sites': [{'species': [{'element': 'Sb', 'occu': 1}],\n",
       "    'abc': [0.25, 0.88751765, 0.33565688],\n",
       "    'xyz': [1.1523638775, 6.377818923103565, 2.9126741832149103],\n",
       "    'label': 'Sb',\n",
       "    'properties': {'magmom': -0.0,\n",
       "     'charge': 2.456,\n",
       "     'forces': [-0.0, -0.00308648, -0.01347259]}},\n",
       "   {'species': [{'element': 'Sb', 'occu': 1}],\n",
       "    'abc': [0.75, 0.38751765, 0.16434312],\n",
       "    'xyz': [3.4570916325, 2.7847529581035646, 1.4260931067850897],\n",
       "    'label': 'Sb',\n",
       "    'properties': {'magmom': -0.0,\n",
       "     'charge': 2.456,\n",
       "     'forces': [-0.0, -0.00308648, 0.01347259]}},\n",
       "   {'species': [{'element': 'Sb', 'occu': 1}],\n",
       "    'abc': [0.25, 0.61248235, 0.83565688],\n",
       "    'xyz': [1.1523638775, 4.401378971896436, 7.251441473214911],\n",
       "    'label': 'Sb',\n",
       "    'properties': {'magmom': -0.0,\n",
       "     'charge': 2.456,\n",
       "     'forces': [-0.0, 0.00308648, -0.01347259]}},\n",
       "   {'species': [{'element': 'Sb', 'occu': 1}],\n",
       "    'abc': [0.75, 0.11248235, 0.66434312],\n",
       "    'xyz': [3.4570916325, 0.8083130068964355, 5.764860396785089],\n",
       "    'label': 'Sb',\n",
       "    'properties': {'magmom': -0.0,\n",
       "     'charge': 2.456,\n",
       "     'forces': [-0.0, 0.00308648, 0.01347259]}},\n",
       "   {'species': [{'element': 'Zn', 'occu': 1}],\n",
       "    'abc': [0.75, 0.08493846, 0.33953255],\n",
       "    'xyz': [3.4570916325, 0.6103789794910278, 2.9463054436605787],\n",
       "    'label': 'Zn',\n",
       "    'properties': {'magmom': 0.0,\n",
       "     'charge': 10.766,\n",
       "     'forces': [-0.0, 0.0065103, 0.00272313]}},\n",
       "   {'species': [{'element': 'Zn', 'occu': 1}],\n",
       "    'abc': [0.25, 0.58493846, 0.16046745],\n",
       "    'xyz': [1.1523638775, 4.203444944491029, 1.392461846339421],\n",
       "    'label': 'Zn',\n",
       "    'properties': {'magmom': 0.0,\n",
       "     'charge': 10.766,\n",
       "     'forces': [0.0, 0.0065103, -0.00272313]}},\n",
       "   {'species': [{'element': 'Zn', 'occu': 1}],\n",
       "    'abc': [0.75, 0.41506154, 0.83953255],\n",
       "    'xyz': [3.4570916325, 2.9826869855089724, 7.285072733660579],\n",
       "    'label': 'Zn',\n",
       "    'properties': {'magmom': 0.0,\n",
       "     'charge': 10.766,\n",
       "     'forces': [-0.0, -0.0065103, 0.00272313]}},\n",
       "   {'species': [{'element': 'Zn', 'occu': 1}],\n",
       "    'abc': [0.25, 0.91506154, 0.66046745],\n",
       "    'xyz': [1.1523638775, 6.575752950508972, 5.7312291363394205],\n",
       "    'label': 'Zn',\n",
       "    'properties': {'magmom': 0.0,\n",
       "     'charge': 10.766,\n",
       "     'forces': [0.0, -0.0065103, -0.00272313]}},\n",
       "   {'species': [{'element': 'In', 'occu': 1}],\n",
       "    'abc': [0.25, 0.15557104, 0.96507998],\n",
       "    'xyz': [1.1523638775, 1.117954017927307, 8.374514898915708],\n",
       "    'label': 'In',\n",
       "    'properties': {'magmom': 0.0,\n",
       "     'charge': 11.291,\n",
       "     'forces': [0.0, -0.00799615, 0.00451615]}},\n",
       "   {'species': [{'element': 'In', 'occu': 1}],\n",
       "    'abc': [0.75, 0.84442896, 0.03492002],\n",
       "    'xyz': [3.4570916325, 6.068177912072693, 0.3030196810842916],\n",
       "    'label': 'In',\n",
       "    'properties': {'magmom': 0.0,\n",
       "     'charge': 11.291,\n",
       "     'forces': [-0.0, 0.00799615, -0.00451615]}},\n",
       "   {'species': [{'element': 'In', 'occu': 1}],\n",
       "    'abc': [0.25, 0.34442896, 0.46507998],\n",
       "    'xyz': [1.1523638775, 2.4751119470726928, 4.035747608915709],\n",
       "    'label': 'In',\n",
       "    'properties': {'magmom': 0.0,\n",
       "     'charge': 11.291,\n",
       "     'forces': [0.0, 0.00799615, 0.00451615]}},\n",
       "   {'species': [{'element': 'In', 'occu': 1}],\n",
       "    'abc': [0.75, 0.65557104, 0.53492002],\n",
       "    'xyz': [3.4570916325, 4.711019982927307, 4.641786971084292],\n",
       "    'label': 'In',\n",
       "    'properties': {'magmom': 0.0,\n",
       "     'charge': 11.291,\n",
       "     'forces': [-0.0, -0.00799615, -0.00451615]}}]}}"
      ]
     },
     "execution_count": 68,
     "metadata": {},
     "output_type": "execute_result"
    }
   ],
   "source": [
    "data[\"entries\"][1]"
   ]
  },
  {
   "cell_type": "code",
   "execution_count": 39,
   "id": "be63408b-f715-4dd0-8673-7e8b86ab5fb1",
   "metadata": {
    "tags": []
   },
   "outputs": [
    {
     "data": {
      "text/plain": [
       "[-0.0, -0.0, -0.00965695]"
      ]
     },
     "execution_count": 39,
     "metadata": {},
     "output_type": "execute_result"
    }
   ],
   "source": [
    "data[\"entries\"][12][\"structure\"][\"sites\"][1][\"properties\"][\"forces\"]"
   ]
  },
  {
   "cell_type": "code",
   "execution_count": 51,
   "id": "930925b1-69f0-4550-9972-2655c56a9dcb",
   "metadata": {},
   "outputs": [
    {
     "name": "stdout",
     "output_type": "stream",
     "text": [
      "9\n",
      "-0.001\n"
     ]
    }
   ],
   "source": [
    "def check_if_all_atomic_properties_are_same():\n",
    "    for i, entry in enumerate(data[\"entries\"]):\n",
    "        structure = entry[\"structure\"]\n",
    "        for site in structure[\"sites\"]:\n",
    "            magnetic_moment = site[\"properties\"][\"magmom\"]\n",
    "            if magnetic_moment != 0.0:\n",
    "                print(i)\n",
    "                print(magnetic_moment)\n",
    "                # if i > 1000:\n",
    "                #     return\n",
    "                return\n",
    "check_if_all_atomic_properties_are_same()"
   ]
  },
  {
   "cell_type": "code",
   "execution_count": 66,
   "id": "4daac66a-f3a2-495f-bfc6-1ecd3a10a397",
   "metadata": {
    "tags": []
   },
   "outputs": [],
   "source": [
    "def check_if_all_structural_properties_are_same():\n",
    "    for i, entry in enumerate(data[\"entries\"]):\n",
    "        structure = entry[\"structure\"]\n",
    "        if structure[\"charge\"] != 0.0:\n",
    "            print(i)\n",
    "            print(structure[\"charge\"])\n",
    "            # if i > 1000:\n",
    "            #     return\n",
    "            return\n",
    "check_if_all_structural_properties_are_same()"
   ]
  }
 ],
 "metadata": {
  "kernelspec": {
   "display_name": "Python 3 (ipykernel)",
   "language": "python",
   "name": "python3"
  },
  "language_info": {
   "codemirror_mode": {
    "name": "ipython",
    "version": 3
   },
   "file_extension": ".py",
   "mimetype": "text/x-python",
   "name": "python",
   "nbconvert_exporter": "python",
   "pygments_lexer": "ipython3",
   "version": "3.11.8"
  }
 },
 "nbformat": 4,
 "nbformat_minor": 5
}
