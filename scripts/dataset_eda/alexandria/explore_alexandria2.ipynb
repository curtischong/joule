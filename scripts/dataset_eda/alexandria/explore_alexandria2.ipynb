{
 "cells": [
  {
   "cell_type": "code",
   "execution_count": 1,
   "id": "b60afbec-6132-4929-988f-69ee39fcdbb6",
   "metadata": {
    "tags": []
   },
   "outputs": [],
   "source": [
    "import bz2\n",
    "import pathlib\n",
    "import json\n",
    "from pymatgen.entries.computed_entries import ComputedStructureEntry\n",
    "from pymatgen.io.ase import AseAtomsAdaptor"
   ]
  },
  {
   "cell_type": "code",
   "execution_count": 65,
   "id": "99c23d69-12ef-45d6-bb92-3f3e1564e8f2",
   "metadata": {
    "tags": []
   },
   "outputs": [],
   "source": [
    "IN_DIR = f\"../../../datasets/alexandria\"\n",
    "filename = \"alexandria_ps_004\"\n",
    "with bz2.open(f\"{IN_DIR}/{filename}.json.bz2\", \"rt\", encoding=\"utf-8\") as fh:\n",
    "    data = json.load(fh)"
   ]
  },
  {
   "cell_type": "code",
   "execution_count": 3,
   "id": "b4384f6b-6d34-4b14-8a09-0ccb07245212",
   "metadata": {
    "tags": []
   },
   "outputs": [],
   "source": [
    "#entries = [ComputedStructureEntry.from_dict(i) for i in data[\"entries\"]]"
   ]
  },
  {
   "cell_type": "code",
   "execution_count": 67,
   "id": "5d47ae2b-18b5-43b6-9b3c-c65cbd11b4a1",
   "metadata": {},
   "outputs": [
    {
     "data": {
      "text/plain": [
       "{'@module': 'pymatgen.entries.computed_entries',\n",
       " '@class': 'ComputedStructureEntry',\n",
       " 'energy': -16.56903923,\n",
       " 'composition': {'Zn': 1.0, 'S': 3.0, 'In': 1.0},\n",
       " 'entry_id': None,\n",
       " 'correction': 1.2300000022946733e-06,\n",
       " 'energy_adjustments': [{'@module': 'pymatgen.entries.computed_entries',\n",
       "   '@class': 'ManualEnergyAdjustment',\n",
       "   '@version': None,\n",
       "   'value': 1.2300000022946733e-06}],\n",
       " 'parameters': {},\n",
       " 'data': {'mat_id': 'agm002582981',\n",
       "  'prototype_id': 'ABC3_0_spg221',\n",
       "  'location': 'extra/rng/S/S3ZnIn/xxx_02s-00_agm002582981_spg221',\n",
       "  'formula': 'ZnInS3',\n",
       "  'elements': ['Zn', 'S', 'In'],\n",
       "  'spg': 221,\n",
       "  'nsites': 5,\n",
       "  'stress': [[1.5294205, 0.0, 0.0],\n",
       "   [0.0, 1.5294205, 0.0],\n",
       "   [0.0, 0.0, 1.5294205]],\n",
       "  'energy_total': -16.56903923,\n",
       "  'total_mag': 0.0001156,\n",
       "  'band_gap_ind': 0.0,\n",
       "  'band_gap_dir': 0.0,\n",
       "  'dos_ef': 5.358309,\n",
       "  'energy_corrected': -16.569038,\n",
       "  'e_above_hull': 0.8426449,\n",
       "  'e_form': 0.22962964,\n",
       "  'e_phase_separation': 0.8426449,\n",
       "  'decomposition': ' In2S3  S  ZnS '},\n",
       " 'structure': {'@module': 'pymatgen.core.structure',\n",
       "  '@class': 'Structure',\n",
       "  'charge': 0,\n",
       "  'lattice': {'matrix': [[4.63270265, 0.0, 0.0],\n",
       "    [0.0, 4.63270265, 0.0],\n",
       "    [0.0, 0.0, 4.63270265]],\n",
       "   'pbc': [True, True, True],\n",
       "   'a': 4.63270265,\n",
       "   'b': 4.63270265,\n",
       "   'c': 4.63270265,\n",
       "   'alpha': 90.0,\n",
       "   'beta': 90.0,\n",
       "   'gamma': 90.0,\n",
       "   'volume': 99.42675779005944},\n",
       "  'sites': [{'species': [{'element': 'Zn', 'occu': 1}],\n",
       "    'abc': [0.0, 0.0, 0.0],\n",
       "    'xyz': [0.0, 0.0, 0.0],\n",
       "    'label': 'Zn',\n",
       "    'properties': {'magmom': -0.0,\n",
       "     'charge': 10.969,\n",
       "     'forces': [0.0, 0.0, 0.0]}},\n",
       "   {'species': [{'element': 'S', 'occu': 1}],\n",
       "    'abc': [0.0, 0.5, 0.0],\n",
       "    'xyz': [0.0, 2.316351325, 0.0],\n",
       "    'label': 'S',\n",
       "    'properties': {'magmom': 0.0, 'charge': 3.611, 'forces': [0.0, 0.0, 0.0]}},\n",
       "   {'species': [{'element': 'S', 'occu': 1}],\n",
       "    'abc': [0.0, 0.0, 0.5],\n",
       "    'xyz': [0.0, 0.0, 2.316351325],\n",
       "    'label': 'S',\n",
       "    'properties': {'magmom': 0.0, 'charge': 3.611, 'forces': [0.0, 0.0, 0.0]}},\n",
       "   {'species': [{'element': 'S', 'occu': 1}],\n",
       "    'abc': [0.5, 0.0, 0.0],\n",
       "    'xyz': [2.316351325, 0.0, 0.0],\n",
       "    'label': 'S',\n",
       "    'properties': {'magmom': 0.0, 'charge': 3.611, 'forces': [0.0, 0.0, 0.0]}},\n",
       "   {'species': [{'element': 'In', 'occu': 1}],\n",
       "    'abc': [0.5, 0.5, 0.5],\n",
       "    'xyz': [2.316351325, 2.316351325, 2.316351325],\n",
       "    'label': 'In',\n",
       "    'properties': {'magmom': -0.0,\n",
       "     'charge': 11.085,\n",
       "     'forces': [0.0, 0.0, 0.0]}}]}}"
      ]
     },
     "execution_count": 67,
     "metadata": {},
     "output_type": "execute_result"
    }
   ],
   "source": [
    "data[\"entries\"][0]"
   ]
  },
  {
   "cell_type": "code",
   "execution_count": 39,
   "id": "be63408b-f715-4dd0-8673-7e8b86ab5fb1",
   "metadata": {
    "tags": []
   },
   "outputs": [
    {
     "data": {
      "text/plain": [
       "[-0.0, -0.0, -0.00965695]"
      ]
     },
     "execution_count": 39,
     "metadata": {},
     "output_type": "execute_result"
    }
   ],
   "source": [
    "data[\"entries\"][12][\"structure\"][\"sites\"][1][\"properties\"][\"forces\"]"
   ]
  },
  {
   "cell_type": "code",
   "execution_count": 51,
   "id": "930925b1-69f0-4550-9972-2655c56a9dcb",
   "metadata": {},
   "outputs": [
    {
     "name": "stdout",
     "output_type": "stream",
     "text": [
      "9\n",
      "-0.001\n"
     ]
    }
   ],
   "source": [
    "def check_if_all_atomic_properties_are_same():\n",
    "    for i, entry in enumerate(data[\"entries\"]):\n",
    "        structure = entry[\"structure\"]\n",
    "        for site in structure[\"sites\"]:\n",
    "            magnetic_moment = site[\"properties\"][\"magmom\"]\n",
    "            if magnetic_moment != 0.0:\n",
    "                print(i)\n",
    "                print(magnetic_moment)\n",
    "                # if i > 1000:\n",
    "                #     return\n",
    "                return\n",
    "check_if_all_atomic_properties_are_same()"
   ]
  },
  {
   "cell_type": "code",
   "execution_count": 66,
   "id": "4daac66a-f3a2-495f-bfc6-1ecd3a10a397",
   "metadata": {
    "tags": []
   },
   "outputs": [],
   "source": [
    "def check_if_all_structural_properties_are_same():\n",
    "    for i, entry in enumerate(data[\"entries\"]):\n",
    "        structure = entry[\"structure\"]\n",
    "        if structure[\"charge\"] != 0.0:\n",
    "            print(i)\n",
    "            print(structure[\"charge\"])\n",
    "            # if i > 1000:\n",
    "            #     return\n",
    "            return\n",
    "check_if_all_structural_properties_are_same()"
   ]
  }
 ],
 "metadata": {
  "kernelspec": {
   "display_name": "Python 3 (ipykernel)",
   "language": "python",
   "name": "python3"
  },
  "language_info": {
   "codemirror_mode": {
    "name": "ipython",
    "version": 3
   },
   "file_extension": ".py",
   "mimetype": "text/x-python",
   "name": "python",
   "nbconvert_exporter": "python",
   "pygments_lexer": "ipython3",
   "version": "3.11.8"
  }
 },
 "nbformat": 4,
 "nbformat_minor": 5
}
