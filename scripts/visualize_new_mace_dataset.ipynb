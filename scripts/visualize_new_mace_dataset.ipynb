{
 "cells": [
  {
   "cell_type": "code",
   "execution_count": 19,
   "id": "6bb98877-eda5-439e-a832-9e79b19d07c7",
   "metadata": {
    "tags": []
   },
   "outputs": [],
   "source": [
    "import h5py\n",
    "from tqdm import tqdm\n",
    "from ase import Atoms\n",
    "from ase.calculators.singlepoint import SinglePointCalculator"
   ]
  },
  {
   "cell_type": "code",
   "execution_count": 43,
   "id": "a832474d-0635-4990-9680-ebba37d268f4",
   "metadata": {
    "tags": []
   },
   "outputs": [],
   "source": [
    "def get_entries(in_dir, file_name):\n",
    "    entries = []\n",
    "\n",
    "    with h5py.File(f\"{in_dir}/{file_name}.h5\", 'r') as hdf5_file:\n",
    "        num_configs = len(hdf5_file[\"config_batch_0\"])\n",
    "        # num_configs = 1000\n",
    "        for i in tqdm(range(num_configs)):\n",
    "            config_group = hdf5_file[f'config_batch_0/config_{i}']\n",
    "            atomic_numbers = config_group['atomic_numbers'][:]\n",
    "\n",
    "            # filter out samples\n",
    "            # if not all([element in most_common_elements_only_one_per_sample for element in atomic_numbers]):\n",
    "            #     continue\n",
    "\n",
    "\n",
    "            # cell = config_group['cell'][:]\n",
    "            # charges = config_group['charges'][:]\n",
    "            # energy = config_group['energy'][()] # curtis: why is energy ()??\n",
    "            # forces = config_group['forces'][:]\n",
    "            # positions = config_group['positions'][:]\n",
    "            \n",
    "            # Extract properties\n",
    "            properties = {\n",
    "                'atomic_numbers': config_group['atomic_numbers'][:],\n",
    "                'cell': config_group['cell'][:],\n",
    "                'charges': config_group['charges'][:],\n",
    "                'config_type': config_group['config_type'][()],  # Assuming scalar\n",
    "                'dipole': config_group['dipole'][:],\n",
    "                'energy': config_group['energy'][()],  # Assuming scalar\n",
    "                'energy_weight': config_group['energy_weight'][()],  # Assuming scalar\n",
    "                'forces': config_group['forces'][:],\n",
    "                'forces_weight': config_group['forces_weight'][()],  # Assuming scalar\n",
    "                'pbc': config_group['pbc'][:],\n",
    "                'positions': config_group['positions'][:],\n",
    "                'stress': config_group['stress'][:],\n",
    "                'stress_weight': config_group['stress_weight'][()],  # Assuming scalar\n",
    "                'virials': config_group['virials'][:],\n",
    "                'virials_weight': config_group['virials_weight'][()],  # Assuming scalar\n",
    "                'weight': config_group['weight'][()]  # Assuming scalar\n",
    "            }\n",
    "            \n",
    "            # we do NOT need to save it. as an atoms object!\n",
    "            \n",
    "\n",
    "            # I checked. positions=positions are setting the cartesian coordinates.\n",
    "            #atoms = Atoms(numbers=atomic_numbers, positions=positions, cell=cell, pbc=[True, True, True], charges=charges)\n",
    "            #atoms = Atoms(numbers=atomic_numbers, positions=positions, cell=cell, pbc=[True, True, True], charges=charges)\n",
    "\n",
    "            # I verified that the energy IS the energy that includes the correction (see curtis_read_alexandria.ipynb)\n",
    "            #calc = SinglePointCalculator(atoms, energy=energy, forces=forces)\n",
    "            #atoms.set_calculator(calc)\n",
    "            entries.append(properties)\n",
    "\n",
    "    print(f\"found {num_configs} systems\")\n",
    "    print(f\"after filtering, found {len(entries)} systems\")\n",
    "    return entries"
   ]
  },
  {
   "cell_type": "code",
   "execution_count": 44,
   "id": "fa52f792-b4a9-4747-9ed2-0beea0abe11c",
   "metadata": {
    "tags": []
   },
   "outputs": [
    {
     "name": "stdout",
     "output_type": "stream",
     "text": [
      "parsing train_0\n"
     ]
    },
    {
     "name": "stderr",
     "output_type": "stream",
     "text": [
      "100%|████████████████████████████████████████████████████████████████████████████████████████| 24661/24661 [00:15<00:00, 1612.92it/s]"
     ]
    },
    {
     "name": "stdout",
     "output_type": "stream",
     "text": [
      "found 24661 systems\n",
      "after filtering, found 24661 systems\n"
     ]
    },
    {
     "name": "stderr",
     "output_type": "stream",
     "text": [
      "\n"
     ]
    }
   ],
   "source": [
    "IN_TRAIN_DIR = \"/Users/curtischong/Documents/dev/joule/datasets/real_mace/train\"\n",
    "\n",
    "def parse_datasets(in_dir, in_dir_prefix, num_files):\n",
    "    results = []\n",
    "    for i in range(num_files):\n",
    "        print(f\"parsing {in_dir_prefix}_{i}\")\n",
    "        results.extend(get_entries(in_dir, f\"{in_dir_prefix}_{i}\"))\n",
    "    return results\n",
    "\n",
    "results = parse_datasets(IN_TRAIN_DIR, \"train\", num_files=1) # TODO: increase num_files"
   ]
  },
  {
   "cell_type": "code",
   "execution_count": 45,
   "id": "d0b59711-6b48-44c9-bd2b-33cbc8e465c7",
   "metadata": {
    "tags": []
   },
   "outputs": [
    {
     "data": {
      "text/plain": [
       "{'atomic_numbers': array([3, 8, 8]),\n",
       " 'cell': array([[ 2.30281076, -0.39696027,  2.29894373],\n",
       "        [ 0.69315251,  2.23160376,  2.29894368],\n",
       "        [-0.64823271, -0.39696027,  3.18871066]]),\n",
       " 'charges': array([0., 0., 0.]),\n",
       " 'config_type': b'Default',\n",
       " 'dipole': array([0., 0., 0.]),\n",
       " 'energy': -11.34848575,\n",
       " 'energy_weight': 1.0,\n",
       " 'forces': array([[-0.        , -0.        , -0.        ],\n",
       "        [ 0.0104404 ,  0.0063934 ,  0.03462714],\n",
       "        [-0.0104404 , -0.0063934 , -0.03462714]]),\n",
       " 'forces_weight': 1.0,\n",
       " 'pbc': array([ True,  True,  True]),\n",
       " 'positions': array([[1.17386892, 0.71884384, 3.89330044],\n",
       "        [0.59527832, 0.36452604, 1.97431853],\n",
       "        [1.75246006, 1.07315113, 5.81228413]]),\n",
       " 'stress': array([[ 0.00309506, -0.00038883, -0.00210592],\n",
       "        [-0.00038883,  0.00349191, -0.0012896 ],\n",
       "        [-0.00210592, -0.0012896 , -0.00325457]]),\n",
       " 'stress_weight': 1.0,\n",
       " 'virials': array([[0., 0., 0.],\n",
       "        [0., 0., 0.],\n",
       "        [0., 0., 0.]]),\n",
       " 'virials_weight': 0.0,\n",
       " 'weight': 1.0}"
      ]
     },
     "execution_count": 45,
     "metadata": {},
     "output_type": "execute_result"
    }
   ],
   "source": [
    "results[9000]"
   ]
  },
  {
   "cell_type": "code",
   "execution_count": 46,
   "id": "5e8adf06-1443-447a-8264-ecbc0da1a12a",
   "metadata": {
    "tags": []
   },
   "outputs": [
    {
     "data": {
      "text/plain": [
       "{'atomic_numbers': array([3, 8, 8]),\n",
       " 'cell': array([[ 2.30281076, -0.39696027,  2.29894373],\n",
       "        [ 0.69315251,  2.23160376,  2.29894368],\n",
       "        [-0.64823271, -0.39696027,  3.18871066]]),\n",
       " 'charges': array([0., 0., 0.]),\n",
       " 'config_type': b'Default',\n",
       " 'dipole': array([0., 0., 0.]),\n",
       " 'energy': -11.62460911,\n",
       " 'energy_weight': 1.0,\n",
       " 'forces': array([[ 0.        ,  0.        ,  0.        ],\n",
       "        [-0.00057577, -0.00035259, -0.00190963],\n",
       "        [ 0.00057577,  0.00035259,  0.00190963]]),\n",
       " 'forces_weight': 1.0,\n",
       " 'pbc': array([ True,  True,  True]),\n",
       " 'positions': array([[1.17386892, 0.71884384, 3.89330044],\n",
       "        [0.59527832, 0.36452604, 1.97431853],\n",
       "        [1.75246006, 1.07315113, 5.81228413]]),\n",
       " 'stress': array([[-0.09327584,  0.00276309,  0.01496505],\n",
       "        [ 0.00276309, -0.09609598,  0.00916419],\n",
       "        [ 0.01496505,  0.00916419, -0.04815416]]),\n",
       " 'stress_weight': 1.0,\n",
       " 'virials': array([[0., 0., 0.],\n",
       "        [0., 0., 0.],\n",
       "        [0., 0., 0.]]),\n",
       " 'virials_weight': 0.0,\n",
       " 'weight': 1.0}"
      ]
     },
     "execution_count": 46,
     "metadata": {},
     "output_type": "execute_result"
    }
   ],
   "source": [
    "results[3666]"
   ]
  },
  {
   "cell_type": "code",
   "execution_count": null,
   "id": "f6e0be81-fd53-4348-bbe6-98ed2c82bfda",
   "metadata": {},
   "outputs": [],
   "source": [
    "# forces, stress and energy are the only thigns that are diff^^^"
   ]
  },
  {
   "cell_type": "code",
   "execution_count": 40,
   "id": "51c412f9-2139-4671-ae9c-6930f1d988d9",
   "metadata": {
    "tags": []
   },
   "outputs": [
    {
     "data": {
      "text/plain": [
       "array([0., 0., 0.])"
      ]
     },
     "execution_count": 40,
     "metadata": {},
     "output_type": "execute_result"
    }
   ],
   "source": [
    "results[9000]"
   ]
  },
  {
   "cell_type": "code",
   "execution_count": 41,
   "id": "fc05dcc9-4f28-4f86-a987-c773f57bb888",
   "metadata": {
    "tags": []
   },
   "outputs": [
    {
     "data": {
      "text/plain": [
       "array([0., 0., 0.])"
      ]
     },
     "execution_count": 41,
     "metadata": {},
     "output_type": "execute_result"
    }
   ],
   "source": [
    "results[3666].get_initial_charges()"
   ]
  },
  {
   "cell_type": "code",
   "execution_count": 30,
   "id": "1e86fad5-e765-4e38-a4ee-26a14f328558",
   "metadata": {
    "tags": []
   },
   "outputs": [
    {
     "data": {
      "text/plain": [
       "{'energy': -11.34848575,\n",
       " 'forces': array([[-0.        , -0.        , -0.        ],\n",
       "        [ 0.0104404 ,  0.0063934 ,  0.03462714],\n",
       "        [-0.0104404 , -0.0063934 , -0.03462714]])}"
      ]
     },
     "execution_count": 30,
     "metadata": {},
     "output_type": "execute_result"
    }
   ],
   "source": [
    "results[9000].calc.results"
   ]
  },
  {
   "cell_type": "code",
   "execution_count": 29,
   "id": "4f25c3c8-0dca-4f5d-8f8b-864e8021eb69",
   "metadata": {
    "tags": []
   },
   "outputs": [
    {
     "data": {
      "text/plain": [
       "{'energy': -11.62460911,\n",
       " 'forces': array([[ 0.        ,  0.        ,  0.        ],\n",
       "        [-0.00057577, -0.00035259, -0.00190963],\n",
       "        [ 0.00057577,  0.00035259,  0.00190963]])}"
      ]
     },
     "execution_count": 29,
     "metadata": {},
     "output_type": "execute_result"
    }
   ],
   "source": [
    "results[3666].calc.results"
   ]
  }
 ],
 "metadata": {
  "kernelspec": {
   "display_name": "Python 3 (ipykernel)",
   "language": "python",
   "name": "python3"
  },
  "language_info": {
   "codemirror_mode": {
    "name": "ipython",
    "version": 3
   },
   "file_extension": ".py",
   "mimetype": "text/x-python",
   "name": "python",
   "nbconvert_exporter": "python",
   "pygments_lexer": "ipython3",
   "version": "3.11.8"
  }
 },
 "nbformat": 4,
 "nbformat_minor": 5
}
