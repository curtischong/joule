{
 "cells": [
  {
   "cell_type": "code",
   "execution_count": 1,
   "id": "03b7f2f6-6c1a-485d-a4b9-8a7a81eaaa42",
   "metadata": {
    "tags": []
   },
   "outputs": [],
   "source": [
    "import json\n",
    "import lmdb\n",
    "from pathlib import Path\n",
    "import pickle"
   ]
  },
  {
   "cell_type": "code",
   "execution_count": 4,
   "id": "df760672-3c05-4210-b670-13c2adc88afd",
   "metadata": {
    "tags": []
   },
   "outputs": [],
   "source": [
    "#predictions = \"../out/worse_mae/worse_preds_epoch_1.json\"\n",
    "predictions = \"../../calan_out/worse_preds_epoch_25.json\"\n",
    "\n",
    "with open(predictions) as f:\n",
    "    res = json.load(f)\n",
    "energy_losses = sorted(res[\"worse_energy\"], key=lambda x: x[\"loss\"], reverse=True)\n",
    "forces_losses = sorted(res[\"worse_forces\"], key=lambda x: x[\"loss\"], reverse=True)"
   ]
  },
  {
   "cell_type": "code",
   "execution_count": 5,
   "id": "5f01aeb8-6a9e-445b-a553-fedfe125a39f",
   "metadata": {
    "tags": []
   },
   "outputs": [
    {
     "data": {
      "text/plain": [
       "48"
      ]
     },
     "execution_count": 5,
     "metadata": {},
     "output_type": "execute_result"
    }
   ],
   "source": [
    "# used to verify that we're getting the right element in the DB (cause they should have the same number of atoms as the num of pred_forces)\n",
    "len(forces_losses[0][\"pred_forces\"])"
   ]
  },
  {
   "cell_type": "code",
   "execution_count": 6,
   "id": "a9576d10-9e42-4d75-b13b-f6ad04757f22",
   "metadata": {
    "tags": []
   },
   "outputs": [
    {
     "data": {
      "text/plain": [
       "{'loss': 75.14788818359375,\n",
       " 'pred_energy': -126.96995544433594,\n",
       " 'dataset_path': 'datasets/lmdb/real_mace3/train',\n",
       " 'data_idx': 158880}"
      ]
     },
     "execution_count": 6,
     "metadata": {},
     "output_type": "execute_result"
    }
   ],
   "source": [
    "# used to verify that we're getting the right element in the DB (cause they should have the same number of atoms as the num of pred_forces)\n",
    "energy_losses[0]"
   ]
  },
  {
   "cell_type": "code",
   "execution_count": 7,
   "id": "3293a610-4cd6-433c-b5b1-62f6f03904cc",
   "metadata": {
    "tags": []
   },
   "outputs": [
    {
     "name": "stderr",
     "output_type": "stream",
     "text": [
      "/Users/curtischong/Documents/dev/joule/venv/lib/python3.11/site-packages/tqdm/auto.py:21: TqdmWarning: IProgress not found. Please update jupyter and ipywidgets. See https://ipywidgets.readthedocs.io/en/stable/user_install.html\n",
      "  from .autonotebook import tqdm as notebook_tqdm\n"
     ]
    },
    {
     "ename": "Error",
     "evalue": "../datasets/lmdb/real_mace3/train: Is a directory",
     "output_type": "error",
     "traceback": [
      "\u001b[0;31m---------------------------------------------------------------------------\u001b[0m",
      "\u001b[0;31mError\u001b[0m                                     Traceback (most recent call last)",
      "Cell \u001b[0;32mIn[7], line 48\u001b[0m\n\u001b[1;32m     45\u001b[0m     \u001b[38;5;28mprint\u001b[39m(\u001b[38;5;124mf\u001b[39m\u001b[38;5;124m\"\u001b[39m\u001b[38;5;124menergy loss: \u001b[39m\u001b[38;5;132;01m{\u001b[39;00mloss_dict[\u001b[38;5;124m'\u001b[39m\u001b[38;5;124menergy_loss\u001b[39m\u001b[38;5;124m'\u001b[39m]\u001b[38;5;132;01m}\u001b[39;00m\u001b[38;5;124m, num_atoms: \u001b[39m\u001b[38;5;132;01m{\u001b[39;00mres\u001b[38;5;241m.\u001b[39mnatoms\u001b[38;5;132;01m}\u001b[39;00m\u001b[38;5;124m\"\u001b[39m)\n\u001b[1;32m     46\u001b[0m     display(Structure(tiled_lattice, tiled_species, tiled_coordinates))\n\u001b[0;32m---> 48\u001b[0m \u001b[43mvisualize_sample\u001b[49m\u001b[43m(\u001b[49m\u001b[43menergy_losses\u001b[49m\u001b[43m[\u001b[49m\u001b[38;5;241;43m9\u001b[39;49m\u001b[43m]\u001b[49m\u001b[43m,\u001b[49m\u001b[43m \u001b[49m\u001b[38;5;241;43m1\u001b[39;49m\u001b[43m)\u001b[49m\n",
      "Cell \u001b[0;32mIn[7], line 33\u001b[0m, in \u001b[0;36mvisualize_sample\u001b[0;34m(loss_dict, tile_amount)\u001b[0m\n\u001b[1;32m     31\u001b[0m dataset_path \u001b[38;5;241m=\u001b[39m \u001b[38;5;124m\"\u001b[39m\u001b[38;5;124m../\u001b[39m\u001b[38;5;124m\"\u001b[39m \u001b[38;5;241m+\u001b[39m loss_dict[\u001b[38;5;124m\"\u001b[39m\u001b[38;5;124mdataset_path\u001b[39m\u001b[38;5;124m\"\u001b[39m]\n\u001b[1;32m     32\u001b[0m data_idx \u001b[38;5;241m=\u001b[39m loss_dict[\u001b[38;5;124m\"\u001b[39m\u001b[38;5;124mdata_idx\u001b[39m\u001b[38;5;124m\"\u001b[39m]\n\u001b[0;32m---> 33\u001b[0m db \u001b[38;5;241m=\u001b[39m \u001b[43mconnect_db\u001b[49m\u001b[43m(\u001b[49m\u001b[43mdataset_path\u001b[49m\u001b[43m)\u001b[49m\n\u001b[1;32m     35\u001b[0m datapoint_pickled \u001b[38;5;241m=\u001b[39m (\n\u001b[1;32m     36\u001b[0m     db\n\u001b[1;32m     37\u001b[0m     \u001b[38;5;241m.\u001b[39mbegin()\n\u001b[1;32m     38\u001b[0m     \u001b[38;5;241m.\u001b[39mget(\u001b[38;5;124mf\u001b[39m\u001b[38;5;124m\"\u001b[39m\u001b[38;5;132;01m{\u001b[39;00mdata_idx\u001b[38;5;132;01m}\u001b[39;00m\u001b[38;5;124m\"\u001b[39m\u001b[38;5;241m.\u001b[39mencode(\u001b[38;5;124m\"\u001b[39m\u001b[38;5;124mascii\u001b[39m\u001b[38;5;124m\"\u001b[39m))\n\u001b[1;32m     39\u001b[0m )\n\u001b[1;32m     40\u001b[0m res \u001b[38;5;241m=\u001b[39m pickle\u001b[38;5;241m.\u001b[39mloads(datapoint_pickled)\n",
      "Cell \u001b[0;32mIn[7], line 6\u001b[0m, in \u001b[0;36mconnect_db\u001b[0;34m(lmdb_path)\u001b[0m\n\u001b[1;32m      5\u001b[0m \u001b[38;5;28;01mdef\u001b[39;00m \u001b[38;5;21mconnect_db\u001b[39m(lmdb_path: Path \u001b[38;5;241m|\u001b[39m \u001b[38;5;28;01mNone\u001b[39;00m \u001b[38;5;241m=\u001b[39m \u001b[38;5;28;01mNone\u001b[39;00m) \u001b[38;5;241m-\u001b[39m\u001b[38;5;241m>\u001b[39m lmdb\u001b[38;5;241m.\u001b[39mEnvironment:\n\u001b[0;32m----> 6\u001b[0m     \u001b[38;5;28;01mreturn\u001b[39;00m \u001b[43mlmdb\u001b[49m\u001b[38;5;241;43m.\u001b[39;49m\u001b[43mopen\u001b[49m\u001b[43m(\u001b[49m\n\u001b[1;32m      7\u001b[0m \u001b[43m        \u001b[49m\u001b[38;5;28;43mstr\u001b[39;49m\u001b[43m(\u001b[49m\u001b[43mlmdb_path\u001b[49m\u001b[43m)\u001b[49m\u001b[43m,\u001b[49m\n\u001b[1;32m      8\u001b[0m \u001b[43m        \u001b[49m\u001b[43msubdir\u001b[49m\u001b[38;5;241;43m=\u001b[39;49m\u001b[38;5;28;43;01mFalse\u001b[39;49;00m\u001b[43m,\u001b[49m\n\u001b[1;32m      9\u001b[0m \u001b[43m        \u001b[49m\u001b[43mreadonly\u001b[49m\u001b[38;5;241;43m=\u001b[39;49m\u001b[38;5;28;43;01mTrue\u001b[39;49;00m\u001b[43m,\u001b[49m\n\u001b[1;32m     10\u001b[0m \u001b[43m        \u001b[49m\u001b[43mlock\u001b[49m\u001b[38;5;241;43m=\u001b[39;49m\u001b[38;5;28;43;01mFalse\u001b[39;49;00m\u001b[43m,\u001b[49m\n\u001b[1;32m     11\u001b[0m \u001b[43m        \u001b[49m\u001b[43mreadahead\u001b[49m\u001b[38;5;241;43m=\u001b[39;49m\u001b[38;5;28;43;01mTrue\u001b[39;49;00m\u001b[43m,\u001b[49m\n\u001b[1;32m     12\u001b[0m \u001b[43m        \u001b[49m\u001b[43mmeminit\u001b[49m\u001b[38;5;241;43m=\u001b[39;49m\u001b[38;5;28;43;01mFalse\u001b[39;49;00m\u001b[43m,\u001b[49m\n\u001b[1;32m     13\u001b[0m \u001b[43m        \u001b[49m\u001b[43mmax_readers\u001b[49m\u001b[38;5;241;43m=\u001b[39;49m\u001b[38;5;241;43m1\u001b[39;49m\u001b[43m,\u001b[49m\n\u001b[1;32m     14\u001b[0m \u001b[43m    \u001b[49m\u001b[43m)\u001b[49m\n",
      "\u001b[0;31mError\u001b[0m: ../datasets/lmdb/real_mace3/train: Is a directory"
     ]
    }
   ],
   "source": [
    "import crystal_toolkit\n",
    "from pymatgen.core import Structure\n",
    "import numpy as np\n",
    "\n",
    "def connect_db(lmdb_path: Path | None = None) -> lmdb.Environment:\n",
    "    return lmdb.open(\n",
    "        str(lmdb_path),\n",
    "        subdir=False,\n",
    "        readonly=True,\n",
    "        lock=False,\n",
    "        readahead=True,\n",
    "        meminit=False,\n",
    "        max_readers=1,\n",
    "    )\n",
    "\n",
    "\n",
    "def tile_structure(lattice, species, coordinates, scale):\n",
    "    tiled_lattice = lattice * scale * 0.75\n",
    "    tiled_coordinates_list = []\n",
    "    tiled_species = []\n",
    "    for i in range(scale):\n",
    "        for j in range(scale):\n",
    "            for k in range(scale):\n",
    "                new_coords = (coordinates + np.array([i, j, k])) / scale\n",
    "                tiled_coordinates_list.append(new_coords)\n",
    "                tiled_species.extend(species)\n",
    "    tiled_coordinates = np.concatenate(tiled_coordinates_list, axis=0)\n",
    "    return tiled_lattice, tiled_species, tiled_coordinates\n",
    "\n",
    "# reads all datasets\n",
    "def read_datasets():\n",
    "    dataset_path = \"../\" + loss_dict[\"dataset_path\"]\n",
    "\n",
    "def visualize_sample(loss_dict, tile_amount=1):\n",
    "    dataset_path = \"../\" + loss_dict[\"dataset_path\"]\n",
    "    data_idx = loss_dict[\"data_idx\"]\n",
    "    db = connect_db(dataset_path)\n",
    "    \n",
    "    datapoint_pickled = (\n",
    "        db\n",
    "        .begin()\n",
    "        .get(f\"{data_idx}\".encode(\"ascii\"))\n",
    "    )\n",
    "    res = pickle.loads(datapoint_pickled)\n",
    "    lattice = res.cell\n",
    "    species = res.atomic_numbers\n",
    "    coordinates = res.pos\n",
    "    tiled_lattice, tiled_species, tiled_coordinates = tile_structure(lattice, species, coordinates, tile_amount)\n",
    "    print(f\"energy loss: {loss_dict['energy_loss']}, num_atoms: {res.natoms}\")\n",
    "    display(Structure(tiled_lattice, tiled_species, tiled_coordinates))\n",
    "    \n",
    "visualize_sample(energy_losses[9], 1)"
   ]
  },
  {
   "cell_type": "code",
   "execution_count": null,
   "id": "ec1d3580-1586-4b79-9236-ef3e0f2e8cab",
   "metadata": {
    "tags": []
   },
   "outputs": [],
   "source": [
    "# I want to see the number of atoms in each cell since I noticed that the model sucks at predicting the energy when there's a large number of atoms\n",
    "def visualize_sample(loss_dicts, tile_amount=1):\n",
    "    for loss_dict in loss_dicts:\n",
    "        dataset_path = \"../\" + loss_dict[\"dataset_path\"]\n",
    "        data_idx = loss_dict[\"data_idx\"]\n",
    "        db = connect_db(dataset_path)\n",
    "    \n",
    "        datapoint_pickled = (\n",
    "            db\n",
    "            .begin()\n",
    "            .get(f\"{data_idx}\".encode(\"ascii\"))\n",
    "        )\n",
    "        res = pickle.loads(datapoint_pickled)\n",
    "        print(res.natoms)\n",
    "visualize_sample(energy_losses)"
   ]
  }
 ],
 "metadata": {
  "kernelspec": {
   "display_name": "Python 3 (ipykernel)",
   "language": "python",
   "name": "python3"
  },
  "language_info": {
   "codemirror_mode": {
    "name": "ipython",
    "version": 3
   },
   "file_extension": ".py",
   "mimetype": "text/x-python",
   "name": "python",
   "nbconvert_exporter": "python",
   "pygments_lexer": "ipython3",
   "version": "3.11.8"
  }
 },
 "nbformat": 4,
 "nbformat_minor": 5
}
