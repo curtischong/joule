{
 "cells": [
  {
   "cell_type": "code",
   "execution_count": 6,
   "id": "dd1bc02a-1750-4612-aac3-dbdc9edb33e0",
   "metadata": {
    "tags": []
   },
   "outputs": [
    {
     "name": "stdout",
     "output_type": "stream",
     "text": [
      "heap_contents_epoch_1.txt: Energy Heap: [(19.222490310668945, 'datasets/lmdb/alexandria_10_val.lmdb', 8), (32.82561492919922, 'datasets/lmdb/alexandria_10_val.lmdb', 6), (69.43992614746094, 'datasets/lmdb/alexandria_10_val.lmdb', 5)]\n",
      "heap_contents_epoch_7.txt: Energy Heap: [(19.22236442565918, 'datasets/lmdb/alexandria_10_val.lmdb', 8), (32.82526397705078, 'datasets/lmdb/alexandria_10_val.lmdb', 6), (69.4393539428711, 'datasets/lmdb/alexandria_10_val.lmdb', 5)]\n",
      "heap_contents_epoch_13.txt: Energy Heap: [(19.222087860107422, 'datasets/lmdb/alexandria_10_val.lmdb', 8), (32.82468032836914, 'datasets/lmdb/alexandria_10_val.lmdb', 6), (69.43816375732422, 'datasets/lmdb/alexandria_10_val.lmdb', 5)]\n",
      "heap_contents_epoch_3.txt: Energy Heap: [(19.222490310668945, 'datasets/lmdb/alexandria_10_val.lmdb', 8), (32.82561492919922, 'datasets/lmdb/alexandria_10_val.lmdb', 6), (69.43992614746094, 'datasets/lmdb/alexandria_10_val.lmdb', 5)]\n",
      "heap_contents_epoch_9.txt: Energy Heap: [(19.222253799438477, 'datasets/lmdb/alexandria_10_val.lmdb', 8), (32.825111389160156, 'datasets/lmdb/alexandria_10_val.lmdb', 6), (69.43897247314453, 'datasets/lmdb/alexandria_10_val.lmdb', 5)]\n",
      "heap_contents_epoch_11.txt: Energy Heap: [(19.222150802612305, 'datasets/lmdb/alexandria_10_val.lmdb', 8), (69.43854522705078, 'datasets/lmdb/alexandria_10_val.lmdb', 5), (32.824886322021484, 'datasets/lmdb/alexandria_10_val.lmdb', 6)]\n",
      "heap_contents_epoch_5.txt: Energy Heap: [(19.22241973876953, 'datasets/lmdb/alexandria_10_val.lmdb', 8), (69.43961334228516, 'datasets/lmdb/alexandria_10_val.lmdb', 5), (32.82549285888672, 'datasets/lmdb/alexandria_10_val.lmdb', 6)]\n"
     ]
    }
   ],
   "source": [
    "import os\n",
    "\n",
    "file_path = '../datasets/worst_errors/'\n",
    "\n",
    "for filename in os.listdir(file_path):\n",
    "    if filename.endswith('.txt'):\n",
    "        with open(os.path.join(file_path, filename), 'r') as file:\n",
    "            first_line = file.readline().strip()\n",
    "            print(f\"{filename}: {first_line}\")"
   ]
  },
  {
   "cell_type": "code",
   "execution_count": 8,
   "id": "996701cb-38e9-4575-8335-89e97f96279a",
   "metadata": {
    "tags": []
   },
   "outputs": [
    {
     "data": {
      "text/plain": [
       "['alexandria_10_train.lmdb-lock',\n",
       " 'alexandria_1_val.lmdb-lock',\n",
       " 'alexandria_all_train.lmdb-lock',\n",
       " 'alexandria_1_train.lmdb-lock',\n",
       " 'alexandria_all_test.lmdb-lock',\n",
       " 'alexandria_10_train.lmdb',\n",
       " 'alexandria_1000_val.lmdb-lock',\n",
       " 'alexandria_1_train.lmdb',\n",
       " 'alexandria_all_val.lmdb-lock',\n",
       " 'alexandria_all_train.lmdb',\n",
       " 'real_mace',\n",
       " 'alexandria_1000_test.lmdb-lock',\n",
       " 'alexandria_10_test.lmdb',\n",
       " 'alexandria_1000_val.lmdb',\n",
       " 'alexandria_10_val.lmdb',\n",
       " 'alexandria_1_test.lmdb',\n",
       " 'alexandria_1000_test.lmdb',\n",
       " 'alexandria_1000_train.lmdb',\n",
       " 'alexandria_1000_train.lmdb-lock',\n",
       " 'alexandria_10_test.lmdb-lock',\n",
       " 'alexandria_1_test.lmdb-lock',\n",
       " 'alexandria_1_val.lmdb',\n",
       " 'alexandria_all_test.lmdb',\n",
       " 'alexandria_all_val.lmdb',\n",
       " 'alexandria_10_val.lmdb-lock']"
      ]
     },
     "execution_count": 8,
     "metadata": {},
     "output_type": "execute_result"
    }
   ],
   "source": [
    "import os\n",
    "\n",
    "# List the contents of the directory\n",
    "directory_path = '../datasets/lmdb'\n",
    "os.listdir(directory_path)"
   ]
  },
  {
   "cell_type": "code",
   "execution_count": 12,
   "id": "b5a2ecee-2031-4434-8282-4d076330816b",
   "metadata": {
    "tags": []
   },
   "outputs": [
    {
     "name": "stdout",
     "output_type": "stream",
     "text": [
      "File exists: True\n"
     ]
    }
   ],
   "source": [
    "import os\n",
    "\n",
    "file_path = '../datasets/lmdb/alexandria_10_val.lmdb'\n",
    "\n",
    "# Check if the file exists\n",
    "file_exists = os.path.exists(file_path)\n",
    "\n",
    "print(f\"File exists: {file_exists}\")"
   ]
  },
  {
   "cell_type": "code",
   "execution_count": 16,
   "id": "bec98558-de72-421e-b66e-87d65aa22eea",
   "metadata": {
    "tags": []
   },
   "outputs": [
    {
     "name": "stdout",
     "output_type": "stream",
     "text": [
      "Entry for index 1 : Data(pos=[5, 3], cell=[1, 3, 3], atomic_numbers=[5], natoms=5, tags=[4], edge_index=[2, 96], cell_offsets=[96, 3], energy=-41.463726, forces=[5, 3], fixed=[5], sid=[1], fid=[1])\n"
     ]
    }
   ],
   "source": [
    "import lmdb\n",
    "import pickle\n",
    "\n",
    "file_path = '../datasets/lmdb/alexandria_10_val.lmdb'\n",
    "index_to_access = 1\n",
    "\n",
    "# Convert the index to the corresponding key\n",
    "specific_key = str(index_to_access).encode('utf-8')\n",
    "\n",
    "env = lmdb.open(file_path, subdir=False, readonly=True, lock=False)\n",
    "with env.begin() as txn:\n",
    "    value = txn.get(specific_key)\n",
    "\n",
    "if value:\n",
    "    entry = pickle.loads(value)\n",
    "    print(\"Entry for index\", index_to_access, \":\", entry)\n",
    "else:\n",
    "    print(\"Key not found\")"
   ]
  },
  {
   "cell_type": "code",
   "execution_count": 18,
   "id": "27d1451e-a811-46f4-be42-d0d47be9f01a",
   "metadata": {
    "tags": []
   },
   "outputs": [
    {
     "data": {
      "text/plain": [
       "['__annotations__',\n",
       " '__call__',\n",
       " '__cat_dim__',\n",
       " '__class__',\n",
       " '__contains__',\n",
       " '__copy__',\n",
       " '__deepcopy__',\n",
       " '__delattr__',\n",
       " '__delitem__',\n",
       " '__dict__',\n",
       " '__dir__',\n",
       " '__doc__',\n",
       " '__eq__',\n",
       " '__format__',\n",
       " '__ge__',\n",
       " '__getattr__',\n",
       " '__getattribute__',\n",
       " '__getitem__',\n",
       " '__getstate__',\n",
       " '__gt__',\n",
       " '__hash__',\n",
       " '__inc__',\n",
       " '__init__',\n",
       " '__init_subclass__',\n",
       " '__iter__',\n",
       " '__le__',\n",
       " '__len__',\n",
       " '__lt__',\n",
       " '__module__',\n",
       " '__ne__',\n",
       " '__new__',\n",
       " '__reduce__',\n",
       " '__reduce_ex__',\n",
       " '__repr__',\n",
       " '__setattr__',\n",
       " '__setitem__',\n",
       " '__setstate__',\n",
       " '__sizeof__',\n",
       " '__str__',\n",
       " '__subclasshook__',\n",
       " '__weakref__',\n",
       " '_edge_attr_cls',\n",
       " '_edge_to_layout',\n",
       " '_edges_to_layout',\n",
       " '_get_edge_index',\n",
       " '_get_tensor',\n",
       " '_get_tensor_size',\n",
       " '_multi_get_tensor',\n",
       " '_put_edge_index',\n",
       " '_put_tensor',\n",
       " '_remove_edge_index',\n",
       " '_remove_tensor',\n",
       " '_store',\n",
       " '_tensor_attr_cls',\n",
       " '_to_type',\n",
       " 'apply',\n",
       " 'apply_',\n",
       " 'batch',\n",
       " 'clone',\n",
       " 'coalesce',\n",
       " 'concat',\n",
       " 'contains_isolated_nodes',\n",
       " 'contains_self_loops',\n",
       " 'contiguous',\n",
       " 'coo',\n",
       " 'cpu',\n",
       " 'csc',\n",
       " 'csr',\n",
       " 'cuda',\n",
       " 'debug',\n",
       " 'detach',\n",
       " 'detach_',\n",
       " 'edge_attr',\n",
       " 'edge_attrs',\n",
       " 'edge_index',\n",
       " 'edge_stores',\n",
       " 'edge_subgraph',\n",
       " 'edge_weight',\n",
       " 'face',\n",
       " 'from_dict',\n",
       " 'generate_ids',\n",
       " 'get_all_edge_attrs',\n",
       " 'get_all_tensor_attrs',\n",
       " 'get_edge_index',\n",
       " 'get_tensor',\n",
       " 'get_tensor_size',\n",
       " 'has_isolated_nodes',\n",
       " 'has_self_loops',\n",
       " 'is_coalesced',\n",
       " 'is_cuda',\n",
       " 'is_directed',\n",
       " 'is_edge_attr',\n",
       " 'is_node_attr',\n",
       " 'is_sorted',\n",
       " 'is_sorted_by_time',\n",
       " 'is_undirected',\n",
       " 'keys',\n",
       " 'multi_get_tensor',\n",
       " 'node_attrs',\n",
       " 'node_offsets',\n",
       " 'node_stores',\n",
       " 'num_edge_features',\n",
       " 'num_edge_types',\n",
       " 'num_edges',\n",
       " 'num_faces',\n",
       " 'num_features',\n",
       " 'num_node_features',\n",
       " 'num_node_types',\n",
       " 'num_nodes',\n",
       " 'pin_memory',\n",
       " 'pos',\n",
       " 'put_edge_index',\n",
       " 'put_tensor',\n",
       " 'record_stream',\n",
       " 'remove_edge_index',\n",
       " 'remove_tensor',\n",
       " 'requires_grad_',\n",
       " 'share_memory_',\n",
       " 'size',\n",
       " 'snapshot',\n",
       " 'sort',\n",
       " 'sort_by_time',\n",
       " 'stores',\n",
       " 'stores_as',\n",
       " 'subgraph',\n",
       " 'time',\n",
       " 'to',\n",
       " 'to_dict',\n",
       " 'to_heterogeneous',\n",
       " 'to_namedtuple',\n",
       " 'up_to',\n",
       " 'update',\n",
       " 'update_tensor',\n",
       " 'validate',\n",
       " 'view',\n",
       " 'x',\n",
       " 'y']"
      ]
     },
     "execution_count": 18,
     "metadata": {},
     "output_type": "execute_result"
    }
   ],
   "source": [
    "dir(entry)"
   ]
  },
  {
   "cell_type": "code",
   "execution_count": 20,
   "id": "c45a3711-01dd-40a8-971c-623488ab9086",
   "metadata": {
    "tags": []
   },
   "outputs": [
    {
     "data": {
      "text/plain": [
       "tensor([[0.0000, 0.0000, 0.0000],\n",
       "        [0.0000, 2.4384, 0.0000],\n",
       "        [0.0000, 0.0000, 2.4384],\n",
       "        [2.4384, 0.0000, 0.0000],\n",
       "        [2.4384, 2.4384, 2.4384]])"
      ]
     },
     "execution_count": 20,
     "metadata": {},
     "output_type": "execute_result"
    }
   ],
   "source": [
    "entry.pos"
   ]
  },
  {
   "cell_type": "code",
   "execution_count": null,
   "id": "169dbbea-677b-4ef1-ad4d-d4614e53edb2",
   "metadata": {},
   "outputs": [],
   "source": []
  }
 ],
 "metadata": {
  "kernelspec": {
   "display_name": "Python 3 (ipykernel)",
   "language": "python",
   "name": "python3"
  },
  "language_info": {
   "codemirror_mode": {
    "name": "ipython",
    "version": 3
   },
   "file_extension": ".py",
   "mimetype": "text/x-python",
   "name": "python",
   "nbconvert_exporter": "python",
   "pygments_lexer": "ipython3",
   "version": "3.11.9"
  }
 },
 "nbformat": 4,
 "nbformat_minor": 5
}
